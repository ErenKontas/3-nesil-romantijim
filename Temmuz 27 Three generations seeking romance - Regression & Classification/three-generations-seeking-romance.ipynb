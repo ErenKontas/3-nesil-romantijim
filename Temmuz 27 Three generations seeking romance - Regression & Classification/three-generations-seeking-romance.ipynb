{
 "cells": [
  {
   "cell_type": "markdown",
   "id": "6a23b06f",
   "metadata": {},
   "source": [
    "# <font color=#025dfa> Three generations seeking romance - Regression & Classification"
   ]
  },
  {
   "cell_type": "raw",
   "id": "c7735f3c",
   "metadata": {},
   "source": [
    "Bu çalışmamızda\n",
    "YAŞA VE NESİLE GÖRE ÇEVRİMİÇİ BULUŞMACILARIN PROFİLİNİ ÇIKARMAK İÇİN VERİ BİLİMİ YAKLAŞIMI\n",
    "1 - Arkadaşlık profiliniz yaşınızı tahmin edebilir mi?\n",
    "2 - Arkadaşlık profiliniz ait olduğunuz nesli tahmin edebilir mi? (Y Kuşağı, X Kuşağı veya Bebek Patlaması Kuşağı)\n",
    "Arkadaşlık platformu OKCupid'den yaklaşık 60.000 anonim girişin bulunduğu bir veri kümesini kullanarak, yukarıdaki soruları denetlenen makine öğrenme tekniklerini kullanarak keşfedeceksiniz. Kullanıcı profillerinin farklı yönlerini veya özelliklerini inceleyecek ve en tatmin edici puanları elde etmek için hangilerini modellerinize entegre edeceğinizi göreceksiniz. İlk soruyu ele almak için regresyon tekniklerini ve ikinci soruyu ele almak için sınıflandırma modellerini kullanacaksınız.\n",
    "“last_online” özelliğinin en düşük ve en yüksek değerlerini inceleyerek, OKCupid veri kümesinin 2011 veya 2012 civarında tarihli olduğu sonucuna varılabilir. O zamanlar, bir “Y kuşağı” 18 ila 32 yaş aralığında, bir “X kuşağı” 33 ila 47 yaş aralığında ve “Boomers” ise 48 ila 70 yaş aralığında olurdu.\n",
    "bunları bulan bir model geliştireceğiz"
   ]
  },
  {
   "cell_type": "code",
   "execution_count": 1,
   "id": "4fd5cba9",
   "metadata": {},
   "outputs": [],
   "source": [
    "import pandas as pd\n",
    "import numpy as np\n",
    "import seaborn as sns\n",
    "import matplotlib.pyplot as plt\n",
    "import datetime\n",
    "import warnings\n",
    "warnings.filterwarnings('ignore') \n",
    "\n",
    "from sklearn.model_selection import train_test_split \n",
    "from sklearn.metrics import r2_score, mean_squared_error, mean_absolute_error\n",
    "from sklearn.metrics import accuracy_score, precision_score, recall_score, confusion_matrix, classification_report, f1_score\n",
    "from tensorflow.keras.models import Sequential\n",
    "from tensorflow.keras.layers import Conv2D, Flatten, Dense, Dropout, BatchNormalization,LeakyReLU\n",
    "from tensorflow.keras.callbacks import EarlyStopping\n",
    "from sklearn.preprocessing import MinMaxScaler"
   ]
  },
  {
   "cell_type": "code",
   "execution_count": 2,
   "id": "647ad5dc",
   "metadata": {},
   "outputs": [],
   "source": [
    "pd.set_option(\"display.max_columns\",35)"
   ]
  },
  {
   "cell_type": "code",
   "execution_count": 3,
   "id": "b2dba771",
   "metadata": {},
   "outputs": [],
   "source": [
    "df=pd.read_csv('profiles.csv')"
   ]
  },
  {
   "cell_type": "markdown",
   "id": "fffcdf11",
   "metadata": {},
   "source": [
    "## <font color=#d707f2> EDA Exploratory Data Analsis"
   ]
  },
  {
   "cell_type": "code",
   "execution_count": 4,
   "id": "259f9a77",
   "metadata": {
    "scrolled": true
   },
   "outputs": [
    {
     "data": {
      "text/html": [
       "<div>\n",
       "<style scoped>\n",
       "    .dataframe tbody tr th:only-of-type {\n",
       "        vertical-align: middle;\n",
       "    }\n",
       "\n",
       "    .dataframe tbody tr th {\n",
       "        vertical-align: top;\n",
       "    }\n",
       "\n",
       "    .dataframe thead th {\n",
       "        text-align: right;\n",
       "    }\n",
       "</style>\n",
       "<table border=\"1\" class=\"dataframe\">\n",
       "  <thead>\n",
       "    <tr style=\"text-align: right;\">\n",
       "      <th></th>\n",
       "      <th>age</th>\n",
       "      <th>body_type</th>\n",
       "      <th>diet</th>\n",
       "      <th>drinks</th>\n",
       "      <th>drugs</th>\n",
       "      <th>education</th>\n",
       "      <th>essay0</th>\n",
       "      <th>essay1</th>\n",
       "      <th>essay2</th>\n",
       "      <th>essay3</th>\n",
       "      <th>essay4</th>\n",
       "      <th>essay5</th>\n",
       "      <th>essay6</th>\n",
       "      <th>essay7</th>\n",
       "      <th>essay8</th>\n",
       "      <th>essay9</th>\n",
       "      <th>ethnicity</th>\n",
       "      <th>height</th>\n",
       "      <th>income</th>\n",
       "      <th>job</th>\n",
       "      <th>last_online</th>\n",
       "      <th>location</th>\n",
       "      <th>offspring</th>\n",
       "      <th>orientation</th>\n",
       "      <th>pets</th>\n",
       "      <th>religion</th>\n",
       "      <th>sex</th>\n",
       "      <th>sign</th>\n",
       "      <th>smokes</th>\n",
       "      <th>speaks</th>\n",
       "      <th>status</th>\n",
       "    </tr>\n",
       "  </thead>\n",
       "  <tbody>\n",
       "    <tr>\n",
       "      <th>0</th>\n",
       "      <td>22.0</td>\n",
       "      <td>a little extra</td>\n",
       "      <td>strictly anything</td>\n",
       "      <td>socially</td>\n",
       "      <td>never</td>\n",
       "      <td>working on college/university</td>\n",
       "      <td>about me:&lt;br /&gt;\\n&lt;br /&gt;\\ni would love to think...</td>\n",
       "      <td>currently working as an international agent fo...</td>\n",
       "      <td>making people laugh.&lt;br /&gt;\\nranting about a go...</td>\n",
       "      <td>the way i look. i am a six foot half asian, ha...</td>\n",
       "      <td>books:&lt;br /&gt;\\nabsurdistan, the republic, of mi...</td>\n",
       "      <td>food.&lt;br /&gt;\\nwater.&lt;br /&gt;\\ncell phone.&lt;br /&gt;\\n...</td>\n",
       "      <td>duality and humorous things</td>\n",
       "      <td>trying to find someone to hang out with. i am ...</td>\n",
       "      <td>i am new to california and looking for someone...</td>\n",
       "      <td>you want to be swept off your feet!&lt;br /&gt;\\nyou...</td>\n",
       "      <td>asian, white</td>\n",
       "      <td>75.0</td>\n",
       "      <td>-1.0</td>\n",
       "      <td>transportation</td>\n",
       "      <td>2012-06-28-20-30</td>\n",
       "      <td>south san francisco, california</td>\n",
       "      <td>doesn&amp;rsquo;t have kids, but might want them</td>\n",
       "      <td>straight</td>\n",
       "      <td>likes dogs and likes cats</td>\n",
       "      <td>agnosticism and very serious about it</td>\n",
       "      <td>m</td>\n",
       "      <td>gemini</td>\n",
       "      <td>sometimes</td>\n",
       "      <td>english</td>\n",
       "      <td>single</td>\n",
       "    </tr>\n",
       "    <tr>\n",
       "      <th>1</th>\n",
       "      <td>35.0</td>\n",
       "      <td>average</td>\n",
       "      <td>mostly other</td>\n",
       "      <td>often</td>\n",
       "      <td>sometimes</td>\n",
       "      <td>working on space camp</td>\n",
       "      <td>i am a chef: this is what that means.&lt;br /&gt;\\n1...</td>\n",
       "      <td>dedicating everyday to being an unbelievable b...</td>\n",
       "      <td>being silly. having ridiculous amonts of fun w...</td>\n",
       "      <td>NaN</td>\n",
       "      <td>i am die hard christopher moore fan. i don't r...</td>\n",
       "      <td>delicious porkness in all of its glories.&lt;br /...</td>\n",
       "      <td>NaN</td>\n",
       "      <td>NaN</td>\n",
       "      <td>i am very open and will share just about anyth...</td>\n",
       "      <td>NaN</td>\n",
       "      <td>white</td>\n",
       "      <td>70.0</td>\n",
       "      <td>80000.0</td>\n",
       "      <td>hospitality / travel</td>\n",
       "      <td>2012-06-29-21-41</td>\n",
       "      <td>oakland, california</td>\n",
       "      <td>doesn&amp;rsquo;t have kids, but might want them</td>\n",
       "      <td>straight</td>\n",
       "      <td>likes dogs and likes cats</td>\n",
       "      <td>agnosticism but not too serious about it</td>\n",
       "      <td>m</td>\n",
       "      <td>cancer</td>\n",
       "      <td>no</td>\n",
       "      <td>english (fluently), spanish (poorly), french (...</td>\n",
       "      <td>single</td>\n",
       "    </tr>\n",
       "    <tr>\n",
       "      <th>2</th>\n",
       "      <td>38.0</td>\n",
       "      <td>thin</td>\n",
       "      <td>anything</td>\n",
       "      <td>socially</td>\n",
       "      <td>NaN</td>\n",
       "      <td>graduated from masters program</td>\n",
       "      <td>i'm not ashamed of much, but writing public te...</td>\n",
       "      <td>i make nerdy software for musicians, artists, ...</td>\n",
       "      <td>improvising in different contexts. alternating...</td>\n",
       "      <td>my large jaw and large glasses are the physica...</td>\n",
       "      <td>okay this is where the cultural matrix gets so...</td>\n",
       "      <td>movement&lt;br /&gt;\\nconversation&lt;br /&gt;\\ncreation&lt;b...</td>\n",
       "      <td>NaN</td>\n",
       "      <td>viewing. listening. dancing. talking. drinking...</td>\n",
       "      <td>when i was five years old, i was known as \"the...</td>\n",
       "      <td>you are bright, open, intense, silly, ironic, ...</td>\n",
       "      <td>NaN</td>\n",
       "      <td>68.0</td>\n",
       "      <td>-1.0</td>\n",
       "      <td>NaN</td>\n",
       "      <td>2012-06-27-09-10</td>\n",
       "      <td>san francisco, california</td>\n",
       "      <td>NaN</td>\n",
       "      <td>straight</td>\n",
       "      <td>has cats</td>\n",
       "      <td>NaN</td>\n",
       "      <td>m</td>\n",
       "      <td>pisces but it doesn&amp;rsquo;t matter</td>\n",
       "      <td>no</td>\n",
       "      <td>english, french, c++</td>\n",
       "      <td>available</td>\n",
       "    </tr>\n",
       "    <tr>\n",
       "      <th>3</th>\n",
       "      <td>23.0</td>\n",
       "      <td>thin</td>\n",
       "      <td>vegetarian</td>\n",
       "      <td>socially</td>\n",
       "      <td>NaN</td>\n",
       "      <td>working on college/university</td>\n",
       "      <td>i work in a library and go to school. . .</td>\n",
       "      <td>reading things written by old dead people</td>\n",
       "      <td>playing synthesizers and organizing books acco...</td>\n",
       "      <td>socially awkward but i do my best</td>\n",
       "      <td>bataille, celine, beckett. . .&lt;br /&gt;\\nlynch, j...</td>\n",
       "      <td>NaN</td>\n",
       "      <td>cats and german philosophy</td>\n",
       "      <td>NaN</td>\n",
       "      <td>NaN</td>\n",
       "      <td>you feel so inclined.</td>\n",
       "      <td>white</td>\n",
       "      <td>71.0</td>\n",
       "      <td>20000.0</td>\n",
       "      <td>student</td>\n",
       "      <td>2012-06-28-14-22</td>\n",
       "      <td>berkeley, california</td>\n",
       "      <td>doesn&amp;rsquo;t want kids</td>\n",
       "      <td>straight</td>\n",
       "      <td>likes cats</td>\n",
       "      <td>NaN</td>\n",
       "      <td>m</td>\n",
       "      <td>pisces</td>\n",
       "      <td>no</td>\n",
       "      <td>english, german (poorly)</td>\n",
       "      <td>single</td>\n",
       "    </tr>\n",
       "    <tr>\n",
       "      <th>4</th>\n",
       "      <td>29.0</td>\n",
       "      <td>athletic</td>\n",
       "      <td>NaN</td>\n",
       "      <td>socially</td>\n",
       "      <td>never</td>\n",
       "      <td>graduated from college/university</td>\n",
       "      <td>hey how's it going? currently vague on the pro...</td>\n",
       "      <td>work work work work + play</td>\n",
       "      <td>creating imagery to look at:&lt;br /&gt;\\nhttp://bag...</td>\n",
       "      <td>i smile a lot and my inquisitive nature</td>\n",
       "      <td>music: bands, rappers, musicians&lt;br /&gt;\\nat the...</td>\n",
       "      <td>NaN</td>\n",
       "      <td>NaN</td>\n",
       "      <td>NaN</td>\n",
       "      <td>NaN</td>\n",
       "      <td>NaN</td>\n",
       "      <td>asian, black, other</td>\n",
       "      <td>66.0</td>\n",
       "      <td>-1.0</td>\n",
       "      <td>artistic / musical / writer</td>\n",
       "      <td>2012-06-27-21-26</td>\n",
       "      <td>san francisco, california</td>\n",
       "      <td>NaN</td>\n",
       "      <td>straight</td>\n",
       "      <td>likes dogs and likes cats</td>\n",
       "      <td>NaN</td>\n",
       "      <td>m</td>\n",
       "      <td>aquarius</td>\n",
       "      <td>no</td>\n",
       "      <td>english</td>\n",
       "      <td>single</td>\n",
       "    </tr>\n",
       "  </tbody>\n",
       "</table>\n",
       "</div>"
      ],
      "text/plain": [
       "    age       body_type               diet    drinks      drugs  \\\n",
       "0  22.0  a little extra  strictly anything  socially      never   \n",
       "1  35.0         average       mostly other     often  sometimes   \n",
       "2  38.0            thin           anything  socially        NaN   \n",
       "3  23.0            thin         vegetarian  socially        NaN   \n",
       "4  29.0        athletic                NaN  socially      never   \n",
       "\n",
       "                           education  \\\n",
       "0      working on college/university   \n",
       "1              working on space camp   \n",
       "2     graduated from masters program   \n",
       "3      working on college/university   \n",
       "4  graduated from college/university   \n",
       "\n",
       "                                              essay0  \\\n",
       "0  about me:<br />\\n<br />\\ni would love to think...   \n",
       "1  i am a chef: this is what that means.<br />\\n1...   \n",
       "2  i'm not ashamed of much, but writing public te...   \n",
       "3          i work in a library and go to school. . .   \n",
       "4  hey how's it going? currently vague on the pro...   \n",
       "\n",
       "                                              essay1  \\\n",
       "0  currently working as an international agent fo...   \n",
       "1  dedicating everyday to being an unbelievable b...   \n",
       "2  i make nerdy software for musicians, artists, ...   \n",
       "3          reading things written by old dead people   \n",
       "4                         work work work work + play   \n",
       "\n",
       "                                              essay2  \\\n",
       "0  making people laugh.<br />\\nranting about a go...   \n",
       "1  being silly. having ridiculous amonts of fun w...   \n",
       "2  improvising in different contexts. alternating...   \n",
       "3  playing synthesizers and organizing books acco...   \n",
       "4  creating imagery to look at:<br />\\nhttp://bag...   \n",
       "\n",
       "                                              essay3  \\\n",
       "0  the way i look. i am a six foot half asian, ha...   \n",
       "1                                                NaN   \n",
       "2  my large jaw and large glasses are the physica...   \n",
       "3                  socially awkward but i do my best   \n",
       "4            i smile a lot and my inquisitive nature   \n",
       "\n",
       "                                              essay4  \\\n",
       "0  books:<br />\\nabsurdistan, the republic, of mi...   \n",
       "1  i am die hard christopher moore fan. i don't r...   \n",
       "2  okay this is where the cultural matrix gets so...   \n",
       "3  bataille, celine, beckett. . .<br />\\nlynch, j...   \n",
       "4  music: bands, rappers, musicians<br />\\nat the...   \n",
       "\n",
       "                                              essay5  \\\n",
       "0  food.<br />\\nwater.<br />\\ncell phone.<br />\\n...   \n",
       "1  delicious porkness in all of its glories.<br /...   \n",
       "2  movement<br />\\nconversation<br />\\ncreation<b...   \n",
       "3                                                NaN   \n",
       "4                                                NaN   \n",
       "\n",
       "                        essay6  \\\n",
       "0  duality and humorous things   \n",
       "1                          NaN   \n",
       "2                          NaN   \n",
       "3   cats and german philosophy   \n",
       "4                          NaN   \n",
       "\n",
       "                                              essay7  \\\n",
       "0  trying to find someone to hang out with. i am ...   \n",
       "1                                                NaN   \n",
       "2  viewing. listening. dancing. talking. drinking...   \n",
       "3                                                NaN   \n",
       "4                                                NaN   \n",
       "\n",
       "                                              essay8  \\\n",
       "0  i am new to california and looking for someone...   \n",
       "1  i am very open and will share just about anyth...   \n",
       "2  when i was five years old, i was known as \"the...   \n",
       "3                                                NaN   \n",
       "4                                                NaN   \n",
       "\n",
       "                                              essay9            ethnicity  \\\n",
       "0  you want to be swept off your feet!<br />\\nyou...         asian, white   \n",
       "1                                                NaN                white   \n",
       "2  you are bright, open, intense, silly, ironic, ...                  NaN   \n",
       "3                              you feel so inclined.                white   \n",
       "4                                                NaN  asian, black, other   \n",
       "\n",
       "   height   income                          job       last_online  \\\n",
       "0    75.0     -1.0               transportation  2012-06-28-20-30   \n",
       "1    70.0  80000.0         hospitality / travel  2012-06-29-21-41   \n",
       "2    68.0     -1.0                          NaN  2012-06-27-09-10   \n",
       "3    71.0  20000.0                      student  2012-06-28-14-22   \n",
       "4    66.0     -1.0  artistic / musical / writer  2012-06-27-21-26   \n",
       "\n",
       "                          location  \\\n",
       "0  south san francisco, california   \n",
       "1              oakland, california   \n",
       "2        san francisco, california   \n",
       "3             berkeley, california   \n",
       "4        san francisco, california   \n",
       "\n",
       "                                      offspring orientation  \\\n",
       "0  doesn&rsquo;t have kids, but might want them    straight   \n",
       "1  doesn&rsquo;t have kids, but might want them    straight   \n",
       "2                                           NaN    straight   \n",
       "3                       doesn&rsquo;t want kids    straight   \n",
       "4                                           NaN    straight   \n",
       "\n",
       "                        pets                                  religion sex  \\\n",
       "0  likes dogs and likes cats     agnosticism and very serious about it   m   \n",
       "1  likes dogs and likes cats  agnosticism but not too serious about it   m   \n",
       "2                   has cats                                       NaN   m   \n",
       "3                 likes cats                                       NaN   m   \n",
       "4  likes dogs and likes cats                                       NaN   m   \n",
       "\n",
       "                                 sign     smokes  \\\n",
       "0                              gemini  sometimes   \n",
       "1                              cancer         no   \n",
       "2  pisces but it doesn&rsquo;t matter         no   \n",
       "3                              pisces         no   \n",
       "4                            aquarius         no   \n",
       "\n",
       "                                              speaks     status  \n",
       "0                                            english     single  \n",
       "1  english (fluently), spanish (poorly), french (...     single  \n",
       "2                               english, french, c++  available  \n",
       "3                           english, german (poorly)     single  \n",
       "4                                            english     single  "
      ]
     },
     "execution_count": 4,
     "metadata": {},
     "output_type": "execute_result"
    }
   ],
   "source": [
    "df.head()"
   ]
  },
  {
   "cell_type": "code",
   "execution_count": 5,
   "id": "668be3ce",
   "metadata": {
    "scrolled": true
   },
   "outputs": [
    {
     "data": {
      "text/html": [
       "<div>\n",
       "<style scoped>\n",
       "    .dataframe tbody tr th:only-of-type {\n",
       "        vertical-align: middle;\n",
       "    }\n",
       "\n",
       "    .dataframe tbody tr th {\n",
       "        vertical-align: top;\n",
       "    }\n",
       "\n",
       "    .dataframe thead th {\n",
       "        text-align: right;\n",
       "    }\n",
       "</style>\n",
       "<table border=\"1\" class=\"dataframe\">\n",
       "  <thead>\n",
       "    <tr style=\"text-align: right;\">\n",
       "      <th></th>\n",
       "      <th>age</th>\n",
       "      <th>body_type</th>\n",
       "      <th>diet</th>\n",
       "      <th>drinks</th>\n",
       "      <th>drugs</th>\n",
       "      <th>education</th>\n",
       "      <th>essay0</th>\n",
       "      <th>essay1</th>\n",
       "      <th>essay2</th>\n",
       "      <th>essay3</th>\n",
       "      <th>essay4</th>\n",
       "      <th>essay5</th>\n",
       "      <th>essay6</th>\n",
       "      <th>essay7</th>\n",
       "      <th>essay8</th>\n",
       "      <th>essay9</th>\n",
       "      <th>ethnicity</th>\n",
       "      <th>height</th>\n",
       "      <th>income</th>\n",
       "      <th>job</th>\n",
       "      <th>last_online</th>\n",
       "      <th>location</th>\n",
       "      <th>offspring</th>\n",
       "      <th>orientation</th>\n",
       "      <th>pets</th>\n",
       "      <th>religion</th>\n",
       "      <th>sex</th>\n",
       "      <th>sign</th>\n",
       "      <th>smokes</th>\n",
       "      <th>speaks</th>\n",
       "      <th>status</th>\n",
       "    </tr>\n",
       "  </thead>\n",
       "  <tbody>\n",
       "    <tr>\n",
       "      <th>12911</th>\n",
       "      <td>NaN</td>\n",
       "      <td>NaN</td>\n",
       "      <td>NaN</td>\n",
       "      <td>NaN</td>\n",
       "      <td>NaN</td>\n",
       "      <td>NaN</td>\n",
       "      <td>NaN</td>\n",
       "      <td>NaN</td>\n",
       "      <td>NaN</td>\n",
       "      <td>NaN</td>\n",
       "      <td>NaN</td>\n",
       "      <td>NaN</td>\n",
       "      <td>NaN</td>\n",
       "      <td>NaN</td>\n",
       "      <td>NaN</td>\n",
       "      <td>NaN</td>\n",
       "      <td>NaN</td>\n",
       "      <td>NaN</td>\n",
       "      <td>NaN</td>\n",
       "      <td>NaN</td>\n",
       "      <td>NaN</td>\n",
       "      <td>NaN</td>\n",
       "      <td>NaN</td>\n",
       "      <td>NaN</td>\n",
       "      <td>NaN</td>\n",
       "      <td>NaN</td>\n",
       "      <td>NaN</td>\n",
       "      <td>NaN</td>\n",
       "      <td>NaN</td>\n",
       "      <td>NaN</td>\n",
       "      <td>NaN</td>\n",
       "    </tr>\n",
       "    <tr>\n",
       "      <th>20311</th>\n",
       "      <td>NaN</td>\n",
       "      <td>NaN</td>\n",
       "      <td>NaN</td>\n",
       "      <td>NaN</td>\n",
       "      <td>NaN</td>\n",
       "      <td>NaN</td>\n",
       "      <td>NaN</td>\n",
       "      <td>NaN</td>\n",
       "      <td>NaN</td>\n",
       "      <td>NaN</td>\n",
       "      <td>NaN</td>\n",
       "      <td>NaN</td>\n",
       "      <td>NaN</td>\n",
       "      <td>NaN</td>\n",
       "      <td>NaN</td>\n",
       "      <td>NaN</td>\n",
       "      <td>NaN</td>\n",
       "      <td>NaN</td>\n",
       "      <td>NaN</td>\n",
       "      <td>NaN</td>\n",
       "      <td>NaN</td>\n",
       "      <td>NaN</td>\n",
       "      <td>NaN</td>\n",
       "      <td>NaN</td>\n",
       "      <td>NaN</td>\n",
       "      <td>NaN</td>\n",
       "      <td>NaN</td>\n",
       "      <td>NaN</td>\n",
       "      <td>NaN</td>\n",
       "      <td>NaN</td>\n",
       "      <td>NaN</td>\n",
       "    </tr>\n",
       "    <tr>\n",
       "      <th>27054</th>\n",
       "      <td>NaN</td>\n",
       "      <td>NaN</td>\n",
       "      <td>NaN</td>\n",
       "      <td>NaN</td>\n",
       "      <td>NaN</td>\n",
       "      <td>NaN</td>\n",
       "      <td>NaN</td>\n",
       "      <td>NaN</td>\n",
       "      <td>NaN</td>\n",
       "      <td>NaN</td>\n",
       "      <td>NaN</td>\n",
       "      <td>NaN</td>\n",
       "      <td>NaN</td>\n",
       "      <td>NaN</td>\n",
       "      <td>NaN</td>\n",
       "      <td>NaN</td>\n",
       "      <td>NaN</td>\n",
       "      <td>NaN</td>\n",
       "      <td>NaN</td>\n",
       "      <td>NaN</td>\n",
       "      <td>NaN</td>\n",
       "      <td>NaN</td>\n",
       "      <td>NaN</td>\n",
       "      <td>NaN</td>\n",
       "      <td>NaN</td>\n",
       "      <td>NaN</td>\n",
       "      <td>NaN</td>\n",
       "      <td>NaN</td>\n",
       "      <td>NaN</td>\n",
       "      <td>NaN</td>\n",
       "      <td>NaN</td>\n",
       "    </tr>\n",
       "    <tr>\n",
       "      <th>46147</th>\n",
       "      <td>NaN</td>\n",
       "      <td>NaN</td>\n",
       "      <td>NaN</td>\n",
       "      <td>NaN</td>\n",
       "      <td>NaN</td>\n",
       "      <td>NaN</td>\n",
       "      <td>NaN</td>\n",
       "      <td>NaN</td>\n",
       "      <td>NaN</td>\n",
       "      <td>NaN</td>\n",
       "      <td>NaN</td>\n",
       "      <td>NaN</td>\n",
       "      <td>NaN</td>\n",
       "      <td>NaN</td>\n",
       "      <td>NaN</td>\n",
       "      <td>NaN</td>\n",
       "      <td>NaN</td>\n",
       "      <td>NaN</td>\n",
       "      <td>NaN</td>\n",
       "      <td>NaN</td>\n",
       "      <td>NaN</td>\n",
       "      <td>NaN</td>\n",
       "      <td>NaN</td>\n",
       "      <td>NaN</td>\n",
       "      <td>NaN</td>\n",
       "      <td>NaN</td>\n",
       "      <td>NaN</td>\n",
       "      <td>NaN</td>\n",
       "      <td>NaN</td>\n",
       "      <td>NaN</td>\n",
       "      <td>NaN</td>\n",
       "    </tr>\n",
       "    <tr>\n",
       "      <th>51001</th>\n",
       "      <td>NaN</td>\n",
       "      <td>NaN</td>\n",
       "      <td>NaN</td>\n",
       "      <td>NaN</td>\n",
       "      <td>NaN</td>\n",
       "      <td>NaN</td>\n",
       "      <td>NaN</td>\n",
       "      <td>NaN</td>\n",
       "      <td>NaN</td>\n",
       "      <td>NaN</td>\n",
       "      <td>NaN</td>\n",
       "      <td>NaN</td>\n",
       "      <td>NaN</td>\n",
       "      <td>NaN</td>\n",
       "      <td>NaN</td>\n",
       "      <td>NaN</td>\n",
       "      <td>NaN</td>\n",
       "      <td>NaN</td>\n",
       "      <td>NaN</td>\n",
       "      <td>NaN</td>\n",
       "      <td>NaN</td>\n",
       "      <td>NaN</td>\n",
       "      <td>NaN</td>\n",
       "      <td>NaN</td>\n",
       "      <td>NaN</td>\n",
       "      <td>NaN</td>\n",
       "      <td>NaN</td>\n",
       "      <td>NaN</td>\n",
       "      <td>NaN</td>\n",
       "      <td>NaN</td>\n",
       "      <td>NaN</td>\n",
       "    </tr>\n",
       "  </tbody>\n",
       "</table>\n",
       "</div>"
      ],
      "text/plain": [
       "       age body_type diet drinks drugs education essay0 essay1 essay2 essay3  \\\n",
       "12911  NaN       NaN  NaN    NaN   NaN       NaN    NaN    NaN    NaN    NaN   \n",
       "20311  NaN       NaN  NaN    NaN   NaN       NaN    NaN    NaN    NaN    NaN   \n",
       "27054  NaN       NaN  NaN    NaN   NaN       NaN    NaN    NaN    NaN    NaN   \n",
       "46147  NaN       NaN  NaN    NaN   NaN       NaN    NaN    NaN    NaN    NaN   \n",
       "51001  NaN       NaN  NaN    NaN   NaN       NaN    NaN    NaN    NaN    NaN   \n",
       "\n",
       "      essay4 essay5 essay6 essay7 essay8 essay9 ethnicity  height  income  \\\n",
       "12911    NaN    NaN    NaN    NaN    NaN    NaN       NaN     NaN     NaN   \n",
       "20311    NaN    NaN    NaN    NaN    NaN    NaN       NaN     NaN     NaN   \n",
       "27054    NaN    NaN    NaN    NaN    NaN    NaN       NaN     NaN     NaN   \n",
       "46147    NaN    NaN    NaN    NaN    NaN    NaN       NaN     NaN     NaN   \n",
       "51001    NaN    NaN    NaN    NaN    NaN    NaN       NaN     NaN     NaN   \n",
       "\n",
       "       job last_online location offspring orientation pets religion  sex sign  \\\n",
       "12911  NaN         NaN      NaN       NaN         NaN  NaN      NaN  NaN  NaN   \n",
       "20311  NaN         NaN      NaN       NaN         NaN  NaN      NaN  NaN  NaN   \n",
       "27054  NaN         NaN      NaN       NaN         NaN  NaN      NaN  NaN  NaN   \n",
       "46147  NaN         NaN      NaN       NaN         NaN  NaN      NaN  NaN  NaN   \n",
       "51001  NaN         NaN      NaN       NaN         NaN  NaN      NaN  NaN  NaN   \n",
       "\n",
       "      smokes speaks status  \n",
       "12911    NaN    NaN    NaN  \n",
       "20311    NaN    NaN    NaN  \n",
       "27054    NaN    NaN    NaN  \n",
       "46147    NaN    NaN    NaN  \n",
       "51001    NaN    NaN    NaN  "
      ]
     },
     "execution_count": 5,
     "metadata": {},
     "output_type": "execute_result"
    }
   ],
   "source": [
    "df.sample(5)"
   ]
  },
  {
   "cell_type": "code",
   "execution_count": 6,
   "id": "5e7f6aa5",
   "metadata": {
    "scrolled": true
   },
   "outputs": [
    {
     "data": {
      "text/html": [
       "<div>\n",
       "<style scoped>\n",
       "    .dataframe tbody tr th:only-of-type {\n",
       "        vertical-align: middle;\n",
       "    }\n",
       "\n",
       "    .dataframe tbody tr th {\n",
       "        vertical-align: top;\n",
       "    }\n",
       "\n",
       "    .dataframe thead th {\n",
       "        text-align: right;\n",
       "    }\n",
       "</style>\n",
       "<table border=\"1\" class=\"dataframe\">\n",
       "  <thead>\n",
       "    <tr style=\"text-align: right;\">\n",
       "      <th></th>\n",
       "      <th>age</th>\n",
       "      <th>body_type</th>\n",
       "      <th>diet</th>\n",
       "      <th>drinks</th>\n",
       "      <th>drugs</th>\n",
       "      <th>education</th>\n",
       "      <th>essay0</th>\n",
       "      <th>essay1</th>\n",
       "      <th>essay2</th>\n",
       "      <th>essay3</th>\n",
       "      <th>essay4</th>\n",
       "      <th>essay5</th>\n",
       "      <th>essay6</th>\n",
       "      <th>essay7</th>\n",
       "      <th>essay8</th>\n",
       "      <th>essay9</th>\n",
       "      <th>ethnicity</th>\n",
       "      <th>height</th>\n",
       "      <th>income</th>\n",
       "      <th>job</th>\n",
       "      <th>last_online</th>\n",
       "      <th>location</th>\n",
       "      <th>offspring</th>\n",
       "      <th>orientation</th>\n",
       "      <th>pets</th>\n",
       "      <th>religion</th>\n",
       "      <th>sex</th>\n",
       "      <th>sign</th>\n",
       "      <th>smokes</th>\n",
       "      <th>speaks</th>\n",
       "      <th>status</th>\n",
       "    </tr>\n",
       "  </thead>\n",
       "  <tbody>\n",
       "    <tr>\n",
       "      <th>60547</th>\n",
       "      <td>NaN</td>\n",
       "      <td>NaN</td>\n",
       "      <td>NaN</td>\n",
       "      <td>NaN</td>\n",
       "      <td>NaN</td>\n",
       "      <td>NaN</td>\n",
       "      <td>NaN</td>\n",
       "      <td>NaN</td>\n",
       "      <td>NaN</td>\n",
       "      <td>NaN</td>\n",
       "      <td>NaN</td>\n",
       "      <td>NaN</td>\n",
       "      <td>NaN</td>\n",
       "      <td>NaN</td>\n",
       "      <td>NaN</td>\n",
       "      <td>NaN</td>\n",
       "      <td>NaN</td>\n",
       "      <td>NaN</td>\n",
       "      <td>NaN</td>\n",
       "      <td>NaN</td>\n",
       "      <td>NaN</td>\n",
       "      <td>NaN</td>\n",
       "      <td>NaN</td>\n",
       "      <td>NaN</td>\n",
       "      <td>NaN</td>\n",
       "      <td>NaN</td>\n",
       "      <td>NaN</td>\n",
       "      <td>NaN</td>\n",
       "      <td>NaN</td>\n",
       "      <td>NaN</td>\n",
       "      <td>NaN</td>\n",
       "    </tr>\n",
       "    <tr>\n",
       "      <th>60548</th>\n",
       "      <td>NaN</td>\n",
       "      <td>NaN</td>\n",
       "      <td>NaN</td>\n",
       "      <td>NaN</td>\n",
       "      <td>NaN</td>\n",
       "      <td>NaN</td>\n",
       "      <td>NaN</td>\n",
       "      <td>NaN</td>\n",
       "      <td>NaN</td>\n",
       "      <td>NaN</td>\n",
       "      <td>NaN</td>\n",
       "      <td>NaN</td>\n",
       "      <td>NaN</td>\n",
       "      <td>NaN</td>\n",
       "      <td>NaN</td>\n",
       "      <td>NaN</td>\n",
       "      <td>NaN</td>\n",
       "      <td>NaN</td>\n",
       "      <td>NaN</td>\n",
       "      <td>NaN</td>\n",
       "      <td>NaN</td>\n",
       "      <td>NaN</td>\n",
       "      <td>NaN</td>\n",
       "      <td>NaN</td>\n",
       "      <td>NaN</td>\n",
       "      <td>NaN</td>\n",
       "      <td>NaN</td>\n",
       "      <td>NaN</td>\n",
       "      <td>NaN</td>\n",
       "      <td>NaN</td>\n",
       "      <td>NaN</td>\n",
       "    </tr>\n",
       "    <tr>\n",
       "      <th>60549</th>\n",
       "      <td>NaN</td>\n",
       "      <td>NaN</td>\n",
       "      <td>NaN</td>\n",
       "      <td>NaN</td>\n",
       "      <td>NaN</td>\n",
       "      <td>NaN</td>\n",
       "      <td>NaN</td>\n",
       "      <td>NaN</td>\n",
       "      <td>NaN</td>\n",
       "      <td>NaN</td>\n",
       "      <td>NaN</td>\n",
       "      <td>NaN</td>\n",
       "      <td>NaN</td>\n",
       "      <td>NaN</td>\n",
       "      <td>NaN</td>\n",
       "      <td>NaN</td>\n",
       "      <td>NaN</td>\n",
       "      <td>NaN</td>\n",
       "      <td>NaN</td>\n",
       "      <td>NaN</td>\n",
       "      <td>NaN</td>\n",
       "      <td>NaN</td>\n",
       "      <td>NaN</td>\n",
       "      <td>NaN</td>\n",
       "      <td>NaN</td>\n",
       "      <td>NaN</td>\n",
       "      <td>NaN</td>\n",
       "      <td>NaN</td>\n",
       "      <td>NaN</td>\n",
       "      <td>NaN</td>\n",
       "      <td>NaN</td>\n",
       "    </tr>\n",
       "    <tr>\n",
       "      <th>60550</th>\n",
       "      <td>NaN</td>\n",
       "      <td>NaN</td>\n",
       "      <td>NaN</td>\n",
       "      <td>NaN</td>\n",
       "      <td>NaN</td>\n",
       "      <td>NaN</td>\n",
       "      <td>NaN</td>\n",
       "      <td>NaN</td>\n",
       "      <td>NaN</td>\n",
       "      <td>NaN</td>\n",
       "      <td>NaN</td>\n",
       "      <td>NaN</td>\n",
       "      <td>NaN</td>\n",
       "      <td>NaN</td>\n",
       "      <td>NaN</td>\n",
       "      <td>NaN</td>\n",
       "      <td>NaN</td>\n",
       "      <td>NaN</td>\n",
       "      <td>NaN</td>\n",
       "      <td>NaN</td>\n",
       "      <td>NaN</td>\n",
       "      <td>NaN</td>\n",
       "      <td>NaN</td>\n",
       "      <td>NaN</td>\n",
       "      <td>NaN</td>\n",
       "      <td>NaN</td>\n",
       "      <td>NaN</td>\n",
       "      <td>NaN</td>\n",
       "      <td>NaN</td>\n",
       "      <td>NaN</td>\n",
       "      <td>NaN</td>\n",
       "    </tr>\n",
       "    <tr>\n",
       "      <th>60551</th>\n",
       "      <td>NaN</td>\n",
       "      <td>NaN</td>\n",
       "      <td>NaN</td>\n",
       "      <td>NaN</td>\n",
       "      <td>NaN</td>\n",
       "      <td>NaN</td>\n",
       "      <td>NaN</td>\n",
       "      <td>NaN</td>\n",
       "      <td>NaN</td>\n",
       "      <td>NaN</td>\n",
       "      <td>NaN</td>\n",
       "      <td>NaN</td>\n",
       "      <td>NaN</td>\n",
       "      <td>NaN</td>\n",
       "      <td>NaN</td>\n",
       "      <td>NaN</td>\n",
       "      <td>NaN</td>\n",
       "      <td>NaN</td>\n",
       "      <td>NaN</td>\n",
       "      <td>NaN</td>\n",
       "      <td>NaN</td>\n",
       "      <td>NaN</td>\n",
       "      <td>NaN</td>\n",
       "      <td>NaN</td>\n",
       "      <td>NaN</td>\n",
       "      <td>NaN</td>\n",
       "      <td>NaN</td>\n",
       "      <td>NaN</td>\n",
       "      <td>NaN</td>\n",
       "      <td>NaN</td>\n",
       "      <td>NaN</td>\n",
       "    </tr>\n",
       "  </tbody>\n",
       "</table>\n",
       "</div>"
      ],
      "text/plain": [
       "       age body_type diet drinks drugs education essay0 essay1 essay2 essay3  \\\n",
       "60547  NaN       NaN  NaN    NaN   NaN       NaN    NaN    NaN    NaN    NaN   \n",
       "60548  NaN       NaN  NaN    NaN   NaN       NaN    NaN    NaN    NaN    NaN   \n",
       "60549  NaN       NaN  NaN    NaN   NaN       NaN    NaN    NaN    NaN    NaN   \n",
       "60550  NaN       NaN  NaN    NaN   NaN       NaN    NaN    NaN    NaN    NaN   \n",
       "60551  NaN       NaN  NaN    NaN   NaN       NaN    NaN    NaN    NaN    NaN   \n",
       "\n",
       "      essay4 essay5 essay6 essay7 essay8 essay9 ethnicity  height  income  \\\n",
       "60547    NaN    NaN    NaN    NaN    NaN    NaN       NaN     NaN     NaN   \n",
       "60548    NaN    NaN    NaN    NaN    NaN    NaN       NaN     NaN     NaN   \n",
       "60549    NaN    NaN    NaN    NaN    NaN    NaN       NaN     NaN     NaN   \n",
       "60550    NaN    NaN    NaN    NaN    NaN    NaN       NaN     NaN     NaN   \n",
       "60551    NaN    NaN    NaN    NaN    NaN    NaN       NaN     NaN     NaN   \n",
       "\n",
       "       job last_online location offspring orientation pets religion  sex sign  \\\n",
       "60547  NaN         NaN      NaN       NaN         NaN  NaN      NaN  NaN  NaN   \n",
       "60548  NaN         NaN      NaN       NaN         NaN  NaN      NaN  NaN  NaN   \n",
       "60549  NaN         NaN      NaN       NaN         NaN  NaN      NaN  NaN  NaN   \n",
       "60550  NaN         NaN      NaN       NaN         NaN  NaN      NaN  NaN  NaN   \n",
       "60551  NaN         NaN      NaN       NaN         NaN  NaN      NaN  NaN  NaN   \n",
       "\n",
       "      smokes speaks status  \n",
       "60547    NaN    NaN    NaN  \n",
       "60548    NaN    NaN    NaN  \n",
       "60549    NaN    NaN    NaN  \n",
       "60550    NaN    NaN    NaN  \n",
       "60551    NaN    NaN    NaN  "
      ]
     },
     "execution_count": 6,
     "metadata": {},
     "output_type": "execute_result"
    }
   ],
   "source": [
    "df.tail()"
   ]
  },
  {
   "cell_type": "code",
   "execution_count": 7,
   "id": "9316d1b6",
   "metadata": {},
   "outputs": [
    {
     "data": {
      "text/plain": [
       "(60552, 31)"
      ]
     },
     "execution_count": 7,
     "metadata": {},
     "output_type": "execute_result"
    }
   ],
   "source": [
    "df.shape"
   ]
  },
  {
   "cell_type": "code",
   "execution_count": 8,
   "id": "ec12e1ee",
   "metadata": {
    "scrolled": true
   },
   "outputs": [
    {
     "name": "stdout",
     "output_type": "stream",
     "text": [
      "<class 'pandas.core.frame.DataFrame'>\n",
      "RangeIndex: 60552 entries, 0 to 60551\n",
      "Data columns (total 31 columns):\n",
      " #   Column       Non-Null Count  Dtype  \n",
      "---  ------       --------------  -----  \n",
      " 0   age          9514 non-null   float64\n",
      " 1   body_type    8666 non-null   object \n",
      " 2   diet         5761 non-null   object \n",
      " 3   drinks       9012 non-null   object \n",
      " 4   drugs        7215 non-null   object \n",
      " 5   education    8459 non-null   object \n",
      " 6   essay0       8667 non-null   object \n",
      " 7   essay1       8347 non-null   object \n",
      " 8   essay2       8049 non-null   object \n",
      " 9   essay3       7690 non-null   object \n",
      " 10  essay4       7879 non-null   object \n",
      " 11  essay5       7814 non-null   object \n",
      " 12  essay6       7352 non-null   object \n",
      " 13  essay7       7553 non-null   object \n",
      " 14  essay8       6361 non-null   object \n",
      " 15  essay9       7554 non-null   object \n",
      " 16  ethnicity    8565 non-null   object \n",
      " 17  height       9514 non-null   float64\n",
      " 18  income       9514 non-null   float64\n",
      " 19  job          8183 non-null   object \n",
      " 20  last_online  9514 non-null   object \n",
      " 21  location     9514 non-null   object \n",
      " 22  offspring    3886 non-null   object \n",
      " 23  orientation  9514 non-null   object \n",
      " 24  pets         6352 non-null   object \n",
      " 25  religion     6261 non-null   object \n",
      " 26  sex          9514 non-null   object \n",
      " 27  sign         7776 non-null   object \n",
      " 28  smokes       8596 non-null   object \n",
      " 29  speaks       9508 non-null   object \n",
      " 30  status       9514 non-null   object \n",
      "dtypes: float64(3), object(28)\n",
      "memory usage: 14.3+ MB\n"
     ]
    }
   ],
   "source": [
    "df.info()"
   ]
  },
  {
   "cell_type": "code",
   "execution_count": 9,
   "id": "df7528c7",
   "metadata": {},
   "outputs": [
    {
     "data": {
      "text/plain": [
       "12110.4"
      ]
     },
     "execution_count": 9,
     "metadata": {},
     "output_type": "execute_result"
    }
   ],
   "source": [
    "60552*20/100"
   ]
  },
  {
   "cell_type": "code",
   "execution_count": 10,
   "id": "22bb45e1",
   "metadata": {
    "scrolled": true
   },
   "outputs": [
    {
     "data": {
      "text/html": [
       "<div>\n",
       "<style scoped>\n",
       "    .dataframe tbody tr th:only-of-type {\n",
       "        vertical-align: middle;\n",
       "    }\n",
       "\n",
       "    .dataframe tbody tr th {\n",
       "        vertical-align: top;\n",
       "    }\n",
       "\n",
       "    .dataframe thead th {\n",
       "        text-align: right;\n",
       "    }\n",
       "</style>\n",
       "<table border=\"1\" class=\"dataframe\">\n",
       "  <thead>\n",
       "    <tr style=\"text-align: right;\">\n",
       "      <th></th>\n",
       "      <th>age</th>\n",
       "      <th>height</th>\n",
       "      <th>income</th>\n",
       "    </tr>\n",
       "  </thead>\n",
       "  <tbody>\n",
       "    <tr>\n",
       "      <th>count</th>\n",
       "      <td>9514.000000</td>\n",
       "      <td>9514.000000</td>\n",
       "      <td>9514.000000</td>\n",
       "    </tr>\n",
       "    <tr>\n",
       "      <th>mean</th>\n",
       "      <td>32.084192</td>\n",
       "      <td>68.337398</td>\n",
       "      <td>18887.145155</td>\n",
       "    </tr>\n",
       "    <tr>\n",
       "      <th>std</th>\n",
       "      <td>9.445488</td>\n",
       "      <td>3.905229</td>\n",
       "      <td>91428.807808</td>\n",
       "    </tr>\n",
       "    <tr>\n",
       "      <th>min</th>\n",
       "      <td>18.000000</td>\n",
       "      <td>36.000000</td>\n",
       "      <td>-1.000000</td>\n",
       "    </tr>\n",
       "    <tr>\n",
       "      <th>25%</th>\n",
       "      <td>25.000000</td>\n",
       "      <td>66.000000</td>\n",
       "      <td>-1.000000</td>\n",
       "    </tr>\n",
       "    <tr>\n",
       "      <th>50%</th>\n",
       "      <td>30.000000</td>\n",
       "      <td>68.000000</td>\n",
       "      <td>-1.000000</td>\n",
       "    </tr>\n",
       "    <tr>\n",
       "      <th>75%</th>\n",
       "      <td>36.000000</td>\n",
       "      <td>71.000000</td>\n",
       "      <td>-1.000000</td>\n",
       "    </tr>\n",
       "    <tr>\n",
       "      <th>max</th>\n",
       "      <td>110.000000</td>\n",
       "      <td>95.000000</td>\n",
       "      <td>1000000.000000</td>\n",
       "    </tr>\n",
       "  </tbody>\n",
       "</table>\n",
       "</div>"
      ],
      "text/plain": [
       "               age       height          income\n",
       "count  9514.000000  9514.000000     9514.000000\n",
       "mean     32.084192    68.337398    18887.145155\n",
       "std       9.445488     3.905229    91428.807808\n",
       "min      18.000000    36.000000       -1.000000\n",
       "25%      25.000000    66.000000       -1.000000\n",
       "50%      30.000000    68.000000       -1.000000\n",
       "75%      36.000000    71.000000       -1.000000\n",
       "max     110.000000    95.000000  1000000.000000"
      ]
     },
     "execution_count": 10,
     "metadata": {},
     "output_type": "execute_result"
    }
   ],
   "source": [
    "df.describe()"
   ]
  },
  {
   "cell_type": "code",
   "execution_count": 11,
   "id": "15ba63f6",
   "metadata": {
    "scrolled": true
   },
   "outputs": [
    {
     "data": {
      "text/plain": [
       "age            51038\n",
       "sex            51038\n",
       "orientation    51038\n",
       "location       51038\n",
       "last_online    51038\n",
       "income         51038\n",
       "height         51038\n",
       "status         51038\n",
       "speaks         51044\n",
       "drinks         51540\n",
       "essay0         51885\n",
       "body_type      51886\n",
       "smokes         51956\n",
       "ethnicity      51987\n",
       "education      52093\n",
       "essay1         52205\n",
       "job            52369\n",
       "essay2         52503\n",
       "essay4         52673\n",
       "essay5         52738\n",
       "sign           52776\n",
       "essay3         52862\n",
       "essay9         52998\n",
       "essay7         52999\n",
       "essay6         53200\n",
       "drugs          53337\n",
       "essay8         54191\n",
       "pets           54200\n",
       "religion       54291\n",
       "diet           54791\n",
       "offspring      56666\n",
       "dtype: int64"
      ]
     },
     "execution_count": 11,
     "metadata": {},
     "output_type": "execute_result"
    }
   ],
   "source": [
    "df.isnull().sum().sort_values(ascending=True)"
   ]
  },
  {
   "cell_type": "code",
   "execution_count": 12,
   "id": "90039fab",
   "metadata": {},
   "outputs": [
    {
     "data": {
      "text/html": [
       "<div>\n",
       "<style scoped>\n",
       "    .dataframe tbody tr th:only-of-type {\n",
       "        vertical-align: middle;\n",
       "    }\n",
       "\n",
       "    .dataframe tbody tr th {\n",
       "        vertical-align: top;\n",
       "    }\n",
       "\n",
       "    .dataframe thead th {\n",
       "        text-align: right;\n",
       "    }\n",
       "</style>\n",
       "<table border=\"1\" class=\"dataframe\">\n",
       "  <thead>\n",
       "    <tr style=\"text-align: right;\">\n",
       "      <th></th>\n",
       "      <th>age</th>\n",
       "      <th>height</th>\n",
       "      <th>income</th>\n",
       "    </tr>\n",
       "  </thead>\n",
       "  <tbody>\n",
       "    <tr>\n",
       "      <th>age</th>\n",
       "      <td>1.000000</td>\n",
       "      <td>-0.022078</td>\n",
       "      <td>0.011424</td>\n",
       "    </tr>\n",
       "    <tr>\n",
       "      <th>height</th>\n",
       "      <td>-0.022078</td>\n",
       "      <td>1.000000</td>\n",
       "      <td>0.073105</td>\n",
       "    </tr>\n",
       "    <tr>\n",
       "      <th>income</th>\n",
       "      <td>0.011424</td>\n",
       "      <td>0.073105</td>\n",
       "      <td>1.000000</td>\n",
       "    </tr>\n",
       "  </tbody>\n",
       "</table>\n",
       "</div>"
      ],
      "text/plain": [
       "             age    height    income\n",
       "age     1.000000 -0.022078  0.011424\n",
       "height -0.022078  1.000000  0.073105\n",
       "income  0.011424  0.073105  1.000000"
      ]
     },
     "execution_count": 12,
     "metadata": {},
     "output_type": "execute_result"
    }
   ],
   "source": [
    "df.corr(numeric_only=True)"
   ]
  },
  {
   "cell_type": "code",
   "execution_count": 13,
   "id": "c9f5afdb",
   "metadata": {
    "scrolled": true
   },
   "outputs": [
    {
     "data": {
      "image/png": "[encoded data removed]",
      "text/plain": [
       "<Figure size 640x480 with 2 Axes>"
      ]
     },
     "metadata": {},
     "output_type": "display_data"
    }
   ],
   "source": [
    "sns.heatmap(df.corr(numeric_only=True),annot=True,cmap='Blues');"
   ]
  },
  {
   "cell_type": "code",
   "execution_count": 14,
   "id": "607a95b1",
   "metadata": {},
   "outputs": [],
   "source": [
    "#abs(df.corr(numeric_only=True)['status']).sort_values(ascending=False)"
   ]
  },
  {
   "cell_type": "raw",
   "id": "324ea717",
   "metadata": {},
   "source": []
  },
  {
   "cell_type": "markdown",
   "id": "378a2192",
   "metadata": {},
   "source": [
    "### <font color=#9e32a8> Gereksiz Verileri Silme İşlemi Yapıyoruz"
   ]
  },
  {
   "cell_type": "code",
   "execution_count": 15,
   "id": "bf63bb38",
   "metadata": {},
   "outputs": [
    {
     "data": {
      "text/html": [
       "<div>\n",
       "<style scoped>\n",
       "    .dataframe tbody tr th:only-of-type {\n",
       "        vertical-align: middle;\n",
       "    }\n",
       "\n",
       "    .dataframe tbody tr th {\n",
       "        vertical-align: top;\n",
       "    }\n",
       "\n",
       "    .dataframe thead th {\n",
       "        text-align: right;\n",
       "    }\n",
       "</style>\n",
       "<table border=\"1\" class=\"dataframe\">\n",
       "  <thead>\n",
       "    <tr style=\"text-align: right;\">\n",
       "      <th></th>\n",
       "      <th>age</th>\n",
       "      <th>body_type</th>\n",
       "      <th>diet</th>\n",
       "      <th>drinks</th>\n",
       "      <th>drugs</th>\n",
       "      <th>education</th>\n",
       "      <th>essay0</th>\n",
       "      <th>essay1</th>\n",
       "      <th>essay2</th>\n",
       "      <th>essay3</th>\n",
       "      <th>essay4</th>\n",
       "      <th>essay5</th>\n",
       "      <th>essay6</th>\n",
       "      <th>essay7</th>\n",
       "      <th>essay8</th>\n",
       "      <th>essay9</th>\n",
       "      <th>ethnicity</th>\n",
       "      <th>height</th>\n",
       "      <th>income</th>\n",
       "      <th>job</th>\n",
       "      <th>last_online</th>\n",
       "      <th>location</th>\n",
       "      <th>offspring</th>\n",
       "      <th>orientation</th>\n",
       "      <th>pets</th>\n",
       "      <th>religion</th>\n",
       "      <th>sex</th>\n",
       "      <th>sign</th>\n",
       "      <th>smokes</th>\n",
       "      <th>speaks</th>\n",
       "      <th>status</th>\n",
       "    </tr>\n",
       "  </thead>\n",
       "  <tbody>\n",
       "    <tr>\n",
       "      <th>0</th>\n",
       "      <td>22.0</td>\n",
       "      <td>a little extra</td>\n",
       "      <td>strictly anything</td>\n",
       "      <td>socially</td>\n",
       "      <td>never</td>\n",
       "      <td>working on college/university</td>\n",
       "      <td>about me:&lt;br /&gt;\\n&lt;br /&gt;\\ni would love to think...</td>\n",
       "      <td>currently working as an international agent fo...</td>\n",
       "      <td>making people laugh.&lt;br /&gt;\\nranting about a go...</td>\n",
       "      <td>the way i look. i am a six foot half asian, ha...</td>\n",
       "      <td>books:&lt;br /&gt;\\nabsurdistan, the republic, of mi...</td>\n",
       "      <td>food.&lt;br /&gt;\\nwater.&lt;br /&gt;\\ncell phone.&lt;br /&gt;\\n...</td>\n",
       "      <td>duality and humorous things</td>\n",
       "      <td>trying to find someone to hang out with. i am ...</td>\n",
       "      <td>i am new to california and looking for someone...</td>\n",
       "      <td>you want to be swept off your feet!&lt;br /&gt;\\nyou...</td>\n",
       "      <td>asian, white</td>\n",
       "      <td>75.0</td>\n",
       "      <td>-1.0</td>\n",
       "      <td>transportation</td>\n",
       "      <td>2012-06-28-20-30</td>\n",
       "      <td>south san francisco, california</td>\n",
       "      <td>doesn&amp;rsquo;t have kids, but might want them</td>\n",
       "      <td>straight</td>\n",
       "      <td>likes dogs and likes cats</td>\n",
       "      <td>agnosticism and very serious about it</td>\n",
       "      <td>m</td>\n",
       "      <td>gemini</td>\n",
       "      <td>sometimes</td>\n",
       "      <td>english</td>\n",
       "      <td>single</td>\n",
       "    </tr>\n",
       "  </tbody>\n",
       "</table>\n",
       "</div>"
      ],
      "text/plain": [
       "    age       body_type               diet    drinks  drugs  \\\n",
       "0  22.0  a little extra  strictly anything  socially  never   \n",
       "\n",
       "                       education  \\\n",
       "0  working on college/university   \n",
       "\n",
       "                                              essay0  \\\n",
       "0  about me:<br />\\n<br />\\ni would love to think...   \n",
       "\n",
       "                                              essay1  \\\n",
       "0  currently working as an international agent fo...   \n",
       "\n",
       "                                              essay2  \\\n",
       "0  making people laugh.<br />\\nranting about a go...   \n",
       "\n",
       "                                              essay3  \\\n",
       "0  the way i look. i am a six foot half asian, ha...   \n",
       "\n",
       "                                              essay4  \\\n",
       "0  books:<br />\\nabsurdistan, the republic, of mi...   \n",
       "\n",
       "                                              essay5  \\\n",
       "0  food.<br />\\nwater.<br />\\ncell phone.<br />\\n...   \n",
       "\n",
       "                        essay6  \\\n",
       "0  duality and humorous things   \n",
       "\n",
       "                                              essay7  \\\n",
       "0  trying to find someone to hang out with. i am ...   \n",
       "\n",
       "                                              essay8  \\\n",
       "0  i am new to california and looking for someone...   \n",
       "\n",
       "                                              essay9     ethnicity  height  \\\n",
       "0  you want to be swept off your feet!<br />\\nyou...  asian, white    75.0   \n",
       "\n",
       "   income             job       last_online                         location  \\\n",
       "0    -1.0  transportation  2012-06-28-20-30  south san francisco, california   \n",
       "\n",
       "                                      offspring orientation  \\\n",
       "0  doesn&rsquo;t have kids, but might want them    straight   \n",
       "\n",
       "                        pets                               religion sex  \\\n",
       "0  likes dogs and likes cats  agnosticism and very serious about it   m   \n",
       "\n",
       "     sign     smokes   speaks  status  \n",
       "0  gemini  sometimes  english  single  "
      ]
     },
     "execution_count": 15,
     "metadata": {},
     "output_type": "execute_result"
    }
   ],
   "source": [
    "df.head(1)"
   ]
  },
  {
   "cell_type": "code",
   "execution_count": 16,
   "id": "af29da88",
   "metadata": {},
   "outputs": [
    {
     "data": {
      "text/html": [
       "<div>\n",
       "<style scoped>\n",
       "    .dataframe tbody tr th:only-of-type {\n",
       "        vertical-align: middle;\n",
       "    }\n",
       "\n",
       "    .dataframe tbody tr th {\n",
       "        vertical-align: top;\n",
       "    }\n",
       "\n",
       "    .dataframe thead th {\n",
       "        text-align: right;\n",
       "    }\n",
       "</style>\n",
       "<table border=\"1\" class=\"dataframe\">\n",
       "  <thead>\n",
       "    <tr style=\"text-align: right;\">\n",
       "      <th></th>\n",
       "      <th>age</th>\n",
       "      <th>body_type</th>\n",
       "      <th>diet</th>\n",
       "      <th>drinks</th>\n",
       "      <th>drugs</th>\n",
       "      <th>education</th>\n",
       "      <th>ethnicity</th>\n",
       "      <th>height</th>\n",
       "      <th>income</th>\n",
       "      <th>job</th>\n",
       "      <th>last_online</th>\n",
       "      <th>location</th>\n",
       "      <th>offspring</th>\n",
       "      <th>orientation</th>\n",
       "      <th>pets</th>\n",
       "      <th>religion</th>\n",
       "      <th>sex</th>\n",
       "      <th>sign</th>\n",
       "      <th>smokes</th>\n",
       "      <th>speaks</th>\n",
       "      <th>status</th>\n",
       "    </tr>\n",
       "  </thead>\n",
       "  <tbody>\n",
       "    <tr>\n",
       "      <th>0</th>\n",
       "      <td>22.0</td>\n",
       "      <td>a little extra</td>\n",
       "      <td>strictly anything</td>\n",
       "      <td>socially</td>\n",
       "      <td>never</td>\n",
       "      <td>working on college/university</td>\n",
       "      <td>asian, white</td>\n",
       "      <td>75.0</td>\n",
       "      <td>-1.0</td>\n",
       "      <td>transportation</td>\n",
       "      <td>2012-06-28-20-30</td>\n",
       "      <td>south san francisco, california</td>\n",
       "      <td>doesn&amp;rsquo;t have kids, but might want them</td>\n",
       "      <td>straight</td>\n",
       "      <td>likes dogs and likes cats</td>\n",
       "      <td>agnosticism and very serious about it</td>\n",
       "      <td>m</td>\n",
       "      <td>gemini</td>\n",
       "      <td>sometimes</td>\n",
       "      <td>english</td>\n",
       "      <td>single</td>\n",
       "    </tr>\n",
       "  </tbody>\n",
       "</table>\n",
       "</div>"
      ],
      "text/plain": [
       "    age       body_type               diet    drinks  drugs  \\\n",
       "0  22.0  a little extra  strictly anything  socially  never   \n",
       "\n",
       "                       education     ethnicity  height  income  \\\n",
       "0  working on college/university  asian, white    75.0    -1.0   \n",
       "\n",
       "              job       last_online                         location  \\\n",
       "0  transportation  2012-06-28-20-30  south san francisco, california   \n",
       "\n",
       "                                      offspring orientation  \\\n",
       "0  doesn&rsquo;t have kids, but might want them    straight   \n",
       "\n",
       "                        pets                               religion sex  \\\n",
       "0  likes dogs and likes cats  agnosticism and very serious about it   m   \n",
       "\n",
       "     sign     smokes   speaks  status  \n",
       "0  gemini  sometimes  english  single  "
      ]
     },
     "execution_count": 16,
     "metadata": {},
     "output_type": "execute_result"
    }
   ],
   "source": [
    "df=df.dropna(how='all',axis=0) \n",
    "#dropna=içinde NaN olan veriler,how='all' =  hepsi\n",
    "df=df.drop(['essay0','essay1', 'essay2', 'essay3', 'essay4', 'essay5', 'essay6', 'essay7','essay8', 'essay9'],axis=1)\n",
    "df.head(1)"
   ]
  },
  {
   "cell_type": "raw",
   "id": "955e176a",
   "metadata": {},
   "source": []
  },
  {
   "cell_type": "markdown",
   "id": "fea922a6",
   "metadata": {},
   "source": [
    "### <font color='#0975e8'> Boşluk Varsa Doldurmaya, Düzeltilecek Kısım Varsa Düzetmaye Başladık"
   ]
  },
  {
   "cell_type": "code",
   "execution_count": 17,
   "id": "1d09053f",
   "metadata": {
    "scrolled": true
   },
   "outputs": [
    {
     "data": {
      "text/plain": [
       "offspring      5628\n",
       "diet           3753\n",
       "religion       3253\n",
       "pets           3162\n",
       "drugs          2299\n",
       "sign           1738\n",
       "job            1331\n",
       "education      1055\n",
       "ethnicity       949\n",
       "smokes          918\n",
       "body_type       848\n",
       "drinks          502\n",
       "speaks            6\n",
       "age               0\n",
       "sex               0\n",
       "last_online       0\n",
       "orientation       0\n",
       "location          0\n",
       "income            0\n",
       "height            0\n",
       "status            0\n",
       "dtype: int64"
      ]
     },
     "execution_count": 17,
     "metadata": {},
     "output_type": "execute_result"
    }
   ],
   "source": [
    "df.isnull().sum().sort_values(ascending=False)"
   ]
  },
  {
   "cell_type": "markdown",
   "id": "791534d1",
   "metadata": {},
   "source": [
    "#### <font color=#2da6f7> Tüm Satırdaki Cümlelerin Gereksiz Kısmını Sildik"
   ]
  },
  {
   "cell_type": "code",
   "execution_count": 18,
   "id": "f092dbf9",
   "metadata": {},
   "outputs": [
    {
     "data": {
      "text/html": [
       "<div>\n",
       "<style scoped>\n",
       "    .dataframe tbody tr th:only-of-type {\n",
       "        vertical-align: middle;\n",
       "    }\n",
       "\n",
       "    .dataframe tbody tr th {\n",
       "        vertical-align: top;\n",
       "    }\n",
       "\n",
       "    .dataframe thead th {\n",
       "        text-align: right;\n",
       "    }\n",
       "</style>\n",
       "<table border=\"1\" class=\"dataframe\">\n",
       "  <thead>\n",
       "    <tr style=\"text-align: right;\">\n",
       "      <th></th>\n",
       "      <th>age</th>\n",
       "      <th>body_type</th>\n",
       "      <th>diet</th>\n",
       "      <th>drinks</th>\n",
       "      <th>drugs</th>\n",
       "      <th>education</th>\n",
       "      <th>ethnicity</th>\n",
       "      <th>height</th>\n",
       "      <th>income</th>\n",
       "      <th>job</th>\n",
       "      <th>last_online</th>\n",
       "      <th>location</th>\n",
       "      <th>offspring</th>\n",
       "      <th>orientation</th>\n",
       "      <th>pets</th>\n",
       "      <th>religion</th>\n",
       "      <th>sex</th>\n",
       "      <th>sign</th>\n",
       "      <th>smokes</th>\n",
       "      <th>speaks</th>\n",
       "      <th>status</th>\n",
       "    </tr>\n",
       "  </thead>\n",
       "  <tbody>\n",
       "    <tr>\n",
       "      <th>0</th>\n",
       "      <td>22.0</td>\n",
       "      <td>a little extra</td>\n",
       "      <td>strictly anything</td>\n",
       "      <td>socially</td>\n",
       "      <td>never</td>\n",
       "      <td>working on collegeuniversity</td>\n",
       "      <td>asian white</td>\n",
       "      <td>75.0</td>\n",
       "      <td>-1.0</td>\n",
       "      <td>transportation</td>\n",
       "      <td>201206282030</td>\n",
       "      <td>south san francisco california</td>\n",
       "      <td>doesnrsquot have kids but might want them</td>\n",
       "      <td>straight</td>\n",
       "      <td>likes dogs and likes cats</td>\n",
       "      <td>agnosticism and very serious about it</td>\n",
       "      <td>m</td>\n",
       "      <td>gemini</td>\n",
       "      <td>sometimes</td>\n",
       "      <td>english</td>\n",
       "      <td>single</td>\n",
       "    </tr>\n",
       "  </tbody>\n",
       "</table>\n",
       "</div>"
      ],
      "text/plain": [
       "    age       body_type               diet    drinks  drugs  \\\n",
       "0  22.0  a little extra  strictly anything  socially  never   \n",
       "\n",
       "                      education    ethnicity  height  income             job  \\\n",
       "0  working on collegeuniversity  asian white    75.0    -1.0  transportation   \n",
       "\n",
       "    last_online                        location  \\\n",
       "0  201206282030  south san francisco california   \n",
       "\n",
       "                                   offspring orientation  \\\n",
       "0  doesnrsquot have kids but might want them    straight   \n",
       "\n",
       "                        pets                               religion sex  \\\n",
       "0  likes dogs and likes cats  agnosticism and very serious about it   m   \n",
       "\n",
       "     sign     smokes   speaks  status  \n",
       "0  gemini  sometimes  english  single  "
      ]
     },
     "execution_count": 18,
     "metadata": {},
     "output_type": "execute_result"
    }
   ],
   "source": [
    "def algo_text(df):\n",
    "    for col in df.columns:\n",
    "        if df[col].dtype == 'object':\n",
    "            df[col] = df[col].str.lower()\n",
    "            df[col] = df[col].str.replace('[^\\w\\s]', '', regex=True)\n",
    "            df[col] = df[col].str.replace('\\n', '')\n",
    "            df[col] = df[col].str.replace('\\d', '')\n",
    "            df[col] = df[col].str.replace('\\r', '')\n",
    "            df[col] = df[col].str.replace('.', '')\n",
    "            df[col] = df[col].str.replace(',', '')\n",
    "    return df\n",
    "\n",
    "df=algo_text(df)\n",
    "df.head(1)"
   ]
  },
  {
   "cell_type": "markdown",
   "id": "777df29f",
   "metadata": {},
   "source": [
    "#### <font color=#2da6f7> last_online Ayırıyoruz"
   ]
  },
  {
   "cell_type": "code",
   "execution_count": 19,
   "id": "bb696c27",
   "metadata": {},
   "outputs": [
    {
     "data": {
      "text/html": [
       "<div>\n",
       "<style scoped>\n",
       "    .dataframe tbody tr th:only-of-type {\n",
       "        vertical-align: middle;\n",
       "    }\n",
       "\n",
       "    .dataframe tbody tr th {\n",
       "        vertical-align: top;\n",
       "    }\n",
       "\n",
       "    .dataframe thead th {\n",
       "        text-align: right;\n",
       "    }\n",
       "</style>\n",
       "<table border=\"1\" class=\"dataframe\">\n",
       "  <thead>\n",
       "    <tr style=\"text-align: right;\">\n",
       "      <th></th>\n",
       "      <th>age</th>\n",
       "      <th>body_type</th>\n",
       "      <th>diet</th>\n",
       "      <th>drinks</th>\n",
       "      <th>drugs</th>\n",
       "      <th>education</th>\n",
       "      <th>ethnicity</th>\n",
       "      <th>height</th>\n",
       "      <th>income</th>\n",
       "      <th>job</th>\n",
       "      <th>location</th>\n",
       "      <th>offspring</th>\n",
       "      <th>orientation</th>\n",
       "      <th>pets</th>\n",
       "      <th>religion</th>\n",
       "      <th>sex</th>\n",
       "      <th>sign</th>\n",
       "      <th>smokes</th>\n",
       "      <th>speaks</th>\n",
       "      <th>status</th>\n",
       "      <th>year</th>\n",
       "      <th>month</th>\n",
       "      <th>day</th>\n",
       "      <th>hour</th>\n",
       "      <th>minute</th>\n",
       "    </tr>\n",
       "  </thead>\n",
       "  <tbody>\n",
       "    <tr>\n",
       "      <th>0</th>\n",
       "      <td>22.0</td>\n",
       "      <td>a little extra</td>\n",
       "      <td>strictly anything</td>\n",
       "      <td>socially</td>\n",
       "      <td>never</td>\n",
       "      <td>working on collegeuniversity</td>\n",
       "      <td>asian white</td>\n",
       "      <td>75.0</td>\n",
       "      <td>-1.0</td>\n",
       "      <td>transportation</td>\n",
       "      <td>south san francisco california</td>\n",
       "      <td>doesnrsquot have kids but might want them</td>\n",
       "      <td>straight</td>\n",
       "      <td>likes dogs and likes cats</td>\n",
       "      <td>agnosticism and very serious about it</td>\n",
       "      <td>m</td>\n",
       "      <td>gemini</td>\n",
       "      <td>sometimes</td>\n",
       "      <td>english</td>\n",
       "      <td>single</td>\n",
       "      <td>2012</td>\n",
       "      <td>6</td>\n",
       "      <td>28</td>\n",
       "      <td>20</td>\n",
       "      <td>30</td>\n",
       "    </tr>\n",
       "  </tbody>\n",
       "</table>\n",
       "</div>"
      ],
      "text/plain": [
       "    age       body_type               diet    drinks  drugs  \\\n",
       "0  22.0  a little extra  strictly anything  socially  never   \n",
       "\n",
       "                      education    ethnicity  height  income             job  \\\n",
       "0  working on collegeuniversity  asian white    75.0    -1.0  transportation   \n",
       "\n",
       "                         location                                  offspring  \\\n",
       "0  south san francisco california  doesnrsquot have kids but might want them   \n",
       "\n",
       "  orientation                       pets  \\\n",
       "0    straight  likes dogs and likes cats   \n",
       "\n",
       "                                religion sex    sign     smokes   speaks  \\\n",
       "0  agnosticism and very serious about it   m  gemini  sometimes  english   \n",
       "\n",
       "   status  year  month  day  hour  minute  \n",
       "0  single  2012      6   28    20      30  "
      ]
     },
     "execution_count": 19,
     "metadata": {},
     "output_type": "execute_result"
    }
   ],
   "source": [
    "df['last_online']=pd.to_datetime(df['last_online'])\n",
    "df['year']=(df['last_online']).dt.year\n",
    "df['month']=(df['last_online']).dt.month\n",
    "df['day']=(df['last_online']).dt.day\n",
    "df['hour']=(df['last_online']).dt.hour\n",
    "df['minute']=(df['last_online']).dt.minute\n",
    "df=df.drop('last_online',axis=1) \n",
    "df.head(1)"
   ]
  },
  {
   "cell_type": "code",
   "execution_count": 20,
   "id": "9cf10962",
   "metadata": {},
   "outputs": [],
   "source": [
    "df[['age', 'height', 'income']]=df[['age', 'height', 'income']].astype(int)"
   ]
  },
  {
   "cell_type": "markdown",
   "id": "61b2bb61",
   "metadata": {},
   "source": [
    "#### <font color=#2da6f7> offspring ile İlgileniyoruz"
   ]
  },
  {
   "cell_type": "code",
   "execution_count": 21,
   "id": "622c3933",
   "metadata": {},
   "outputs": [
    {
     "data": {
      "text/plain": [
       "array(['doesnrsquot have kids but might want them', nan,\n",
       "       'doesnrsquot want kids', 'doesnrsquot have kids but wants them',\n",
       "       'doesnrsquot have kids', 'wants kids', 'has a kid', 'has kids',\n",
       "       'doesnrsquot have kids and doesnrsquot want any',\n",
       "       'has kids but doesnrsquot want more',\n",
       "       'has a kid but doesnrsquot want more', 'has a kid and wants more',\n",
       "       'has kids and might want more', 'might want kids',\n",
       "       'has a kid and might want more', 'has kids and wants more'],\n",
       "      dtype=object)"
      ]
     },
     "execution_count": 21,
     "metadata": {},
     "output_type": "execute_result"
    }
   ],
   "source": [
    "df['offspring'].unique()"
   ]
  },
  {
   "cell_type": "code",
   "execution_count": 22,
   "id": "6d57d97e",
   "metadata": {},
   "outputs": [
    {
     "data": {
      "text/plain": [
       "array([0., 1.])"
      ]
     },
     "execution_count": 22,
     "metadata": {},
     "output_type": "execute_result"
    }
   ],
   "source": [
    "df['kid']=df['offspring'].replace({\n",
    "                                   'doesnrsquot have kids but might want them':0,\n",
    "                                   'doesnrsquot want kids':0,\n",
    "                                   'doesnrsquot have kids but wants them':0,\n",
    "                                   'doesnrsquot have kids':0,\n",
    "                                   'doesnrsquot have kids and doesnrsquot want any':0,\n",
    "                                   'might want kids':0,\n",
    "                                   'wants kids':0,\n",
    "    \n",
    "                                   'has a kid':1,\n",
    "                                   'has kids':1,\n",
    "                                   'has kids but doesnrsquot want more':1,\n",
    "                                   'has a kid but doesnrsquot want more':1,\n",
    "                                   'has a kid and wants more':1,\n",
    "                                   'has kids and might want more':1,\n",
    "                                   'has a kid and might want more':1,\n",
    "                                   'has kids and wants more':1\n",
    "})\n",
    "df=df.drop('offspring',axis=1)\n",
    "values = df['kid'].dropna().tolist()\n",
    "df['kid'] = df['kid'].apply(lambda x: np.random.choice(values) if pd.isna(x) else x)\n",
    "df['kid'].unique()"
   ]
  },
  {
   "cell_type": "markdown",
   "id": "680335c7",
   "metadata": {},
   "source": [
    "#### <font color=#2da6f7> diet ile İlgileniyoruz"
   ]
  },
  {
   "cell_type": "code",
   "execution_count": 23,
   "id": "d1892ad1",
   "metadata": {},
   "outputs": [
    {
     "data": {
      "text/plain": [
       "array(['strictly anything', 'mostly other', 'anything', 'vegetarian', nan,\n",
       "       'mostly anything', 'mostly vegetarian', 'strictly vegan',\n",
       "       'strictly vegetarian', 'mostly vegan', 'strictly other',\n",
       "       'mostly halal', 'other', 'vegan', 'mostly kosher',\n",
       "       'strictly halal', 'halal', 'strictly kosher', 'kosher'],\n",
       "      dtype=object)"
      ]
     },
     "execution_count": 23,
     "metadata": {},
     "output_type": "execute_result"
    }
   ],
   "source": [
    "df['diet'].unique()"
   ]
  },
  {
   "cell_type": "code",
   "execution_count": 24,
   "id": "86aac424",
   "metadata": {},
   "outputs": [
    {
     "data": {
      "text/plain": [
       "array(['anything', 'other', 'vegetarian', 'vegan', 'halal', 'kosher'],\n",
       "      dtype=object)"
      ]
     },
     "execution_count": 24,
     "metadata": {},
     "output_type": "execute_result"
    }
   ],
   "source": [
    "df['diet']=df['diet'].replace({'strictly anything':'anything', \n",
    "                               'mostly anything':'anything',\n",
    "                               \n",
    "                               'strictly vegan':'vegan',\n",
    "                               'mostly vegan':'vegan',\n",
    "                               \n",
    "                               'mostly vegetarian':'vegetarian',\n",
    "                               'strictly vegetarian':'vegetarian',                                \n",
    "                               \n",
    "                               'mostly halal':'halal',\n",
    "                               'strictly halal':'halal',\n",
    "                               \n",
    "                               'strictly other':'other',\n",
    "                               'mostly other':'other',\n",
    "                               \n",
    "                               'strictly kosher':'kosher',\n",
    "                               'mostly kosher':'kosher',\n",
    "})\n",
    "values = df['diet'].dropna().tolist()#nan verilerini kaldırır ve verimizi pythone listesine çevirir\n",
    "df['diet'] = df['diet'].apply(lambda x: np.random.choice(values) if pd.isna(x) else x)\n",
    "#np.random.choice(values): values listesinden rastgele bir eleman seçer. Bu, eksik değerleri doldurmak için kullanılır.\n",
    "#if pd.isna(x): x değerinin NaN (eksik) olup olmadığını kontrol eder.\n",
    "#else x: Eğer x NaN değilse, mevcut değeri olduğu gibi döner.\n",
    "df['diet'].unique()"
   ]
  },
  {
   "cell_type": "markdown",
   "id": "1903d256",
   "metadata": {},
   "source": [
    "#### <font color=#2da6f7> religion ile İlgileniyoruz"
   ]
  },
  {
   "cell_type": "code",
   "execution_count": 25,
   "id": "9f7e4207",
   "metadata": {},
   "outputs": [
    {
     "data": {
      "text/plain": [
       "array(['agnosticism and very serious about it',\n",
       "       'agnosticism but not too serious about it', nan, 'atheism',\n",
       "       'christianity', 'christianity but not too serious about it',\n",
       "       'atheism and laughing about it',\n",
       "       'christianity and very serious about it', 'other', 'catholicism',\n",
       "       'catholicism but not too serious about it',\n",
       "       'catholicism and somewhat serious about it',\n",
       "       'agnosticism and somewhat serious about it',\n",
       "       'catholicism and laughing about it',\n",
       "       'agnosticism and laughing about it', 'agnosticism',\n",
       "       'atheism and somewhat serious about it',\n",
       "       'buddhism but not too serious about it',\n",
       "       'other but not too serious about it', 'buddhism',\n",
       "       'other and laughing about it',\n",
       "       'judaism but not too serious about it',\n",
       "       'buddhism and laughing about it',\n",
       "       'other and somewhat serious about it',\n",
       "       'other and very serious about it',\n",
       "       'hinduism but not too serious about it',\n",
       "       'atheism but not too serious about it', 'judaism',\n",
       "       'christianity and somewhat serious about it',\n",
       "       'hinduism and very serious about it',\n",
       "       'atheism and very serious about it',\n",
       "       'judaism and laughing about it',\n",
       "       'christianity and laughing about it',\n",
       "       'hinduism and laughing about it',\n",
       "       'buddhism and somewhat serious about it',\n",
       "       'islam and very serious about it', 'islam', 'hinduism',\n",
       "       'judaism and somewhat serious about it',\n",
       "       'catholicism and very serious about it',\n",
       "       'judaism and very serious about it',\n",
       "       'hinduism and somewhat serious about it',\n",
       "       'islam but not too serious about it',\n",
       "       'buddhism and very serious about it',\n",
       "       'islam and laughing about it',\n",
       "       'islam and somewhat serious about it'], dtype=object)"
      ]
     },
     "execution_count": 25,
     "metadata": {},
     "output_type": "execute_result"
    }
   ],
   "source": [
    "df['religion'].unique()"
   ]
  },
  {
   "cell_type": "code",
   "execution_count": 26,
   "id": "43b0e1d9",
   "metadata": {},
   "outputs": [
    {
     "data": {
      "text/plain": [
       "array(['agnosticism', 'atheism', 'judaism', 'christianity', 'catholicism',\n",
       "       'other', 'buddhism', 'hinduism', 'islam'], dtype=object)"
      ]
     },
     "execution_count": 26,
     "metadata": {},
     "output_type": "execute_result"
    }
   ],
   "source": [
    "df['religion']=df['religion'].replace({\n",
    "                               'agnosticism and very serious about it':'agnosticism',\n",
    "                               'agnosticism but not too serious about it':'agnosticism',\n",
    "                               'agnosticism and laughing about it':'agnosticism',\n",
    "                               'agnosticism and somewhat serious about it':'agnosticism',\n",
    "                               \n",
    "                               'christianity but not too serious about it':'christianity',\n",
    "                               'christianity and very serious about it':'christianity',\n",
    "                               'christianity and somewhat serious about it':'christianity',\n",
    "                               'christianity and laughing about it':'christianity',\n",
    "\n",
    "                               'atheism and laughing about it':'atheism',\n",
    "                               'atheism and somewhat serious about it':'atheism',\n",
    "                               'atheism but not too serious about it':'atheism',\n",
    "                               'atheism and very serious about it':'atheism',\n",
    "\n",
    "                               'other but not too serious about it':'other',\n",
    "                               'other and laughing about it':'other',\n",
    "                               'other and somewhat serious about it':'other',\n",
    "                               'other and very serious about it':'other',\n",
    "                               \n",
    "                               'catholicism but not too serious about it':'catholicism',\n",
    "                               'catholicism and somewhat serious about it':'catholicism', \n",
    "                               'catholicism and laughing about it':'catholicism',\n",
    "                               'catholicism and very serious about it':'catholicism',\n",
    "                               \n",
    "                               'buddhism but not too serious about it':'buddhism',\n",
    "                               'buddhism and laughing about it':'buddhism',\n",
    "                               'buddhism and very serious about it':'buddhism',\n",
    "                               'buddhism and somewhat serious about it':'buddhism',\n",
    "                               \n",
    "                               \n",
    "                               'judaism but not too serious about it':'judaism',\n",
    "                               'judaism and laughing about it':'judaism',\n",
    "                               'judaism and somewhat serious about it':'judaism',\n",
    "                               'judaism and very serious about it':'judaism',\n",
    "                               \n",
    "                               'hinduism but not too serious about it':'hinduism',\n",
    "                               'hinduism and very serious about it':'hinduism',\n",
    "                               'hinduism and somewhat serious about it':'hinduism',\n",
    "                               'hinduism and laughing about it':'hinduism',\n",
    "                               \n",
    "                               'islam and very serious about it':'islam',\n",
    "                               'islam but not too serious about it':'islam',\n",
    "                               'islam and laughing about it':'islam',\n",
    "                               'islam and somewhat serious about it':'islam'\n",
    "\n",
    "})\n",
    "values = df['religion'].dropna().tolist()\n",
    "df['religion'] = df['religion'].apply(lambda x: np.random.choice(values) if pd.isna(x) else x)\n",
    "df['religion'].unique()"
   ]
  },
  {
   "cell_type": "markdown",
   "id": "2d676c7d",
   "metadata": {},
   "source": [
    "#### <font color=#2da6f7> pets ile İlgileniyoruz"
   ]
  },
  {
   "cell_type": "code",
   "execution_count": 27,
   "id": "3364ffc9",
   "metadata": {},
   "outputs": [
    {
     "data": {
      "text/plain": [
       "array(['likes dogs and likes cats', 'has cats', 'likes cats', nan,\n",
       "       'has dogs and likes cats', 'likes dogs and has cats',\n",
       "       'likes dogs and dislikes cats', 'has dogs',\n",
       "       'has dogs and dislikes cats', 'likes dogs',\n",
       "       'has dogs and has cats', 'dislikes dogs and has cats',\n",
       "       'dislikes dogs and dislikes cats', 'dislikes cats',\n",
       "       'dislikes dogs and likes cats', 'dislikes dogs'], dtype=object)"
      ]
     },
     "execution_count": 27,
     "metadata": {},
     "output_type": "execute_result"
    }
   ],
   "source": [
    "df['pets'].unique()"
   ]
  },
  {
   "cell_type": "code",
   "execution_count": 28,
   "id": "daa0af51",
   "metadata": {},
   "outputs": [
    {
     "data": {
      "text/plain": [
       "array(['cat and dog lover', 'cat lover', 'dog lover',\n",
       "       'Dislikes both dogs and cats', 'Dislikes cats', 'Dislikes dogs'],\n",
       "      dtype=object)"
      ]
     },
     "execution_count": 28,
     "metadata": {},
     "output_type": "execute_result"
    }
   ],
   "source": [
    "df['pets']=df['pets'].replace({\"likes dogs and likes cats\": \"cat and dog lover\",\n",
    "                               \"has dogs and likes cats\": \"cat and dog lover\",\n",
    "                               \"likes dogs and has cats\": \"cat and dog lover\",\n",
    "                               \"has dogs and has cats\": \"cat and dog lover\",\n",
    "                               \n",
    "                               \"has cats\": \"cat lover\",\n",
    "                               \"likes cats\": \"cat lover\",\n",
    "                               \"dislikes dogs and has cats\": \"cat lover\",\n",
    "                               \"dislikes dogs and likes cats\": \"cat lover\",\n",
    "                               \n",
    "                               \"likes dogs and dislikes cats\": \"dog lover\",\n",
    "                               \"has dogs\": \"dog lover\",\n",
    "                               \"has dogs and dislikes cats\": \"dog lover\",\n",
    "                               \"likes dogs\": \"dog lover\",\n",
    "                               \n",
    "                               \"dislikes dogs and dislikes cats\": \"Dislikes both dogs and cats\",\n",
    "                               \"dislikes cats\": \"Dislikes cats\",\n",
    "                               \"dislikes dogs\": \"Dislikes dogs\"\n",
    "})\n",
    "values = df['pets'].dropna().tolist()\n",
    "df['pets'] = df['pets'].apply(lambda x: np.random.choice(values) if pd.isna(x) else x)\n",
    "df['pets'].unique()"
   ]
  },
  {
   "cell_type": "markdown",
   "id": "27faf3b2",
   "metadata": {},
   "source": [
    "#### <font color=#2da6f7> drugs ile İlgileniyoruz"
   ]
  },
  {
   "cell_type": "code",
   "execution_count": 29,
   "id": "faa25f33",
   "metadata": {},
   "outputs": [
    {
     "data": {
      "text/plain": [
       "array(['never', 'sometimes', nan, 'often'], dtype=object)"
      ]
     },
     "execution_count": 29,
     "metadata": {},
     "output_type": "execute_result"
    }
   ],
   "source": [
    "df['drugs'].unique()"
   ]
  },
  {
   "cell_type": "code",
   "execution_count": 30,
   "id": "abe52770",
   "metadata": {},
   "outputs": [
    {
     "data": {
      "text/plain": [
       "array(['never', 'sometimes', 'often'], dtype=object)"
      ]
     },
     "execution_count": 30,
     "metadata": {},
     "output_type": "execute_result"
    }
   ],
   "source": [
    "values = df['drugs'].dropna().tolist()\n",
    "df['drugs'] = df['drugs'].apply(lambda x: np.random.choice(values) if pd.isna(x) else x)\n",
    "df['drugs'].unique()"
   ]
  },
  {
   "cell_type": "markdown",
   "id": "0fd0038b",
   "metadata": {},
   "source": [
    "#### <font color=#2da6f7> sign ile İlgileniyoruz"
   ]
  },
  {
   "cell_type": "code",
   "execution_count": 31,
   "id": "ba41ebcf",
   "metadata": {},
   "outputs": [
    {
     "data": {
      "text/plain": [
       "array(['gemini', 'cancer', 'pisces but it doesnrsquot matter', 'pisces',\n",
       "       'aquarius', 'taurus', 'virgo', 'sagittarius',\n",
       "       'gemini but it doesnrsquot matter',\n",
       "       'cancer but it doesnrsquot matter',\n",
       "       'leo but it doesnrsquot matter', nan,\n",
       "       'aquarius but it doesnrsquot matter',\n",
       "       'aries and itrsquos fun to think about',\n",
       "       'libra but it doesnrsquot matter',\n",
       "       'pisces and itrsquos fun to think about', 'libra',\n",
       "       'taurus but it doesnrsquot matter',\n",
       "       'sagittarius but it doesnrsquot matter',\n",
       "       'scorpio and it matters a lot',\n",
       "       'gemini and itrsquos fun to think about',\n",
       "       'leo and itrsquos fun to think about',\n",
       "       'cancer and itrsquos fun to think about',\n",
       "       'libra and itrsquos fun to think about',\n",
       "       'aquarius and itrsquos fun to think about',\n",
       "       'virgo but it doesnrsquot matter',\n",
       "       'scorpio and itrsquos fun to think about',\n",
       "       'capricorn but it doesnrsquot matter', 'scorpio',\n",
       "       'capricorn and itrsquos fun to think about', 'leo',\n",
       "       'aries but it doesnrsquot matter', 'aries',\n",
       "       'scorpio but it doesnrsquot matter',\n",
       "       'sagittarius and itrsquos fun to think about',\n",
       "       'libra and it matters a lot',\n",
       "       'taurus and itrsquos fun to think about',\n",
       "       'leo and it matters a lot',\n",
       "       'virgo and itrsquos fun to think about',\n",
       "       'cancer and it matters a lot', 'capricorn',\n",
       "       'pisces and it matters a lot', 'aries and it matters a lot',\n",
       "       'capricorn and it matters a lot', 'aquarius and it matters a lot',\n",
       "       'sagittarius and it matters a lot', 'gemini and it matters a lot',\n",
       "       'taurus and it matters a lot', 'virgo and it matters a lot'],\n",
       "      dtype=object)"
      ]
     },
     "execution_count": 31,
     "metadata": {},
     "output_type": "execute_result"
    }
   ],
   "source": [
    "df['sign'].unique()"
   ]
  },
  {
   "cell_type": "code",
   "execution_count": 32,
   "id": "4e9f835c",
   "metadata": {},
   "outputs": [
    {
     "data": {
      "text/plain": [
       "array(['gemini', 'cancer', 'pisces', 'aquarius', 'taurus', 'virgo',\n",
       "       'sagittarius', 'leo', 'aries', 'libra', 'scorpio', 'capricorn'],\n",
       "      dtype=object)"
      ]
     },
     "execution_count": 32,
     "metadata": {},
     "output_type": "execute_result"
    }
   ],
   "source": [
    "df['sign']=df['sign'].replace({\n",
    "    \n",
    "    'aries and itrsquos fun to think about':'aries',\n",
    "    'aries but it doesnrsquot matter':'aries', \n",
    "    'aries and it matters a lot':'aries',\n",
    "    'aquarius but it doesnrsquot matter':'aquarius',\n",
    "    'aquarius and itrsquos fun to think about':'aquarius',\n",
    "    'aquarius and it matters a lot':'aquarius',\n",
    "    'cancer but it doesnrsquot matter':'cancer',\n",
    "    'cancer and itrsquos fun to think about':'cancer',\n",
    "    'cancer and it matters a lot':'cancer',\n",
    "    'gemini but it doesnrsquot matter':'gemini',\n",
    "    'gemini and itrsquos fun to think about':'gemini',\n",
    "    'gemini and it matters a lot':'gemini',\n",
    "\n",
    "    'pisces but it doesnrsquot matter':'pisces',\n",
    "    'pisces and itrsquos fun to think about':'pisces',\n",
    "    'pisces and it matters a lot':'pisces',\n",
    "    \n",
    "    'taurus but it doesnrsquot matter':'taurus',\n",
    "    'taurus and itrsquos fun to think about':'taurus',\n",
    "    'taurus and it matters a lot':'taurus',\n",
    "    \n",
    "    'virgo but it doesnrsquot matter':'virgo',\n",
    "    'virgo and itrsquos fun to think about':'virgo',\n",
    "    'virgo and it matters a lot':'virgo',\n",
    "  \n",
    "    'sagittarius but it doesnrsquot matter':'sagittarius',\n",
    "    'sagittarius and itrsquos fun to think about':'sagittarius',\n",
    "    'sagittarius and it matters a lot':'sagittarius',\n",
    "\n",
    "    'leo but it doesnrsquot matter':'leo',\n",
    "    'leo and itrsquos fun to think about':'leo',\n",
    "    'leo and it matters a lot':'leo',\n",
    " \n",
    "    'libra but it doesnrsquot matter':'libra',\n",
    "    'libra and itrsquos fun to think about':'libra',\n",
    "    'libra and it matters a lot':'libra',\n",
    "\n",
    "    'scorpio and it matters a lot':'scorpio',\n",
    "    'scorpio and itrsquos fun to think about':'scorpio',\n",
    "    'scorpio but it doesnrsquot matter':'scorpio',\n",
    "\n",
    "    'capricorn but it doesnrsquot matter':'capricorn',\n",
    "    'capricorn and itrsquos fun to think about':'capricorn',\n",
    "    'capricorn and it matters a lot':'capricorn'\n",
    "})\n",
    "values = df['sign'].dropna().tolist()\n",
    "df['sign'] = df['sign'].apply(lambda x: np.random.choice(values) if pd.isna(x) else x)\n",
    "df['sign'].unique()"
   ]
  },
  {
   "cell_type": "markdown",
   "id": "62a8ca47",
   "metadata": {},
   "source": [
    "#### <font color=#2da6f7> education ile İlgileniyoruz"
   ]
  },
  {
   "cell_type": "code",
   "execution_count": 33,
   "id": "228d4f03",
   "metadata": {},
   "outputs": [
    {
     "data": {
      "text/plain": [
       "array(['working on collegeuniversity', 'working on space camp',\n",
       "       'graduated from masters program',\n",
       "       'graduated from collegeuniversity', 'working on twoyear college',\n",
       "       nan, 'graduated from high school', 'working on masters program',\n",
       "       'graduated from space camp', 'collegeuniversity',\n",
       "       'dropped out of space camp', 'graduated from phd program',\n",
       "       'graduated from law school', 'working on phd program',\n",
       "       'twoyear college', 'graduated from twoyear college',\n",
       "       'working on med school', 'dropped out of collegeuniversity',\n",
       "       'space camp', 'graduated from med school',\n",
       "       'dropped out of high school', 'working on high school',\n",
       "       'masters program', 'dropped out of phd program',\n",
       "       'dropped out of twoyear college', 'dropped out of med school',\n",
       "       'high school', 'working on law school', 'law school',\n",
       "       'dropped out of masters program', 'phd program',\n",
       "       'dropped out of law school'], dtype=object)"
      ]
     },
     "execution_count": 33,
     "metadata": {},
     "output_type": "execute_result"
    }
   ],
   "source": [
    "df['education'].unique()"
   ]
  },
  {
   "cell_type": "code",
   "execution_count": 34,
   "id": "ceb5e4ba",
   "metadata": {},
   "outputs": [
    {
     "data": {
      "text/plain": [
       "array(['Working on Education', 'Graduated', 'Dropped out of Education'],\n",
       "      dtype=object)"
      ]
     },
     "execution_count": 34,
     "metadata": {},
     "output_type": "execute_result"
    }
   ],
   "source": [
    "df['education']=df['education'].replace({\n",
    "    'working on collegeuniversity': 'Working on Education',\n",
    "    'working on space camp': 'Working on Education',\n",
    "    'working on twoyear college': 'Working on Education',\n",
    "    'working on masters program': 'Working on Education',\n",
    "    'working on phd program': 'Working on Education',\n",
    "    'working on med school': 'Working on Education',\n",
    "    'working on high school': 'Working on Education',\n",
    "    'working on law school': 'Working on Education',\n",
    "    \n",
    "    'graduated from masters program': 'Graduated',\n",
    "    'graduated from collegeuniversity': 'Graduated',\n",
    "    'graduated from high school': 'Graduated',\n",
    "    'graduated from space camp': 'Graduated',\n",
    "    'collegeuniversity': 'Graduated',\n",
    "    'graduated from phd program': 'Graduated',\n",
    "    'graduated from law school': 'Graduated',\n",
    "    'twoyear college': 'Graduated',\n",
    "    'graduated from twoyear college': 'Graduated',\n",
    "    'space camp': 'Graduated',\n",
    "    'graduated from med school': 'Graduated',\n",
    "    'masters program': 'Graduated',\n",
    "    'high school': 'Graduated',\n",
    "    'phd program': 'Graduated',\n",
    "    'law school': 'Graduated',\n",
    "    \n",
    "    'dropped out of space camp': 'Dropped out of Education',\n",
    "    'dropped out of collegeuniversity': 'Dropped out of Education',\n",
    "    'dropped out of high school': 'Dropped out of Education',\n",
    "    'dropped out of phd program': 'Dropped out of Education',\n",
    "    'dropped out of twoyear college': 'Dropped out of Education',\n",
    "    'dropped out of med school': 'Dropped out of Education',\n",
    "    'dropped out of masters program': 'Dropped out of Education',\n",
    "    'dropped out of law school': 'Dropped out of Education'\n",
    "})\n",
    "values = df['education'].dropna().tolist()\n",
    "df['education'] = df['education'].apply(lambda x: np.random.choice(values) if pd.isna(x) else x)\n",
    "df['education'].unique()"
   ]
  },
  {
   "cell_type": "markdown",
   "id": "68fe5433",
   "metadata": {},
   "source": [
    "#### <font color=#2da6f7> smokes ile İlgileniyoruz"
   ]
  },
  {
   "cell_type": "code",
   "execution_count": 35,
   "id": "ce258dca",
   "metadata": {},
   "outputs": [
    {
     "data": {
      "text/plain": [
       "array(['sometimes', 'no', nan, 'when drinking', 'yes', 'trying to quit'],\n",
       "      dtype=object)"
      ]
     },
     "execution_count": 35,
     "metadata": {},
     "output_type": "execute_result"
    }
   ],
   "source": [
    "df['smokes'].unique()"
   ]
  },
  {
   "cell_type": "code",
   "execution_count": 36,
   "id": "18206764",
   "metadata": {},
   "outputs": [
    {
     "data": {
      "text/plain": [
       "array(['sometimes', 'no', 'when drinking', 'yes', 'trying to quit'],\n",
       "      dtype=object)"
      ]
     },
     "execution_count": 36,
     "metadata": {},
     "output_type": "execute_result"
    }
   ],
   "source": [
    "values = df['smokes'].dropna().tolist()\n",
    "df['smokes'] = df['smokes'].apply(lambda x: np.random.choice(values) if pd.isna(x) else x)\n",
    "df['smokes'].unique()"
   ]
  },
  {
   "cell_type": "markdown",
   "id": "123a81c8",
   "metadata": {},
   "source": [
    "#### <font color=#2da6f7> body_type ile İlgileniyoruz"
   ]
  },
  {
   "cell_type": "code",
   "execution_count": 37,
   "id": "7b94a9b4",
   "metadata": {},
   "outputs": [
    {
     "data": {
      "text/plain": [
       "array(['a little extra', 'average', 'thin', 'athletic', 'fit', nan,\n",
       "       'skinny', 'curvy', 'full figured', 'jacked', 'rather not say',\n",
       "       'used up', 'overweight'], dtype=object)"
      ]
     },
     "execution_count": 37,
     "metadata": {},
     "output_type": "execute_result"
    }
   ],
   "source": [
    "df['body_type'].unique()"
   ]
  },
  {
   "cell_type": "code",
   "execution_count": 38,
   "id": "f93462be",
   "metadata": {},
   "outputs": [
    {
     "data": {
      "text/plain": [
       "array(['extra', 'average', 'thin', 'fit', 'other', 'curvy'], dtype=object)"
      ]
     },
     "execution_count": 38,
     "metadata": {},
     "output_type": "execute_result"
    }
   ],
   "source": [
    "df['body_type']=df['body_type'].replace({\n",
    "    'athletic':\"fit\",\n",
    "    'jacked':\"fit\",\n",
    "    \n",
    "    'skinny':\"thin\",\n",
    "                                           \n",
    "    'full figured':\"curvy\",\n",
    "                                           \n",
    "    'rather not say':\"other\", \n",
    "    'used up':\"other\",\n",
    "                                           \n",
    "    'a little extra':\"extra\", \n",
    "    'overweight':\"extra\"\n",
    "})\n",
    "values = df['body_type'].dropna().tolist()\n",
    "df['body_type'] = df['body_type'].apply(lambda x: np.random.choice(values) if pd.isna(x) else x)\n",
    "df['body_type'].unique()"
   ]
  },
  {
   "cell_type": "markdown",
   "id": "617ba4e7",
   "metadata": {},
   "source": [
    "#### <font color=#2da6f7> drinks ile İlgileniyoruz"
   ]
  },
  {
   "cell_type": "code",
   "execution_count": 39,
   "id": "72243d90",
   "metadata": {},
   "outputs": [
    {
     "data": {
      "text/plain": [
       "array(['socially', 'often', 'not at all', 'rarely', nan, 'very often',\n",
       "       'desperately'], dtype=object)"
      ]
     },
     "execution_count": 39,
     "metadata": {},
     "output_type": "execute_result"
    }
   ],
   "source": [
    "df['drinks'].unique()"
   ]
  },
  {
   "cell_type": "code",
   "execution_count": 40,
   "id": "63cc58c1-cf3a-4d5a-a2e5-178b95d06066",
   "metadata": {},
   "outputs": [
    {
     "data": {
      "text/plain": [
       "array(['socially', 'often', 'not at all', 'rarely', 'very often',\n",
       "       'desperately'], dtype=object)"
      ]
     },
     "execution_count": 40,
     "metadata": {},
     "output_type": "execute_result"
    }
   ],
   "source": [
    "values = df['drinks'].dropna().tolist()\n",
    "df['drinks'] = df['drinks'].apply(lambda x: np.random.choice(values) if pd.isna(x) else x)\n",
    "df['drinks'].unique()"
   ]
  },
  {
   "cell_type": "markdown",
   "id": "573464dc",
   "metadata": {},
   "source": [
    "#### <font color=#2da6f7> speaks ile İlgileniyoruz"
   ]
  },
  {
   "cell_type": "code",
   "execution_count": 41,
   "id": "5147abe2",
   "metadata": {},
   "outputs": [
    {
     "data": {
      "text/plain": [
       "array(['english', 'english fluently spanish poorly french poorly',\n",
       "       'english french c', ...,\n",
       "       'english fluently french okay spanish poorly sign language poorly',\n",
       "       'english fluently spanish swedish',\n",
       "       'english fluently french okay swedish poorly'], dtype=object)"
      ]
     },
     "execution_count": 41,
     "metadata": {},
     "output_type": "execute_result"
    }
   ],
   "source": [
    "df['speaks'].unique()"
   ]
  },
  {
   "cell_type": "code",
   "execution_count": 42,
   "id": "82055bb9",
   "metadata": {},
   "outputs": [
    {
     "data": {
      "text/plain": [
       "array(['english', 'english fluently spanish poorly french poorly',\n",
       "       'english french c', ...,\n",
       "       'english fluently french okay spanish poorly sign language poorly',\n",
       "       'english fluently spanish swedish',\n",
       "       'english fluently french okay swedish poorly'], dtype=object)"
      ]
     },
     "execution_count": 42,
     "metadata": {},
     "output_type": "execute_result"
    }
   ],
   "source": [
    "values = df['speaks'].dropna().tolist()\n",
    "df['speaks'] = df['speaks'].apply(lambda x: np.random.choice(values) if pd.isna(x) else x)\n",
    "df['speaks'].unique()"
   ]
  },
  {
   "cell_type": "markdown",
   "id": "2f427893-c206-4b5a-9be5-a08b5f2ba8a6",
   "metadata": {},
   "source": [
    "#### <font color=#2da6f7> orientation ile İlgileniyoruz"
   ]
  },
  {
   "cell_type": "code",
   "execution_count": 43,
   "id": "3e1dc4b4-4c7d-4a9e-ac6d-445d2600bc4a",
   "metadata": {},
   "outputs": [
    {
     "data": {
      "text/plain": [
       "array(['straight', 'bisexual', 'gay'], dtype=object)"
      ]
     },
     "execution_count": 43,
     "metadata": {},
     "output_type": "execute_result"
    }
   ],
   "source": [
    "df['orientation'].unique()"
   ]
  },
  {
   "cell_type": "code",
   "execution_count": 44,
   "id": "60798629-31aa-447b-8224-96daeea7cde3",
   "metadata": {},
   "outputs": [
    {
     "data": {
      "text/plain": [
       "array(['straight', 'bisexual', 'gay'], dtype=object)"
      ]
     },
     "execution_count": 44,
     "metadata": {},
     "output_type": "execute_result"
    }
   ],
   "source": [
    "df['orientation'] = df['orientation'].replace({\n",
    "    'lesbian': 'lesbian',\n",
    "    'bi': 'bisexual',\n",
    "    'bi curious': 'bisexual',\n",
    "    'straight': 'straight',\n",
    "    'gay': 'gay'\n",
    "})\n",
    "values = df['orientation'].dropna().tolist()\n",
    "df['orientation'] = df['orientation'].apply(lambda x: np.random.choice(values) if pd.isna(x) else x)\n",
    "df['orientation'].unique()"
   ]
  },
  {
   "cell_type": "markdown",
   "id": "a3f03d85-fd39-4652-b14b-a9f8ff7c1658",
   "metadata": {},
   "source": [
    "#### <font color=#2da6f7> income ile İlgileniyoruz"
   ]
  },
  {
   "cell_type": "code",
   "execution_count": 45,
   "id": "ebf15d55-897f-4def-9749-fc73607b109a",
   "metadata": {},
   "outputs": [
    {
     "data": {
      "text/plain": [
       "array([     -1,   80000,   20000,   40000,   30000,   50000,   60000,\n",
       "       1000000,  150000,  100000,  500000,   70000,  250000])"
      ]
     },
     "execution_count": 45,
     "metadata": {},
     "output_type": "execute_result"
    }
   ],
   "source": [
    "df['income'].unique()"
   ]
  },
  {
   "cell_type": "code",
   "execution_count": 46,
   "id": "074339c6-0c9f-4231-8a8b-fb1425732140",
   "metadata": {},
   "outputs": [],
   "source": [
    "df['income']=df['income'].replace(['-1.0e+00'],['0'])\n",
    "df['income']=df['income'].replace(['8.0e+04'],['80000'])\n",
    "df['income']=df['income'].replace(['2.0e+04'],['20000'])\n",
    "df['income']=df['income'].replace(['4.0e+04'],['40000'])\n",
    "df['income']=df['income'].replace(['3.0e+04'],['30000'])\n",
    "df['income']=df['income'].replace(['5.0e+04'],['50000'])\n",
    "df['income']=df['income'].replace(['6.0e+04'],['60000'])\n",
    "df['income']=df['income'].replace(['1.0e+06'],['1000000'])\n",
    "df['income']=df['income'].replace(['1.5e+05'],['150000'])\n",
    "df['income']=df['income'].replace(['1.0e+05'],['100000'])\n",
    "df['income']=df['income'].replace(['5.0e+05'],['500000'])\n",
    "df['income']=df['income'].replace(['7.0e+04'],['70000'])\n",
    "df['income']=df['income'].replace(['2.5e+05'],['250000'])"
   ]
  },
  {
   "cell_type": "markdown",
   "id": "0ae238a8-ccfb-4856-ae09-5b92a0166a41",
   "metadata": {},
   "source": [
    "#### <font color=#2da6f7> job ile İlgileniyoruz"
   ]
  },
  {
   "cell_type": "code",
   "execution_count": 47,
   "id": "80c234f2-ba01-4050-8af4-7c0478b2ade2",
   "metadata": {},
   "outputs": [
    {
     "data": {
      "text/plain": [
       "array(['transportation', 'hospitality  travel', nan, 'student',\n",
       "       'artistic  musical  writer', 'computer  hardware  software',\n",
       "       'banking  financial  real estate', 'entertainment  media',\n",
       "       'sales  marketing  biz dev', 'other', 'medicine  health',\n",
       "       'science  tech  engineering', 'executive  management',\n",
       "       'education  academia', 'clerical  administrative',\n",
       "       'construction  craftsmanship', 'rather not say',\n",
       "       'political  government', 'law  legal services', 'unemployed',\n",
       "       'military', 'retired'], dtype=object)"
      ]
     },
     "execution_count": 47,
     "metadata": {},
     "output_type": "execute_result"
    }
   ],
   "source": [
    "df['job'].unique()"
   ]
  },
  {
   "cell_type": "code",
   "execution_count": 48,
   "id": "06c45ed8-f2cf-4a7e-a488-71eac85bbff1",
   "metadata": {},
   "outputs": [
    {
     "data": {
      "text/plain": [
       "array(['transportation', 'hospitality  travel', 'other', 'student',\n",
       "       'artistic  musical  writer', 'computer  hardware  software',\n",
       "       'banking  financial  real estate', 'entertainment  media',\n",
       "       'sales  marketing  biz dev', 'medicine  health',\n",
       "       'science  tech  engineering', 'executive  management',\n",
       "       'education  academia', 'clerical  administrative',\n",
       "       'construction  craftsmanship', 'rather not say',\n",
       "       'political  government', 'law  legal services', 'unemployed',\n",
       "       'military', 'retired'], dtype=object)"
      ]
     },
     "execution_count": 48,
     "metadata": {},
     "output_type": "execute_result"
    }
   ],
   "source": [
    "values = df['job'].dropna().tolist()\n",
    "df['job'] = df['job'].apply(lambda x: np.random.choice(values) if pd.isna(x) else x)\n",
    "df['job'].unique()"
   ]
  },
  {
   "cell_type": "markdown",
   "id": "2ae00b95-9623-4188-9b39-53722adabcea",
   "metadata": {},
   "source": [
    "#### <font color=#2da6f7> ethnicity ile İlgileniyoruz"
   ]
  },
  {
   "cell_type": "code",
   "execution_count": 49,
   "id": "5d460351-a13e-4ee8-b550-930a660ef1e0",
   "metadata": {
    "scrolled": true
   },
   "outputs": [
    {
     "data": {
      "text/plain": [
       "array(['asian white', 'white', nan, 'asian black other', 'white other',\n",
       "       'hispanic  latin white', 'hispanic  latin',\n",
       "       'pacific islander white', 'asian', 'black white',\n",
       "       'pacific islander', 'asian native american',\n",
       "       'asian pacific islander', 'black native american white',\n",
       "       'middle eastern other', 'native american white', 'indian', 'black',\n",
       "       'black native american hispanic  latin other',\n",
       "       'black native american hispanic  latin',\n",
       "       'asian black pacific islander',\n",
       "       'asian middle eastern black native american indian pacific islander hispanic  latin white other',\n",
       "       'other', 'hispanic  latin other', 'asian black',\n",
       "       'middle eastern white', 'native american white other',\n",
       "       'black native american', 'black white other',\n",
       "       'hispanic  latin white other', 'middle eastern', 'black other',\n",
       "       'native american hispanic  latin white', 'black indian',\n",
       "       'indian white other', 'middle eastern indian other',\n",
       "       'black native american hispanic  latin white other',\n",
       "       'pacific islander hispanic  latin', 'black hispanic  latin white',\n",
       "       'native american', 'indian white', 'asian white other',\n",
       "       'black hispanic  latin', 'asian hispanic  latin white',\n",
       "       'middle eastern hispanic  latin',\n",
       "       'asian black native american pacific islander white',\n",
       "       'middle eastern indian', 'asian indian', 'pacific islander other',\n",
       "       'black native american white other', 'black pacific islander',\n",
       "       'middle eastern native american white',\n",
       "       'asian native american white other',\n",
       "       'pacific islander hispanic  latin white', 'indian other',\n",
       "       'asian pacific islander other', 'black hispanic  latin other',\n",
       "       'asian black native american',\n",
       "       'black native american hispanic  latin white',\n",
       "       'native american hispanic  latin', 'indian hispanic  latin',\n",
       "       'native american pacific islander',\n",
       "       'asian black native american hispanic  latin white',\n",
       "       'asian black white',\n",
       "       'asian black native american pacific islander other',\n",
       "       'middle eastern hispanic  latin white',\n",
       "       'asian pacific islander white',\n",
       "       'asian native american hispanic  latin white other',\n",
       "       'asian hispanic  latin', 'asian pacific islander white other',\n",
       "       'middle eastern white other',\n",
       "       'asian pacific islander hispanic  latin',\n",
       "       'black native american indian other',\n",
       "       'native american hispanic  latin white other',\n",
       "       'black native american other', 'asian other',\n",
       "       'middle eastern hispanic  latin other',\n",
       "       'pacific islander hispanic  latin white other',\n",
       "       'asian black hispanic  latin',\n",
       "       'asian pacific islander hispanic  latin white',\n",
       "       'asian black native american white',\n",
       "       'asian middle eastern white other',\n",
       "       'native american pacific islander hispanic  latin',\n",
       "       'asian native american white',\n",
       "       'native american pacific islander hispanic  latin white other',\n",
       "       'indian pacific islander', 'asian middle eastern black',\n",
       "       'asian middle eastern indian', 'asian middle eastern white',\n",
       "       'pacific islander white other',\n",
       "       'black pacific islander hispanic  latin', 'asian middle eastern',\n",
       "       'asian hispanic  latin other',\n",
       "       'middle eastern black native american indian white other',\n",
       "       'middle eastern pacific islander other', 'middle eastern black',\n",
       "       'asian indian pacific islander',\n",
       "       'black native american pacific islander', 'native american indian',\n",
       "       'asian middle eastern black native american indian pacific islander hispanic  latin white',\n",
       "       'black indian other',\n",
       "       'asian middle eastern indian hispanic  latin white other',\n",
       "       'middle eastern black white', 'asian hispanic  latin white other',\n",
       "       'native american hispanic  latin other',\n",
       "       'middle eastern black pacific islander white',\n",
       "       'asian black native american hispanic  latin',\n",
       "       'native american other', 'black indian white',\n",
       "       'asian native american hispanic  latin white',\n",
       "       'black native american indian white',\n",
       "       'middle eastern black indian pacific islander hispanic  latin white',\n",
       "       'middle eastern hispanic  latin white other'], dtype=object)"
      ]
     },
     "execution_count": 49,
     "metadata": {},
     "output_type": "execute_result"
    }
   ],
   "source": [
    "df['ethnicity'].unique()"
   ]
  },
  {
   "cell_type": "code",
   "execution_count": 50,
   "id": "4492291e-fd26-4bc7-b898-c2d9692e218f",
   "metadata": {},
   "outputs": [
    {
     "data": {
      "text/plain": [
       "array(['White', 'Middle Eastern', 'Asian', 'Black', 'Pacific Islander',\n",
       "       'Indian', 'Native American', 'Other'], dtype=object)"
      ]
     },
     "execution_count": 50,
     "metadata": {},
     "output_type": "execute_result"
    }
   ],
   "source": [
    "ethnicity_groups = {\n",
    "    'asian': 'Asian',\n",
    "    'asian black other': 'Asian',\n",
    "    'asian black pacific islander': 'Asian',\n",
    "    'asian black white': 'Asian',\n",
    "    'asian black native american pacific islander white': 'Asian',\n",
    "    'asian pacific islander': 'Asian',\n",
    "    'asian native american': 'Asian',\n",
    "    'asian middle eastern': 'Asian',\n",
    "    'asian middle eastern black': 'Asian',\n",
    "    'asian middle eastern indian': 'Asian',\n",
    "    'asian middle eastern white': 'Asian',\n",
    "    'asian pacific islander white': 'Asian',\n",
    "    'asian pacific islander other': 'Asian',\n",
    "    'asian pacific islander hispanic latin': 'Asian',\n",
    "    'asian pacific islander white other': 'Asian',\n",
    "    'asian native american white': 'Asian',\n",
    "    'asian native american hispanic latin white': 'Asian',\n",
    "    'asian hispanic latin': 'Asian',\n",
    "    'asian hispanic latin white': 'Asian',\n",
    "    'asian middle eastern white other': 'Asian',\n",
    "    'asian middle eastern black native american': 'Asian',\n",
    "    'asian black native american hispanic latin': 'Asian',\n",
    "    'asian middle eastern black native american indian pacific islander hispanic latin white': 'Asian',\n",
    "    'asian black': 'Asian',\n",
    "    'asian hispanic latin other': 'Asian',\n",
    "    'asian black native american': 'Asian',\n",
    "    'asian black native american hispanic latin white': 'Asian',\n",
    "    'asian black native american pacific islander other': 'Asian',\n",
    "    'asian native american white other': 'Asian',\n",
    "    'asian native american hispanic latin white other': 'Asian',\n",
    "    'asian pacific islander hispanic latin': 'Asian',\n",
    "    'asian pacific islander hispanic latin white': 'Asian',\n",
    "    'asian black hispanic latin': 'Asian',\n",
    "    'asian black native american white': 'Asian',\n",
    "    'asian pacific islander hispanic latin white other': 'Asian',\n",
    "    'asian middle eastern indian hispanic latin white other': 'Asian',\n",
    "\n",
    "    'black': 'Black',\n",
    "    'black white': 'Black',\n",
    "    'black native american': 'Black',\n",
    "    'black pacific islander': 'Black',\n",
    "    'black hispanic latin': 'Black',\n",
    "    'black native american white': 'Black',\n",
    "    'black native american hispanic latin': 'Black',\n",
    "    'black indian': 'Black',\n",
    "    'black other': 'Black',\n",
    "    'black indian other': 'Black',\n",
    "    'black indian white': 'Black',\n",
    "    'black pacific islander hispanic latin': 'Black',\n",
    "    'black native american hispanic latin white': 'Black',\n",
    "    'black hispanic latin white': 'Black',\n",
    "    'black native american white other': 'Black',\n",
    "    'black hispanic latin other': 'Black',\n",
    "    'black native american hispanic latin other': 'Black',\n",
    "    'black native american hispanic latin white other': 'Black',\n",
    "    'black pacific islander hispanic latin': 'Black',\n",
    "    'black native american pacific islander': 'Black',\n",
    "    'black native american indian white': 'Black',\n",
    "    'black native american indian other': 'Black',\n",
    "    'black pacific islander hispanic latin': 'Black',\n",
    "\n",
    "    'white': 'White',\n",
    "    'white other': 'White',\n",
    "    'hispanic latin white': 'White',\n",
    "    'pacific islander white': 'White',\n",
    "    'native american white': 'White',\n",
    "    'middle eastern white': 'White',\n",
    "    'black white other': 'White',\n",
    "    'asian white': 'White',\n",
    "    'asian white other': 'White',\n",
    "    'hispanic latin white other': 'White',\n",
    "    'native american hispanic latin white': 'White',\n",
    "    'asian hispanic latin white other': 'White',\n",
    "    'asian pacific islander white other': 'White',\n",
    "    'native american hispanic latin white other': 'White',\n",
    "    'middle eastern hispanic latin white': 'White',\n",
    "    'middle eastern white other': 'White',\n",
    "    'black native american hispanic latin white other': 'White',\n",
    "    'middle eastern black white': 'White',\n",
    "    'asian hispanic latin white other': 'White',\n",
    "\n",
    "    'hispanic latin': 'Hispanic/Latin',\n",
    "    'hispanic latin white': 'Hispanic/Latin',\n",
    "    'hispanic latin other': 'Hispanic/Latin',\n",
    "    'pacific islander hispanic latin': 'Hispanic/Latin',\n",
    "    'native american hispanic latin': 'Hispanic/Latin',\n",
    "    'pacific islander hispanic latin white': 'Hispanic/Latin',\n",
    "    'pacific islander hispanic latin white other': 'Hispanic/Latin',\n",
    "    'middle eastern hispanic latin': 'Hispanic/Latin',\n",
    "    'middle eastern hispanic latin white': 'Hispanic/Latin',\n",
    "    'asian hispanic latin': 'Hispanic/Latin',\n",
    "    'asian hispanic latin white': 'Hispanic/Latin',\n",
    "    'middle eastern hispanic latin white other': 'Hispanic/Latin',\n",
    "    'asian hispanic latin other': 'Hispanic/Latin',\n",
    "    'black hispanic latin other': 'Hispanic/Latin',\n",
    "\n",
    "    'native american': 'Native American',\n",
    "    'native american white': 'Native American',\n",
    "    'native american other': 'Native American',\n",
    "    'native american pacific islander': 'Native American',\n",
    "    'native american pacific islander hispanic latin': 'Native American',\n",
    "    'native american pacific islander hispanic latin white other': 'Native American',\n",
    "    'black native american hispanic latin': 'Native American',\n",
    "    'native american hispanic latin other': 'Native American',\n",
    "    'native american hispanic latin white': 'Native American',\n",
    "    'native american white other': 'Native American',\n",
    "    'middle eastern native american white': 'Native American',\n",
    "    'native american pacific islander hispanic latin': 'Native American',\n",
    "    'native american pacific islander hispanic latin white other': 'Native American',\n",
    "    'native american indian': 'Native American',\n",
    "\n",
    "    'pacific islander': 'Pacific Islander',\n",
    "    'pacific islander other': 'Pacific Islander',\n",
    "    'pacific islander hispanic latin': 'Pacific Islander',\n",
    "    'pacific islander white': 'Pacific Islander',\n",
    "    'pacific islander hispanic latin white': 'Pacific Islander',\n",
    "    'pacific islander hispanic latin white other': 'Pacific Islander',\n",
    "    'pacific islander white other': 'Pacific Islander',\n",
    "    'black pacific islander hispanic latin': 'Pacific Islander',\n",
    "\n",
    "    'middle eastern': 'Middle Eastern',\n",
    "    'middle eastern white': 'Middle Eastern',\n",
    "    'middle eastern other': 'Middle Eastern',\n",
    "    'middle eastern indian': 'Middle Eastern',\n",
    "    'middle eastern pacific islander other': 'Middle Eastern',\n",
    "    'middle eastern hispanic latin': 'Middle Eastern',\n",
    "    'middle eastern hispanic latin white': 'Middle Eastern',\n",
    "    'middle eastern black': 'Middle Eastern',\n",
    "    'middle eastern black native american indian white other': 'Middle Eastern',\n",
    "    'middle eastern hispanic latin white other': 'Middle Eastern',\n",
    "    'middle eastern black white': 'Middle Eastern',\n",
    "    'middle eastern black pacific islander white': 'Middle Eastern',\n",
    "\n",
    "    'indian': 'Indian',\n",
    "    'indian white': 'Indian',\n",
    "    'indian white other': 'Indian',\n",
    "    'asian indian': 'Indian',\n",
    "    'asian middle eastern indian': 'Indian',\n",
    "    'middle eastern indian other': 'Indian',\n",
    "    'indian hispanic latin': 'Indian',\n",
    "    'asian indian pacific islander': 'Indian',\n",
    "    'indian pacific islander': 'Indian',\n",
    "    'indian other': 'Indian',\n",
    "\n",
    "    'other': 'Other',\n",
    "    'black native american indian other': 'Other',\n",
    "    'middle eastern black indian pacific islander hispanic latin white': 'Other'\n",
    "}\n",
    "\n",
    "# Gruplama işlemi\n",
    "df['ethnicity'] = df['ethnicity'].map(ethnicity_groups)\n",
    "values = df['ethnicity'].dropna().tolist()\n",
    "df['ethnicity'] = df['ethnicity'].apply(lambda x: np.random.choice(values) if pd.isna(x) else x)\n",
    "df['ethnicity'].unique()"
   ]
  },
  {
   "cell_type": "markdown",
   "id": "eac5365b",
   "metadata": {},
   "source": [
    "#### <font color=#2da6f7> generation ile İlgileniyoruz"
   ]
  },
  {
   "cell_type": "code",
   "execution_count": 51,
   "id": "28bc0a6a",
   "metadata": {},
   "outputs": [],
   "source": [
    "df['generation'] = np.where((df['age'] > 18) & (df['age'] < 32), 'X generation',\n",
    "                   np.where((df['age'] > 33) & (df['age'] < 47), 'Y generation',\n",
    "                   np.where((df['age'] > 48) & (df['age'] < 70), 'Boomers generation','Other')))"
   ]
  },
  {
   "cell_type": "code",
   "execution_count": 52,
   "id": "a6000671",
   "metadata": {},
   "outputs": [
    {
     "data": {
      "text/plain": [
       "age            0\n",
       "body_type      0\n",
       "kid            0\n",
       "minute         0\n",
       "hour           0\n",
       "day            0\n",
       "month          0\n",
       "year           0\n",
       "status         0\n",
       "speaks         0\n",
       "smokes         0\n",
       "sign           0\n",
       "sex            0\n",
       "religion       0\n",
       "pets           0\n",
       "orientation    0\n",
       "location       0\n",
       "job            0\n",
       "income         0\n",
       "height         0\n",
       "ethnicity      0\n",
       "education      0\n",
       "drugs          0\n",
       "drinks         0\n",
       "diet           0\n",
       "generation     0\n",
       "dtype: int64"
      ]
     },
     "execution_count": 52,
     "metadata": {},
     "output_type": "execute_result"
    }
   ],
   "source": [
    "df.isnull().sum().sort_values(ascending=False)"
   ]
  },
  {
   "cell_type": "code",
   "execution_count": 53,
   "id": "a797fe98",
   "metadata": {},
   "outputs": [
    {
     "name": "stdout",
     "output_type": "stream",
     "text": [
      "<class 'pandas.core.frame.DataFrame'>\n",
      "Index: 9514 entries, 0 to 9513\n",
      "Data columns (total 26 columns):\n",
      " #   Column       Non-Null Count  Dtype  \n",
      "---  ------       --------------  -----  \n",
      " 0   age          9514 non-null   int32  \n",
      " 1   body_type    9514 non-null   object \n",
      " 2   diet         9514 non-null   object \n",
      " 3   drinks       9514 non-null   object \n",
      " 4   drugs        9514 non-null   object \n",
      " 5   education    9514 non-null   object \n",
      " 6   ethnicity    9514 non-null   object \n",
      " 7   height       9514 non-null   int32  \n",
      " 8   income       9514 non-null   int32  \n",
      " 9   job          9514 non-null   object \n",
      " 10  location     9514 non-null   object \n",
      " 11  orientation  9514 non-null   object \n",
      " 12  pets         9514 non-null   object \n",
      " 13  religion     9514 non-null   object \n",
      " 14  sex          9514 non-null   object \n",
      " 15  sign         9514 non-null   object \n",
      " 16  smokes       9514 non-null   object \n",
      " 17  speaks       9514 non-null   object \n",
      " 18  status       9514 non-null   object \n",
      " 19  year         9514 non-null   int32  \n",
      " 20  month        9514 non-null   int32  \n",
      " 21  day          9514 non-null   int32  \n",
      " 22  hour         9514 non-null   int32  \n",
      " 23  minute       9514 non-null   int32  \n",
      " 24  kid          9514 non-null   float64\n",
      " 25  generation   9514 non-null   object \n",
      "dtypes: float64(1), int32(8), object(17)\n",
      "memory usage: 1.7+ MB\n"
     ]
    }
   ],
   "source": [
    "df.info()"
   ]
  },
  {
   "cell_type": "code",
   "execution_count": 54,
   "id": "c96b2e83-0a6b-4f07-b80b-9b55f2253519",
   "metadata": {},
   "outputs": [
    {
     "data": {
      "text/plain": [
       "generation\n",
       "X generation          5577\n",
       "Y generation          2317\n",
       "Other                  943\n",
       "Boomers generation     677\n",
       "Name: count, dtype: int64"
      ]
     },
     "execution_count": 54,
     "metadata": {},
     "output_type": "execute_result"
    }
   ],
   "source": [
    "df.generation.value_counts()"
   ]
  },
  {
   "cell_type": "code",
   "execution_count": 55,
   "id": "96d1bc64-152c-448d-bacc-59494c1ac2c2",
   "metadata": {},
   "outputs": [],
   "source": [
    "#Bu hatanın çözümü Failed to convert a NumPy array to a Tensor (Unsupported object type int).\n",
    "columns_to_convert = ['age', 'height', 'income','kid']\n",
    "df[columns_to_convert] = df[columns_to_convert].astype(float)"
   ]
  },
  {
   "cell_type": "code",
   "execution_count": 56,
   "id": "33ba151f-32ee-4920-a60f-1907309d8c17",
   "metadata": {},
   "outputs": [
    {
     "name": "stdout",
     "output_type": "stream",
     "text": [
      "<class 'pandas.core.frame.DataFrame'>\n",
      "Index: 9514 entries, 0 to 9513\n",
      "Data columns (total 26 columns):\n",
      " #   Column       Non-Null Count  Dtype  \n",
      "---  ------       --------------  -----  \n",
      " 0   age          9514 non-null   float64\n",
      " 1   body_type    9514 non-null   object \n",
      " 2   diet         9514 non-null   object \n",
      " 3   drinks       9514 non-null   object \n",
      " 4   drugs        9514 non-null   object \n",
      " 5   education    9514 non-null   object \n",
      " 6   ethnicity    9514 non-null   object \n",
      " 7   height       9514 non-null   float64\n",
      " 8   income       9514 non-null   float64\n",
      " 9   job          9514 non-null   object \n",
      " 10  location     9514 non-null   object \n",
      " 11  orientation  9514 non-null   object \n",
      " 12  pets         9514 non-null   object \n",
      " 13  religion     9514 non-null   object \n",
      " 14  sex          9514 non-null   object \n",
      " 15  sign         9514 non-null   object \n",
      " 16  smokes       9514 non-null   object \n",
      " 17  speaks       9514 non-null   object \n",
      " 18  status       9514 non-null   object \n",
      " 19  year         9514 non-null   int32  \n",
      " 20  month        9514 non-null   int32  \n",
      " 21  day          9514 non-null   int32  \n",
      " 22  hour         9514 non-null   int32  \n",
      " 23  minute       9514 non-null   int32  \n",
      " 24  kid          9514 non-null   float64\n",
      " 25  generation   9514 non-null   object \n",
      "dtypes: float64(4), int32(5), object(17)\n",
      "memory usage: 1.8+ MB\n"
     ]
    }
   ],
   "source": [
    "df.info()"
   ]
  },
  {
   "cell_type": "raw",
   "id": "8af56212-b9a4-44c2-955a-e649b62ac5dc",
   "metadata": {},
   "source": []
  },
  {
   "cell_type": "code",
   "execution_count": 57,
   "id": "d6d6576e-1755-4f31-8730-f583270f4eb0",
   "metadata": {},
   "outputs": [
    {
     "data": {
      "text/plain": [
       "['body_type',\n",
       " 'diet',\n",
       " 'drinks',\n",
       " 'drugs',\n",
       " 'education',\n",
       " 'ethnicity',\n",
       " 'job',\n",
       " 'location',\n",
       " 'orientation',\n",
       " 'pets',\n",
       " 'religion',\n",
       " 'sex',\n",
       " 'sign',\n",
       " 'smokes',\n",
       " 'speaks',\n",
       " 'status',\n",
       " 'generation']"
      ]
     },
     "execution_count": 57,
     "metadata": {},
     "output_type": "execute_result"
    }
   ],
   "source": [
    "oc = [col for col in df.columns if df[col].dtype == 'object']\n",
    "oc"
   ]
  },
  {
   "cell_type": "code",
   "execution_count": 58,
   "id": "7dc1e8f4-da4e-44b5-88e6-f38af55ab9f8",
   "metadata": {},
   "outputs": [
    {
     "data": {
      "image/png": "[encoded data removed]",
      "text/plain": [
       "<Figure size 2000x1500 with 9 Axes>"
      ]
     },
     "metadata": {},
     "output_type": "display_data"
    }
   ],
   "source": [
    "fig, ax2=plt.subplots(3,3,figsize=(20,15)) \n",
    "# TR = Subplot çoklu tablo oluşturuyor. a yerine kaç tane satır ve sütün olması gerektiğini yazacağız. \n",
    "# EN = Subplot creates multiple tables. Instead of a, we will write how many rows and columns there should be\n",
    "\n",
    "sns.countplot(df['body_type'],ax=ax2[0][0])\n",
    "sns.countplot(df['diet'],ax=ax2[0][1])\n",
    "sns.countplot(df['drinks'],ax=ax2[0][2])\n",
    "sns.countplot(df['drugs'],ax=ax2[1][0])\n",
    "sns.countplot(df['education'],ax=ax2[1][1])\n",
    "sns.countplot(df['ethnicity'],ax=ax2[1][2])\n",
    "sns.countplot(df['job'],ax=ax2[2][0])\n",
    "sns.countplot(df['orientation'],ax=ax2[2][1])\n",
    "sns.countplot(df['pets'],ax=ax2[2][2]);\n",
    "# TR = ax2 sonrası ([x][y]) yazı [x] ekseninde kaçıncı sırada,[y] ekseninde kaçıncı sırada olacağını belirtiyor.\n",
    "# EN = The text after ax2 ([x][y]) indicates the rank on the [x] axis and the rank on the [y] axis."
   ]
  },
  {
   "cell_type": "code",
   "execution_count": 59,
   "id": "0226c495-c5c7-4890-9b54-162f9062e74c",
   "metadata": {},
   "outputs": [
    {
     "data": {
      "image/png": "[encoded data removed]",
      "text/plain": [
       "<Figure size 2000x2000 with 6 Axes>"
      ]
     },
     "metadata": {},
     "output_type": "display_data"
    }
   ],
   "source": [
    "fig, ax2=plt.subplots(2,3,figsize=(20,20))\n",
    "\n",
    "sns.countplot(df['religion'],ax=ax2[0][0])\n",
    "sns.countplot(df['sex'],ax=ax2[0][1])\n",
    "sns.countplot(df['sign'],ax=ax2[0][2])\n",
    "sns.countplot(df['smokes'],ax=ax2[1][0])\n",
    "sns.countplot(df['status'],ax=ax2[1][1])\n",
    "sns.countplot(df['generation'],ax=ax2[1][2]);"
   ]
  },
  {
   "cell_type": "markdown",
   "id": "53dbeca5",
   "metadata": {},
   "source": [
    "## <font color=#e82709> Feature Engineering"
   ]
  },
  {
   "cell_type": "markdown",
   "id": "3a04a37b",
   "metadata": {},
   "source": [
    "## <font color=#fa7efc> Modelling"
   ]
  },
  {
   "cell_type": "code",
   "execution_count": 60,
   "id": "04cad9f3",
   "metadata": {},
   "outputs": [
    {
     "data": {
      "text/html": [
       "<div>\n",
       "<style scoped>\n",
       "    .dataframe tbody tr th:only-of-type {\n",
       "        vertical-align: middle;\n",
       "    }\n",
       "\n",
       "    .dataframe tbody tr th {\n",
       "        vertical-align: top;\n",
       "    }\n",
       "\n",
       "    .dataframe thead th {\n",
       "        text-align: right;\n",
       "    }\n",
       "</style>\n",
       "<table border=\"1\" class=\"dataframe\">\n",
       "  <thead>\n",
       "    <tr style=\"text-align: right;\">\n",
       "      <th></th>\n",
       "      <th>age</th>\n",
       "      <th>body_type</th>\n",
       "      <th>diet</th>\n",
       "      <th>drinks</th>\n",
       "      <th>drugs</th>\n",
       "      <th>education</th>\n",
       "      <th>ethnicity</th>\n",
       "      <th>height</th>\n",
       "      <th>income</th>\n",
       "      <th>job</th>\n",
       "      <th>location</th>\n",
       "      <th>orientation</th>\n",
       "      <th>pets</th>\n",
       "      <th>religion</th>\n",
       "      <th>sex</th>\n",
       "      <th>sign</th>\n",
       "      <th>smokes</th>\n",
       "      <th>speaks</th>\n",
       "      <th>status</th>\n",
       "      <th>year</th>\n",
       "      <th>month</th>\n",
       "      <th>day</th>\n",
       "      <th>hour</th>\n",
       "      <th>minute</th>\n",
       "      <th>kid</th>\n",
       "      <th>generation</th>\n",
       "    </tr>\n",
       "  </thead>\n",
       "  <tbody>\n",
       "    <tr>\n",
       "      <th>0</th>\n",
       "      <td>22.0</td>\n",
       "      <td>extra</td>\n",
       "      <td>anything</td>\n",
       "      <td>socially</td>\n",
       "      <td>never</td>\n",
       "      <td>Working on Education</td>\n",
       "      <td>White</td>\n",
       "      <td>75.0</td>\n",
       "      <td>-1.0</td>\n",
       "      <td>transportation</td>\n",
       "      <td>south san francisco california</td>\n",
       "      <td>straight</td>\n",
       "      <td>cat and dog lover</td>\n",
       "      <td>agnosticism</td>\n",
       "      <td>m</td>\n",
       "      <td>gemini</td>\n",
       "      <td>sometimes</td>\n",
       "      <td>english</td>\n",
       "      <td>single</td>\n",
       "      <td>2012</td>\n",
       "      <td>6</td>\n",
       "      <td>28</td>\n",
       "      <td>20</td>\n",
       "      <td>30</td>\n",
       "      <td>0.0</td>\n",
       "      <td>X generation</td>\n",
       "    </tr>\n",
       "  </tbody>\n",
       "</table>\n",
       "</div>"
      ],
      "text/plain": [
       "    age body_type      diet    drinks  drugs             education ethnicity  \\\n",
       "0  22.0     extra  anything  socially  never  Working on Education     White   \n",
       "\n",
       "   height  income             job                        location orientation  \\\n",
       "0    75.0    -1.0  transportation  south san francisco california    straight   \n",
       "\n",
       "                pets     religion sex    sign     smokes   speaks  status  \\\n",
       "0  cat and dog lover  agnosticism   m  gemini  sometimes  english  single   \n",
       "\n",
       "   year  month  day  hour  minute  kid    generation  \n",
       "0  2012      6   28    20      30  0.0  X generation  "
      ]
     },
     "execution_count": 60,
     "metadata": {},
     "output_type": "execute_result"
    }
   ],
   "source": [
    "df.head(1)"
   ]
  },
  {
   "cell_type": "code",
   "execution_count": 61,
   "id": "eff99830-a581-4f16-81db-696cd95e49d1",
   "metadata": {},
   "outputs": [
    {
     "data": {
      "text/html": [
       "<div>\n",
       "<style scoped>\n",
       "    .dataframe tbody tr th:only-of-type {\n",
       "        vertical-align: middle;\n",
       "    }\n",
       "\n",
       "    .dataframe tbody tr th {\n",
       "        vertical-align: top;\n",
       "    }\n",
       "\n",
       "    .dataframe thead th {\n",
       "        text-align: right;\n",
       "    }\n",
       "</style>\n",
       "<table border=\"1\" class=\"dataframe\">\n",
       "  <thead>\n",
       "    <tr style=\"text-align: right;\">\n",
       "      <th></th>\n",
       "      <th>age</th>\n",
       "      <th>body_type</th>\n",
       "      <th>diet</th>\n",
       "      <th>drinks</th>\n",
       "      <th>drugs</th>\n",
       "      <th>education</th>\n",
       "      <th>ethnicity</th>\n",
       "      <th>height</th>\n",
       "      <th>income</th>\n",
       "      <th>job</th>\n",
       "      <th>location</th>\n",
       "      <th>orientation</th>\n",
       "      <th>pets</th>\n",
       "      <th>religion</th>\n",
       "      <th>sex</th>\n",
       "      <th>sign</th>\n",
       "      <th>smokes</th>\n",
       "      <th>speaks</th>\n",
       "      <th>status</th>\n",
       "      <th>year</th>\n",
       "      <th>month</th>\n",
       "      <th>day</th>\n",
       "      <th>hour</th>\n",
       "      <th>minute</th>\n",
       "      <th>kid</th>\n",
       "      <th>generation</th>\n",
       "    </tr>\n",
       "  </thead>\n",
       "  <tbody>\n",
       "    <tr>\n",
       "      <th>0</th>\n",
       "      <td>22.0</td>\n",
       "      <td>extra</td>\n",
       "      <td>anything</td>\n",
       "      <td>socially</td>\n",
       "      <td>never</td>\n",
       "      <td>Working on Education</td>\n",
       "      <td>White</td>\n",
       "      <td>75.0</td>\n",
       "      <td>-1.0</td>\n",
       "      <td>transportation</td>\n",
       "      <td>south san francisco california</td>\n",
       "      <td>straight</td>\n",
       "      <td>cat and dog lover</td>\n",
       "      <td>agnosticism</td>\n",
       "      <td>m</td>\n",
       "      <td>gemini</td>\n",
       "      <td>sometimes</td>\n",
       "      <td>english</td>\n",
       "      <td>single</td>\n",
       "      <td>2012</td>\n",
       "      <td>6</td>\n",
       "      <td>28</td>\n",
       "      <td>20</td>\n",
       "      <td>30</td>\n",
       "      <td>0.0</td>\n",
       "      <td>X generation</td>\n",
       "    </tr>\n",
       "  </tbody>\n",
       "</table>\n",
       "</div>"
      ],
      "text/plain": [
       "    age body_type      diet    drinks  drugs             education ethnicity  \\\n",
       "0  22.0     extra  anything  socially  never  Working on Education     White   \n",
       "\n",
       "   height  income             job                        location orientation  \\\n",
       "0    75.0    -1.0  transportation  south san francisco california    straight   \n",
       "\n",
       "                pets     religion sex    sign     smokes   speaks  status  \\\n",
       "0  cat and dog lover  agnosticism   m  gemini  sometimes  english  single   \n",
       "\n",
       "   year  month  day  hour  minute  kid    generation  \n",
       "0  2012      6   28    20      30  0.0  X generation  "
      ]
     },
     "execution_count": 61,
     "metadata": {},
     "output_type": "execute_result"
    }
   ],
   "source": [
    "df1=df\n",
    "df1.head(1)"
   ]
  },
  {
   "cell_type": "code",
   "execution_count": 62,
   "id": "009e20ba-4012-473e-a1c3-1bcbab143c9f",
   "metadata": {},
   "outputs": [
    {
     "data": {
      "text/html": [
       "<div>\n",
       "<style scoped>\n",
       "    .dataframe tbody tr th:only-of-type {\n",
       "        vertical-align: middle;\n",
       "    }\n",
       "\n",
       "    .dataframe tbody tr th {\n",
       "        vertical-align: top;\n",
       "    }\n",
       "\n",
       "    .dataframe thead th {\n",
       "        text-align: right;\n",
       "    }\n",
       "</style>\n",
       "<table border=\"1\" class=\"dataframe\">\n",
       "  <thead>\n",
       "    <tr style=\"text-align: right;\">\n",
       "      <th></th>\n",
       "      <th>age</th>\n",
       "      <th>body_type</th>\n",
       "      <th>diet</th>\n",
       "      <th>drinks</th>\n",
       "      <th>drugs</th>\n",
       "      <th>education</th>\n",
       "      <th>ethnicity</th>\n",
       "      <th>height</th>\n",
       "      <th>income</th>\n",
       "      <th>job</th>\n",
       "      <th>location</th>\n",
       "      <th>orientation</th>\n",
       "      <th>pets</th>\n",
       "      <th>religion</th>\n",
       "      <th>sex</th>\n",
       "      <th>sign</th>\n",
       "      <th>smokes</th>\n",
       "      <th>speaks</th>\n",
       "      <th>status</th>\n",
       "      <th>year</th>\n",
       "      <th>month</th>\n",
       "      <th>day</th>\n",
       "      <th>hour</th>\n",
       "      <th>minute</th>\n",
       "      <th>kid</th>\n",
       "      <th>generation</th>\n",
       "    </tr>\n",
       "  </thead>\n",
       "  <tbody>\n",
       "    <tr>\n",
       "      <th>0</th>\n",
       "      <td>22.0</td>\n",
       "      <td>extra</td>\n",
       "      <td>anything</td>\n",
       "      <td>socially</td>\n",
       "      <td>never</td>\n",
       "      <td>Working on Education</td>\n",
       "      <td>White</td>\n",
       "      <td>75.0</td>\n",
       "      <td>-1.0</td>\n",
       "      <td>transportation</td>\n",
       "      <td>south san francisco california</td>\n",
       "      <td>straight</td>\n",
       "      <td>cat and dog lover</td>\n",
       "      <td>agnosticism</td>\n",
       "      <td>m</td>\n",
       "      <td>gemini</td>\n",
       "      <td>sometimes</td>\n",
       "      <td>english</td>\n",
       "      <td>single</td>\n",
       "      <td>2012</td>\n",
       "      <td>6</td>\n",
       "      <td>28</td>\n",
       "      <td>20</td>\n",
       "      <td>30</td>\n",
       "      <td>0.0</td>\n",
       "      <td>X generation</td>\n",
       "    </tr>\n",
       "  </tbody>\n",
       "</table>\n",
       "</div>"
      ],
      "text/plain": [
       "    age body_type      diet    drinks  drugs             education ethnicity  \\\n",
       "0  22.0     extra  anything  socially  never  Working on Education     White   \n",
       "\n",
       "   height  income             job                        location orientation  \\\n",
       "0    75.0    -1.0  transportation  south san francisco california    straight   \n",
       "\n",
       "                pets     religion sex    sign     smokes   speaks  status  \\\n",
       "0  cat and dog lover  agnosticism   m  gemini  sometimes  english  single   \n",
       "\n",
       "   year  month  day  hour  minute  kid    generation  \n",
       "0  2012      6   28    20      30  0.0  X generation  "
      ]
     },
     "execution_count": 62,
     "metadata": {},
     "output_type": "execute_result"
    }
   ],
   "source": [
    "df2=df\n",
    "df2.head(1)"
   ]
  },
  {
   "cell_type": "code",
   "execution_count": 63,
   "id": "fea94aef",
   "metadata": {},
   "outputs": [],
   "source": [
    "x=df1[['body_type', 'diet', 'drinks', 'drugs', 'education', 'height', 'income','kid','location','job','ethnicity', 'orientation', \n",
    "       'pets','religion', 'sex', 'sign', 'smokes', 'status','generation']]\n",
    "y=df1[['age']]"
   ]
  },
  {
   "cell_type": "code",
   "execution_count": 64,
   "id": "75afaed5-fca2-4c01-9e7f-c258e909ecf5",
   "metadata": {},
   "outputs": [],
   "source": [
    "x=pd.get_dummies(x,drop_first=True)"
   ]
  },
  {
   "cell_type": "code",
   "execution_count": 65,
   "id": "d2d10cb6",
   "metadata": {},
   "outputs": [],
   "source": [
    "x_train,x_test,y_train,y_test=train_test_split(x,y,test_size=.20,random_state=42)"
   ]
  },
  {
   "cell_type": "markdown",
   "id": "1371e151",
   "metadata": {},
   "source": [
    "## <font color=red> Regression Derin Öğrenme"
   ]
  },
  {
   "cell_type": "code",
   "execution_count": 66,
   "id": "3758fa0f-5a2b-4b06-b208-ea9472fd9bfa",
   "metadata": {},
   "outputs": [],
   "source": [
    "scaler = MinMaxScaler()\n",
    "# TR = Girdilerin belirli bir aralıkta olması performansı artırır. Bu nedenle MinMaxScaler ile verileri 0 ile 1 arasında normalize ediyoruz.\n",
    "# EN = Having inputs within a certain range improves performance. Therefore, we normalize the data between 0 and 1 with MinMaxScaler.\n",
    "\n",
    "x_train_scaled = scaler.fit_transform(x_train) \n",
    "# TR = Verileri ölçekleyerek, modelin daha hızlı ve etkili öğrenmesini sağlamak için tüm özellikleri aynı aralığa getiriyoruz.\n",
    "# EN = By scaling the data, we bring all the features into the same range to allow the model to learn faster and more effectively.\n",
    "\n",
    "x_test_scaled = scaler.transform(x_test)\n",
    "# TR = Test verilerini eğitimde kullanılan aynı ölçekle dönüştürerek modelin test verileri üzerinde doğru tahminler yapmasını sağlar.\n",
    "# EN = It enables the model to make accurate predictions on the test data by transforming the test data to the same scale used in training.\n",
    "\n",
    "model = Sequential()\n",
    "# TR = Modelin katmanlarını sırayla eklemek için Sequential kullanıyoruz.\n",
    "# EN = We use Sequential to add layers of the model in order.\n",
    "\n",
    "model.add(Dense(128, input_dim=x_train.shape[1]))  # Girdi boyutunu belirtiyoruz ve 128 nöronlu bir katman ekliyoruz\n",
    "# TR = 128 nöronlu bir katman ekliyoruz.\n",
    "# EN = We add a layer with 128 neurons.\n",
    "\n",
    "# TR = input_dim=x_train.shape[1] Modelin ilk katmanına giriş verilerinin boyutunu tanımlayarak her özelliğin doğru şekilde işlenmesini sağlar.\n",
    "# EN = input_dim=x_train.shape[1] Defines the size of the input data in the first layer of the model, ensuring that each feature is processed correctly.\n",
    "\n",
    "model.add(LeakyReLU(alpha=0.1))  # ReLU'nun geliştirilmiş hali olan LeakyReLU kullanıyoruz, negatif değerleri de öğreniyor\n",
    "# TR = LeakyReLU'yu, negatif değerlerde de küçük bir eğim sağlayarak ReLU'nun neden olabileceği \"ölü nöron\" problemini önlemek ve öğrenmeyi iyileştirmek için kullandık.\n",
    "# EN = We used LeakyReLU to improve learning and avoid the \"dead neuron\" problem that ReLU can cause by providing a small gradient even at negative values.\n",
    "\n",
    "# TR = A value of alpha = 0.1 provides a small but constant slope on negative inputs, allowing the model to learn from these values ​​as well.\n",
    "# EN = alpha=0.1 değeri, negatif girişlerde küçük ama sabit bir eğim sağlayarak modelin bu değerlerden de bilgi öğrenmesine olanak tanır.\n",
    "\n",
    "model.add(Dense(64))\n",
    "model.add(LeakyReLU(alpha=0.1))\n",
    "\n",
    "model.add(Dropout(0.2))\n",
    "# TR = Aşırı öğrenmeyi önlemek için Dropout ile rastgele nöronları devre dışı bırakıyoruz, aşırı öğrenmeyi engelliyor.\n",
    "# EN = To prevent over-learning, we disable random neurons with Dropout, it prevents over-learning.\n",
    "\n",
    "model.add(Dense(32))\n",
    "model.add(LeakyReLU(alpha=0.1))\n",
    "\n",
    "model.add(Dense(16))\n",
    "model.add(LeakyReLU(alpha=0.1))\n",
    "\n",
    "model.add(Dropout(0.2))\n",
    "\n",
    "model.add(Dense(1, activation='linear'))\n",
    "# TR = Regresyon görevleri için lineer aktivasyon kullanıyoruz.\n",
    "# EN = We use linear activation for regression tasks.\n",
    "\n",
    "model.compile(loss='mse', optimizer='adam')  # Modeli ortalama kare hata (mse) kaybı ile derliyoruz\n",
    "# TR = Modeli ortalama kare hata (mse) kaybı ile derliyoruz.\n",
    "# EN = We compile the model with mean square error (mse) loss.\n",
    "\n",
    "early_stopping = EarlyStopping(monitor='val_loss', patience=10, restore_best_weights=True)  \n",
    "# TR = EarlyStopping ekleyin: Eğitim sırasında model performansı iyileşmediğinde erken durması için kullanıyoruz.\n",
    "# EN = Add EarlyStopping: We use it to stop early when model performance does not improve during training.\n",
    "\n",
    "# TR = val_loss 10 epoch boyunca iyileşmezse eğitimi durduruyor ve en iyi ağırlıkları geri yüklüyor.\n",
    "# EN = If val_loss does not improve for 10 epochs, it stops training and restores the best weights.\n"
   ]
  },
  {
   "cell_type": "code",
   "execution_count": 67,
   "id": "888ed42e",
   "metadata": {
    "scrolled": true
   },
   "outputs": [
    {
     "name": "stdout",
     "output_type": "stream",
     "text": [
      "Epoch 1/100\n",
      "\u001b[1m60/60\u001b[0m \u001b[32m━━━━━━━━━━━━━━━━━━━━\u001b[0m\u001b[37m\u001b[0m \u001b[1m2s\u001b[0m 4ms/step - loss: 882.5245 - val_loss: 115.2896\n",
      "Epoch 2/100\n",
      "\u001b[1m60/60\u001b[0m \u001b[32m━━━━━━━━━━━━━━━━━━━━\u001b[0m\u001b[37m\u001b[0m \u001b[1m0s\u001b[0m 2ms/step - loss: 133.8098 - val_loss: 68.7201\n",
      "Epoch 3/100\n",
      "\u001b[1m60/60\u001b[0m \u001b[32m━━━━━━━━━━━━━━━━━━━━\u001b[0m\u001b[37m\u001b[0m \u001b[1m0s\u001b[0m 2ms/step - loss: 100.2202 - val_loss: 54.6889\n",
      "Epoch 4/100\n",
      "\u001b[1m60/60\u001b[0m \u001b[32m━━━━━━━━━━━━━━━━━━━━\u001b[0m\u001b[37m\u001b[0m \u001b[1m0s\u001b[0m 2ms/step - loss: 83.5424 - val_loss: 46.3830\n",
      "Epoch 5/100\n",
      "\u001b[1m60/60\u001b[0m \u001b[32m━━━━━━━━━━━━━━━━━━━━\u001b[0m\u001b[37m\u001b[0m \u001b[1m0s\u001b[0m 2ms/step - loss: 73.1297 - val_loss: 37.8673\n",
      "Epoch 6/100\n",
      "\u001b[1m60/60\u001b[0m \u001b[32m━━━━━━━━━━━━━━━━━━━━\u001b[0m\u001b[37m\u001b[0m \u001b[1m0s\u001b[0m 2ms/step - loss: 63.1007 - val_loss: 32.1278\n",
      "Epoch 7/100\n",
      "\u001b[1m60/60\u001b[0m \u001b[32m━━━━━━━━━━━━━━━━━━━━\u001b[0m\u001b[37m\u001b[0m \u001b[1m0s\u001b[0m 2ms/step - loss: 56.2096 - val_loss: 22.4092\n",
      "Epoch 8/100\n",
      "\u001b[1m60/60\u001b[0m \u001b[32m━━━━━━━━━━━━━━━━━━━━\u001b[0m\u001b[37m\u001b[0m \u001b[1m0s\u001b[0m 2ms/step - loss: 51.0910 - val_loss: 19.2629\n",
      "Epoch 9/100\n",
      "\u001b[1m60/60\u001b[0m \u001b[32m━━━━━━━━━━━━━━━━━━━━\u001b[0m\u001b[37m\u001b[0m \u001b[1m0s\u001b[0m 2ms/step - loss: 47.5942 - val_loss: 19.2703\n",
      "Epoch 10/100\n",
      "\u001b[1m60/60\u001b[0m \u001b[32m━━━━━━━━━━━━━━━━━━━━\u001b[0m\u001b[37m\u001b[0m \u001b[1m0s\u001b[0m 2ms/step - loss: 46.1177 - val_loss: 17.9152\n",
      "Epoch 11/100\n",
      "\u001b[1m60/60\u001b[0m \u001b[32m━━━━━━━━━━━━━━━━━━━━\u001b[0m\u001b[37m\u001b[0m \u001b[1m0s\u001b[0m 2ms/step - loss: 44.1824 - val_loss: 21.9996\n",
      "Epoch 12/100\n",
      "\u001b[1m60/60\u001b[0m \u001b[32m━━━━━━━━━━━━━━━━━━━━\u001b[0m\u001b[37m\u001b[0m \u001b[1m0s\u001b[0m 2ms/step - loss: 40.3377 - val_loss: 18.6264\n",
      "Epoch 13/100\n",
      "\u001b[1m60/60\u001b[0m \u001b[32m━━━━━━━━━━━━━━━━━━━━\u001b[0m\u001b[37m\u001b[0m \u001b[1m0s\u001b[0m 2ms/step - loss: 40.8061 - val_loss: 17.9429\n",
      "Epoch 14/100\n",
      "\u001b[1m60/60\u001b[0m \u001b[32m━━━━━━━━━━━━━━━━━━━━\u001b[0m\u001b[37m\u001b[0m \u001b[1m0s\u001b[0m 2ms/step - loss: 40.7415 - val_loss: 16.6268\n",
      "Epoch 15/100\n",
      "\u001b[1m60/60\u001b[0m \u001b[32m━━━━━━━━━━━━━━━━━━━━\u001b[0m\u001b[37m\u001b[0m \u001b[1m0s\u001b[0m 2ms/step - loss: 37.2592 - val_loss: 20.5390\n",
      "Epoch 16/100\n",
      "\u001b[1m60/60\u001b[0m \u001b[32m━━━━━━━━━━━━━━━━━━━━\u001b[0m\u001b[37m\u001b[0m \u001b[1m0s\u001b[0m 2ms/step - loss: 37.4484 - val_loss: 19.7128\n",
      "Epoch 17/100\n",
      "\u001b[1m60/60\u001b[0m \u001b[32m━━━━━━━━━━━━━━━━━━━━\u001b[0m\u001b[37m\u001b[0m \u001b[1m0s\u001b[0m 2ms/step - loss: 36.9544 - val_loss: 16.5823\n",
      "Epoch 18/100\n",
      "\u001b[1m60/60\u001b[0m \u001b[32m━━━━━━━━━━━━━━━━━━━━\u001b[0m\u001b[37m\u001b[0m \u001b[1m0s\u001b[0m 2ms/step - loss: 38.1012 - val_loss: 18.4526\n",
      "Epoch 19/100\n",
      "\u001b[1m60/60\u001b[0m \u001b[32m━━━━━━━━━━━━━━━━━━━━\u001b[0m\u001b[37m\u001b[0m \u001b[1m0s\u001b[0m 2ms/step - loss: 37.3034 - val_loss: 21.1444\n",
      "Epoch 20/100\n",
      "\u001b[1m60/60\u001b[0m \u001b[32m━━━━━━━━━━━━━━━━━━━━\u001b[0m\u001b[37m\u001b[0m \u001b[1m0s\u001b[0m 2ms/step - loss: 39.0821 - val_loss: 17.4494\n",
      "Epoch 21/100\n",
      "\u001b[1m60/60\u001b[0m \u001b[32m━━━━━━━━━━━━━━━━━━━━\u001b[0m\u001b[37m\u001b[0m \u001b[1m0s\u001b[0m 2ms/step - loss: 34.9213 - val_loss: 18.7206\n",
      "Epoch 22/100\n",
      "\u001b[1m60/60\u001b[0m \u001b[32m━━━━━━━━━━━━━━━━━━━━\u001b[0m\u001b[37m\u001b[0m \u001b[1m0s\u001b[0m 2ms/step - loss: 36.2851 - val_loss: 16.6559\n",
      "Epoch 23/100\n",
      "\u001b[1m60/60\u001b[0m \u001b[32m━━━━━━━━━━━━━━━━━━━━\u001b[0m\u001b[37m\u001b[0m \u001b[1m0s\u001b[0m 2ms/step - loss: 34.8691 - val_loss: 22.3954\n",
      "Epoch 24/100\n",
      "\u001b[1m60/60\u001b[0m \u001b[32m━━━━━━━━━━━━━━━━━━━━\u001b[0m\u001b[37m\u001b[0m \u001b[1m0s\u001b[0m 2ms/step - loss: 36.0706 - val_loss: 16.9152\n",
      "Epoch 25/100\n",
      "\u001b[1m60/60\u001b[0m \u001b[32m━━━━━━━━━━━━━━━━━━━━\u001b[0m\u001b[37m\u001b[0m \u001b[1m0s\u001b[0m 2ms/step - loss: 35.3609 - val_loss: 18.6136\n",
      "Epoch 26/100\n",
      "\u001b[1m60/60\u001b[0m \u001b[32m━━━━━━━━━━━━━━━━━━━━\u001b[0m\u001b[37m\u001b[0m \u001b[1m0s\u001b[0m 2ms/step - loss: 35.7456 - val_loss: 18.7512\n",
      "Epoch 27/100\n",
      "\u001b[1m60/60\u001b[0m \u001b[32m━━━━━━━━━━━━━━━━━━━━\u001b[0m\u001b[37m\u001b[0m \u001b[1m0s\u001b[0m 2ms/step - loss: 33.0039 - val_loss: 19.7666\n"
     ]
    }
   ],
   "source": [
    "graphic1=model.fit(x_train_scaled, y_train, validation_data=(x_test_scaled, y_test), batch_size=128, epochs=100, callbacks=[early_stopping])\n",
    "# TR = Modeli 100 epoch boyunca eğitiyoruz, fakat EarlyStopping ile durdurulabilir. Batch boyutu 128 olarak belirlenmiş.\n",
    "# EN = We train the model for 100 epochs, but it can be stopped with EarlyStopping. Batch size is set to 128."
   ]
  },
  {
   "cell_type": "code",
   "execution_count": 68,
   "id": "423db60b",
   "metadata": {},
   "outputs": [
    {
     "name": "stdout",
     "output_type": "stream",
     "text": [
      "\u001b[1m60/60\u001b[0m \u001b[32m━━━━━━━━━━━━━━━━━━━━\u001b[0m\u001b[37m\u001b[0m \u001b[1m0s\u001b[0m 2ms/step\n"
     ]
    }
   ],
   "source": [
    "pred = model.predict(x_test_scaled)"
   ]
  },
  {
   "cell_type": "code",
   "execution_count": 69,
   "id": "1f4aab55",
   "metadata": {},
   "outputs": [
    {
     "name": "stdout",
     "output_type": "stream",
     "text": [
      "0.8175460613776748\n"
     ]
    }
   ],
   "source": [
    "print(r2_score(y_test, pred))"
   ]
  },
  {
   "cell_type": "code",
   "execution_count": 70,
   "id": "7eb45089",
   "metadata": {},
   "outputs": [
    {
     "data": {
      "text/plain": [
       "4.072139290868949"
      ]
     },
     "execution_count": 70,
     "metadata": {},
     "output_type": "execute_result"
    }
   ],
   "source": [
    "mean_squared_error(y_test,pred)**.5"
   ]
  },
  {
   "cell_type": "code",
   "execution_count": 71,
   "id": "fc600ac5",
   "metadata": {},
   "outputs": [
    {
     "data": {
      "text/plain": [
       "3.0789232835353704"
      ]
     },
     "execution_count": 71,
     "metadata": {},
     "output_type": "execute_result"
    }
   ],
   "source": [
    "mean_absolute_error(y_test,pred)"
   ]
  },
  {
   "cell_type": "code",
   "execution_count": 72,
   "id": "e59f077a-5d11-4484-8054-46aeba2ad165",
   "metadata": {},
   "outputs": [],
   "source": [
    "residuals=y_test-pred"
   ]
  },
  {
   "cell_type": "code",
   "execution_count": 73,
   "id": "347caf1d-ffad-48eb-a3ae-d98d9f79589f",
   "metadata": {},
   "outputs": [
    {
     "data": {
      "image/png": "[encoded data removed]",
      "text/plain": [
       "<Figure size 640x480 with 1 Axes>"
      ]
     },
     "metadata": {},
     "output_type": "display_data"
    }
   ],
   "source": [
    "sns.kdeplot(x=residuals['age'],fill=True);"
   ]
  },
  {
   "cell_type": "code",
   "execution_count": 74,
   "id": "55762c3a",
   "metadata": {},
   "outputs": [],
   "source": [
    "loss_f=pd.DataFrame(graphic1.history)"
   ]
  },
  {
   "cell_type": "code",
   "execution_count": 75,
   "id": "4e7d8f00",
   "metadata": {},
   "outputs": [
    {
     "data": {
      "image/png": "[encoded data removed]",
      "text/plain": [
       "<Figure size 640x480 with 1 Axes>"
      ]
     },
     "metadata": {},
     "output_type": "display_data"
    }
   ],
   "source": [
    "loss_f.plot();"
   ]
  },
  {
   "cell_type": "raw",
   "id": "6aa6445c",
   "metadata": {},
   "source": []
  },
  {
   "cell_type": "markdown",
   "id": "b3087a28",
   "metadata": {},
   "source": [
    "## <font color=red> Classification Derin Öğrenme"
   ]
  },
  {
   "cell_type": "code",
   "execution_count": 76,
   "id": "a5d6f412-e7e5-411e-875f-5d51db951e9a",
   "metadata": {},
   "outputs": [],
   "source": [
    "x=df2[['body_type', 'diet', 'drinks', 'drugs', 'education', 'height', 'income', 'kid','job','ethnicity', 'location', 'orientation', \n",
    "       'pets','religion', 'sex', 'sign', 'smokes', 'speaks', 'status','age']]\n",
    "y=df2[['generation']]"
   ]
  },
  {
   "cell_type": "code",
   "execution_count": 77,
   "id": "ed46d8c1-b610-4e24-b27c-171872821a09",
   "metadata": {},
   "outputs": [
    {
     "name": "stdout",
     "output_type": "stream",
     "text": [
      "<class 'pandas.core.frame.DataFrame'>\n",
      "Index: 9514 entries, 0 to 9513\n",
      "Data columns (total 20 columns):\n",
      " #   Column       Non-Null Count  Dtype  \n",
      "---  ------       --------------  -----  \n",
      " 0   body_type    9514 non-null   object \n",
      " 1   diet         9514 non-null   object \n",
      " 2   drinks       9514 non-null   object \n",
      " 3   drugs        9514 non-null   object \n",
      " 4   education    9514 non-null   object \n",
      " 5   height       9514 non-null   float64\n",
      " 6   income       9514 non-null   float64\n",
      " 7   kid          9514 non-null   float64\n",
      " 8   job          9514 non-null   object \n",
      " 9   ethnicity    9514 non-null   object \n",
      " 10  location     9514 non-null   object \n",
      " 11  orientation  9514 non-null   object \n",
      " 12  pets         9514 non-null   object \n",
      " 13  religion     9514 non-null   object \n",
      " 14  sex          9514 non-null   object \n",
      " 15  sign         9514 non-null   object \n",
      " 16  smokes       9514 non-null   object \n",
      " 17  speaks       9514 non-null   object \n",
      " 18  status       9514 non-null   object \n",
      " 19  age          9514 non-null   float64\n",
      "dtypes: float64(4), object(16)\n",
      "memory usage: 1.5+ MB\n"
     ]
    }
   ],
   "source": [
    "x.info()"
   ]
  },
  {
   "cell_type": "code",
   "execution_count": 78,
   "id": "91f32313-7f8f-49e1-a654-8b7c8611c0d4",
   "metadata": {},
   "outputs": [],
   "source": [
    "x=pd.get_dummies(x,drop_first=True)"
   ]
  },
  {
   "cell_type": "code",
   "execution_count": 79,
   "id": "6500bc98-c81d-4a7a-88da-fa321189f803",
   "metadata": {},
   "outputs": [
    {
     "data": {
      "text/html": [
       "<div>\n",
       "<style scoped>\n",
       "    .dataframe tbody tr th:only-of-type {\n",
       "        vertical-align: middle;\n",
       "    }\n",
       "\n",
       "    .dataframe tbody tr th {\n",
       "        vertical-align: top;\n",
       "    }\n",
       "\n",
       "    .dataframe thead th {\n",
       "        text-align: right;\n",
       "    }\n",
       "</style>\n",
       "<table border=\"1\" class=\"dataframe\">\n",
       "  <thead>\n",
       "    <tr style=\"text-align: right;\">\n",
       "      <th></th>\n",
       "      <th>height</th>\n",
       "      <th>income</th>\n",
       "      <th>kid</th>\n",
       "      <th>age</th>\n",
       "      <th>body_type_curvy</th>\n",
       "      <th>body_type_extra</th>\n",
       "      <th>body_type_fit</th>\n",
       "      <th>body_type_other</th>\n",
       "      <th>body_type_thin</th>\n",
       "      <th>diet_halal</th>\n",
       "      <th>diet_kosher</th>\n",
       "      <th>diet_other</th>\n",
       "      <th>diet_vegan</th>\n",
       "      <th>diet_vegetarian</th>\n",
       "      <th>drinks_not at all</th>\n",
       "      <th>drinks_often</th>\n",
       "      <th>drinks_rarely</th>\n",
       "      <th>...</th>\n",
       "      <th>speaks_english thai okay french poorly</th>\n",
       "      <th>speaks_english thai okay spanish poorly</th>\n",
       "      <th>speaks_english thai poorly</th>\n",
       "      <th>speaks_english tibetan japanese afrikaans cebuano</th>\n",
       "      <th>speaks_english turkish</th>\n",
       "      <th>speaks_english turkish c</th>\n",
       "      <th>speaks_english turkish fluently italian okay</th>\n",
       "      <th>speaks_english urdu french arabic russian poorly</th>\n",
       "      <th>speaks_english vietnamese</th>\n",
       "      <th>speaks_english vietnamese okay</th>\n",
       "      <th>speaks_english vietnamese okay spanish okay</th>\n",
       "      <th>speaks_english vietnamese poorly</th>\n",
       "      <th>speaks_english vietnamese spanish</th>\n",
       "      <th>speaks_english yiddish poorly</th>\n",
       "      <th>status_married</th>\n",
       "      <th>status_seeing someone</th>\n",
       "      <th>status_single</th>\n",
       "    </tr>\n",
       "  </thead>\n",
       "  <tbody>\n",
       "    <tr>\n",
       "      <th>0</th>\n",
       "      <td>75.0</td>\n",
       "      <td>-1.0</td>\n",
       "      <td>0.0</td>\n",
       "      <td>22.0</td>\n",
       "      <td>False</td>\n",
       "      <td>True</td>\n",
       "      <td>False</td>\n",
       "      <td>False</td>\n",
       "      <td>False</td>\n",
       "      <td>False</td>\n",
       "      <td>False</td>\n",
       "      <td>False</td>\n",
       "      <td>False</td>\n",
       "      <td>False</td>\n",
       "      <td>False</td>\n",
       "      <td>False</td>\n",
       "      <td>False</td>\n",
       "      <td>...</td>\n",
       "      <td>False</td>\n",
       "      <td>False</td>\n",
       "      <td>False</td>\n",
       "      <td>False</td>\n",
       "      <td>False</td>\n",
       "      <td>False</td>\n",
       "      <td>False</td>\n",
       "      <td>False</td>\n",
       "      <td>False</td>\n",
       "      <td>False</td>\n",
       "      <td>False</td>\n",
       "      <td>False</td>\n",
       "      <td>False</td>\n",
       "      <td>False</td>\n",
       "      <td>False</td>\n",
       "      <td>False</td>\n",
       "      <td>True</td>\n",
       "    </tr>\n",
       "    <tr>\n",
       "      <th>1</th>\n",
       "      <td>70.0</td>\n",
       "      <td>80000.0</td>\n",
       "      <td>0.0</td>\n",
       "      <td>35.0</td>\n",
       "      <td>False</td>\n",
       "      <td>False</td>\n",
       "      <td>False</td>\n",
       "      <td>False</td>\n",
       "      <td>False</td>\n",
       "      <td>False</td>\n",
       "      <td>False</td>\n",
       "      <td>True</td>\n",
       "      <td>False</td>\n",
       "      <td>False</td>\n",
       "      <td>False</td>\n",
       "      <td>True</td>\n",
       "      <td>False</td>\n",
       "      <td>...</td>\n",
       "      <td>False</td>\n",
       "      <td>False</td>\n",
       "      <td>False</td>\n",
       "      <td>False</td>\n",
       "      <td>False</td>\n",
       "      <td>False</td>\n",
       "      <td>False</td>\n",
       "      <td>False</td>\n",
       "      <td>False</td>\n",
       "      <td>False</td>\n",
       "      <td>False</td>\n",
       "      <td>False</td>\n",
       "      <td>False</td>\n",
       "      <td>False</td>\n",
       "      <td>False</td>\n",
       "      <td>False</td>\n",
       "      <td>True</td>\n",
       "    </tr>\n",
       "    <tr>\n",
       "      <th>2</th>\n",
       "      <td>68.0</td>\n",
       "      <td>-1.0</td>\n",
       "      <td>0.0</td>\n",
       "      <td>38.0</td>\n",
       "      <td>False</td>\n",
       "      <td>False</td>\n",
       "      <td>False</td>\n",
       "      <td>False</td>\n",
       "      <td>True</td>\n",
       "      <td>False</td>\n",
       "      <td>False</td>\n",
       "      <td>False</td>\n",
       "      <td>False</td>\n",
       "      <td>False</td>\n",
       "      <td>False</td>\n",
       "      <td>False</td>\n",
       "      <td>False</td>\n",
       "      <td>...</td>\n",
       "      <td>False</td>\n",
       "      <td>False</td>\n",
       "      <td>False</td>\n",
       "      <td>False</td>\n",
       "      <td>False</td>\n",
       "      <td>False</td>\n",
       "      <td>False</td>\n",
       "      <td>False</td>\n",
       "      <td>False</td>\n",
       "      <td>False</td>\n",
       "      <td>False</td>\n",
       "      <td>False</td>\n",
       "      <td>False</td>\n",
       "      <td>False</td>\n",
       "      <td>False</td>\n",
       "      <td>False</td>\n",
       "      <td>False</td>\n",
       "    </tr>\n",
       "    <tr>\n",
       "      <th>3</th>\n",
       "      <td>71.0</td>\n",
       "      <td>20000.0</td>\n",
       "      <td>0.0</td>\n",
       "      <td>23.0</td>\n",
       "      <td>False</td>\n",
       "      <td>False</td>\n",
       "      <td>False</td>\n",
       "      <td>False</td>\n",
       "      <td>True</td>\n",
       "      <td>False</td>\n",
       "      <td>False</td>\n",
       "      <td>False</td>\n",
       "      <td>False</td>\n",
       "      <td>True</td>\n",
       "      <td>False</td>\n",
       "      <td>False</td>\n",
       "      <td>False</td>\n",
       "      <td>...</td>\n",
       "      <td>False</td>\n",
       "      <td>False</td>\n",
       "      <td>False</td>\n",
       "      <td>False</td>\n",
       "      <td>False</td>\n",
       "      <td>False</td>\n",
       "      <td>False</td>\n",
       "      <td>False</td>\n",
       "      <td>False</td>\n",
       "      <td>False</td>\n",
       "      <td>False</td>\n",
       "      <td>False</td>\n",
       "      <td>False</td>\n",
       "      <td>False</td>\n",
       "      <td>False</td>\n",
       "      <td>False</td>\n",
       "      <td>True</td>\n",
       "    </tr>\n",
       "    <tr>\n",
       "      <th>4</th>\n",
       "      <td>66.0</td>\n",
       "      <td>-1.0</td>\n",
       "      <td>0.0</td>\n",
       "      <td>29.0</td>\n",
       "      <td>False</td>\n",
       "      <td>False</td>\n",
       "      <td>True</td>\n",
       "      <td>False</td>\n",
       "      <td>False</td>\n",
       "      <td>False</td>\n",
       "      <td>False</td>\n",
       "      <td>False</td>\n",
       "      <td>False</td>\n",
       "      <td>False</td>\n",
       "      <td>False</td>\n",
       "      <td>False</td>\n",
       "      <td>False</td>\n",
       "      <td>...</td>\n",
       "      <td>False</td>\n",
       "      <td>False</td>\n",
       "      <td>False</td>\n",
       "      <td>False</td>\n",
       "      <td>False</td>\n",
       "      <td>False</td>\n",
       "      <td>False</td>\n",
       "      <td>False</td>\n",
       "      <td>False</td>\n",
       "      <td>False</td>\n",
       "      <td>False</td>\n",
       "      <td>False</td>\n",
       "      <td>False</td>\n",
       "      <td>False</td>\n",
       "      <td>False</td>\n",
       "      <td>False</td>\n",
       "      <td>True</td>\n",
       "    </tr>\n",
       "    <tr>\n",
       "      <th>...</th>\n",
       "      <td>...</td>\n",
       "      <td>...</td>\n",
       "      <td>...</td>\n",
       "      <td>...</td>\n",
       "      <td>...</td>\n",
       "      <td>...</td>\n",
       "      <td>...</td>\n",
       "      <td>...</td>\n",
       "      <td>...</td>\n",
       "      <td>...</td>\n",
       "      <td>...</td>\n",
       "      <td>...</td>\n",
       "      <td>...</td>\n",
       "      <td>...</td>\n",
       "      <td>...</td>\n",
       "      <td>...</td>\n",
       "      <td>...</td>\n",
       "      <td>...</td>\n",
       "      <td>...</td>\n",
       "      <td>...</td>\n",
       "      <td>...</td>\n",
       "      <td>...</td>\n",
       "      <td>...</td>\n",
       "      <td>...</td>\n",
       "      <td>...</td>\n",
       "      <td>...</td>\n",
       "      <td>...</td>\n",
       "      <td>...</td>\n",
       "      <td>...</td>\n",
       "      <td>...</td>\n",
       "      <td>...</td>\n",
       "      <td>...</td>\n",
       "      <td>...</td>\n",
       "      <td>...</td>\n",
       "      <td>...</td>\n",
       "    </tr>\n",
       "    <tr>\n",
       "      <th>9509</th>\n",
       "      <td>73.0</td>\n",
       "      <td>60000.0</td>\n",
       "      <td>0.0</td>\n",
       "      <td>28.0</td>\n",
       "      <td>False</td>\n",
       "      <td>False</td>\n",
       "      <td>True</td>\n",
       "      <td>False</td>\n",
       "      <td>False</td>\n",
       "      <td>False</td>\n",
       "      <td>False</td>\n",
       "      <td>False</td>\n",
       "      <td>False</td>\n",
       "      <td>False</td>\n",
       "      <td>False</td>\n",
       "      <td>False</td>\n",
       "      <td>False</td>\n",
       "      <td>...</td>\n",
       "      <td>False</td>\n",
       "      <td>False</td>\n",
       "      <td>False</td>\n",
       "      <td>False</td>\n",
       "      <td>False</td>\n",
       "      <td>False</td>\n",
       "      <td>False</td>\n",
       "      <td>False</td>\n",
       "      <td>False</td>\n",
       "      <td>False</td>\n",
       "      <td>False</td>\n",
       "      <td>False</td>\n",
       "      <td>False</td>\n",
       "      <td>False</td>\n",
       "      <td>False</td>\n",
       "      <td>False</td>\n",
       "      <td>True</td>\n",
       "    </tr>\n",
       "    <tr>\n",
       "      <th>9510</th>\n",
       "      <td>72.0</td>\n",
       "      <td>-1.0</td>\n",
       "      <td>0.0</td>\n",
       "      <td>31.0</td>\n",
       "      <td>False</td>\n",
       "      <td>False</td>\n",
       "      <td>True</td>\n",
       "      <td>False</td>\n",
       "      <td>False</td>\n",
       "      <td>False</td>\n",
       "      <td>False</td>\n",
       "      <td>False</td>\n",
       "      <td>False</td>\n",
       "      <td>False</td>\n",
       "      <td>False</td>\n",
       "      <td>False</td>\n",
       "      <td>False</td>\n",
       "      <td>...</td>\n",
       "      <td>False</td>\n",
       "      <td>False</td>\n",
       "      <td>False</td>\n",
       "      <td>False</td>\n",
       "      <td>False</td>\n",
       "      <td>False</td>\n",
       "      <td>False</td>\n",
       "      <td>False</td>\n",
       "      <td>False</td>\n",
       "      <td>False</td>\n",
       "      <td>False</td>\n",
       "      <td>False</td>\n",
       "      <td>False</td>\n",
       "      <td>False</td>\n",
       "      <td>False</td>\n",
       "      <td>False</td>\n",
       "      <td>True</td>\n",
       "    </tr>\n",
       "    <tr>\n",
       "      <th>9511</th>\n",
       "      <td>71.0</td>\n",
       "      <td>-1.0</td>\n",
       "      <td>0.0</td>\n",
       "      <td>34.0</td>\n",
       "      <td>False</td>\n",
       "      <td>False</td>\n",
       "      <td>False</td>\n",
       "      <td>False</td>\n",
       "      <td>False</td>\n",
       "      <td>False</td>\n",
       "      <td>False</td>\n",
       "      <td>False</td>\n",
       "      <td>False</td>\n",
       "      <td>False</td>\n",
       "      <td>False</td>\n",
       "      <td>False</td>\n",
       "      <td>False</td>\n",
       "      <td>...</td>\n",
       "      <td>False</td>\n",
       "      <td>False</td>\n",
       "      <td>False</td>\n",
       "      <td>False</td>\n",
       "      <td>False</td>\n",
       "      <td>False</td>\n",
       "      <td>False</td>\n",
       "      <td>False</td>\n",
       "      <td>False</td>\n",
       "      <td>False</td>\n",
       "      <td>False</td>\n",
       "      <td>False</td>\n",
       "      <td>False</td>\n",
       "      <td>False</td>\n",
       "      <td>False</td>\n",
       "      <td>False</td>\n",
       "      <td>True</td>\n",
       "    </tr>\n",
       "    <tr>\n",
       "      <th>9512</th>\n",
       "      <td>70.0</td>\n",
       "      <td>-1.0</td>\n",
       "      <td>0.0</td>\n",
       "      <td>29.0</td>\n",
       "      <td>False</td>\n",
       "      <td>False</td>\n",
       "      <td>True</td>\n",
       "      <td>False</td>\n",
       "      <td>False</td>\n",
       "      <td>False</td>\n",
       "      <td>False</td>\n",
       "      <td>False</td>\n",
       "      <td>False</td>\n",
       "      <td>False</td>\n",
       "      <td>False</td>\n",
       "      <td>False</td>\n",
       "      <td>True</td>\n",
       "      <td>...</td>\n",
       "      <td>False</td>\n",
       "      <td>False</td>\n",
       "      <td>False</td>\n",
       "      <td>False</td>\n",
       "      <td>False</td>\n",
       "      <td>False</td>\n",
       "      <td>False</td>\n",
       "      <td>False</td>\n",
       "      <td>False</td>\n",
       "      <td>False</td>\n",
       "      <td>False</td>\n",
       "      <td>False</td>\n",
       "      <td>False</td>\n",
       "      <td>False</td>\n",
       "      <td>False</td>\n",
       "      <td>False</td>\n",
       "      <td>True</td>\n",
       "    </tr>\n",
       "    <tr>\n",
       "      <th>9513</th>\n",
       "      <td>64.0</td>\n",
       "      <td>-1.0</td>\n",
       "      <td>0.0</td>\n",
       "      <td>49.0</td>\n",
       "      <td>False</td>\n",
       "      <td>True</td>\n",
       "      <td>False</td>\n",
       "      <td>False</td>\n",
       "      <td>False</td>\n",
       "      <td>False</td>\n",
       "      <td>False</td>\n",
       "      <td>False</td>\n",
       "      <td>False</td>\n",
       "      <td>False</td>\n",
       "      <td>False</td>\n",
       "      <td>False</td>\n",
       "      <td>True</td>\n",
       "      <td>...</td>\n",
       "      <td>False</td>\n",
       "      <td>False</td>\n",
       "      <td>False</td>\n",
       "      <td>False</td>\n",
       "      <td>False</td>\n",
       "      <td>False</td>\n",
       "      <td>False</td>\n",
       "      <td>False</td>\n",
       "      <td>False</td>\n",
       "      <td>False</td>\n",
       "      <td>False</td>\n",
       "      <td>False</td>\n",
       "      <td>False</td>\n",
       "      <td>False</td>\n",
       "      <td>False</td>\n",
       "      <td>False</td>\n",
       "      <td>True</td>\n",
       "    </tr>\n",
       "  </tbody>\n",
       "</table>\n",
       "<p>9514 rows × 1965 columns</p>\n",
       "</div>"
      ],
      "text/plain": [
       "      height   income  kid   age  body_type_curvy  body_type_extra  \\\n",
       "0       75.0     -1.0  0.0  22.0            False             True   \n",
       "1       70.0  80000.0  0.0  35.0            False            False   \n",
       "2       68.0     -1.0  0.0  38.0            False            False   \n",
       "3       71.0  20000.0  0.0  23.0            False            False   \n",
       "4       66.0     -1.0  0.0  29.0            False            False   \n",
       "...      ...      ...  ...   ...              ...              ...   \n",
       "9509    73.0  60000.0  0.0  28.0            False            False   \n",
       "9510    72.0     -1.0  0.0  31.0            False            False   \n",
       "9511    71.0     -1.0  0.0  34.0            False            False   \n",
       "9512    70.0     -1.0  0.0  29.0            False            False   \n",
       "9513    64.0     -1.0  0.0  49.0            False             True   \n",
       "\n",
       "      body_type_fit  body_type_other  body_type_thin  diet_halal  diet_kosher  \\\n",
       "0             False            False           False       False        False   \n",
       "1             False            False           False       False        False   \n",
       "2             False            False            True       False        False   \n",
       "3             False            False            True       False        False   \n",
       "4              True            False           False       False        False   \n",
       "...             ...              ...             ...         ...          ...   \n",
       "9509           True            False           False       False        False   \n",
       "9510           True            False           False       False        False   \n",
       "9511          False            False           False       False        False   \n",
       "9512           True            False           False       False        False   \n",
       "9513          False            False           False       False        False   \n",
       "\n",
       "      diet_other  diet_vegan  diet_vegetarian  drinks_not at all  \\\n",
       "0          False       False            False              False   \n",
       "1           True       False            False              False   \n",
       "2          False       False            False              False   \n",
       "3          False       False             True              False   \n",
       "4          False       False            False              False   \n",
       "...          ...         ...              ...                ...   \n",
       "9509       False       False            False              False   \n",
       "9510       False       False            False              False   \n",
       "9511       False       False            False              False   \n",
       "9512       False       False            False              False   \n",
       "9513       False       False            False              False   \n",
       "\n",
       "      drinks_often  drinks_rarely  ...  \\\n",
       "0            False          False  ...   \n",
       "1             True          False  ...   \n",
       "2            False          False  ...   \n",
       "3            False          False  ...   \n",
       "4            False          False  ...   \n",
       "...            ...            ...  ...   \n",
       "9509         False          False  ...   \n",
       "9510         False          False  ...   \n",
       "9511         False          False  ...   \n",
       "9512         False           True  ...   \n",
       "9513         False           True  ...   \n",
       "\n",
       "      speaks_english thai okay french poorly  \\\n",
       "0                                      False   \n",
       "1                                      False   \n",
       "2                                      False   \n",
       "3                                      False   \n",
       "4                                      False   \n",
       "...                                      ...   \n",
       "9509                                   False   \n",
       "9510                                   False   \n",
       "9511                                   False   \n",
       "9512                                   False   \n",
       "9513                                   False   \n",
       "\n",
       "      speaks_english thai okay spanish poorly  speaks_english thai poorly  \\\n",
       "0                                       False                       False   \n",
       "1                                       False                       False   \n",
       "2                                       False                       False   \n",
       "3                                       False                       False   \n",
       "4                                       False                       False   \n",
       "...                                       ...                         ...   \n",
       "9509                                    False                       False   \n",
       "9510                                    False                       False   \n",
       "9511                                    False                       False   \n",
       "9512                                    False                       False   \n",
       "9513                                    False                       False   \n",
       "\n",
       "      speaks_english tibetan japanese afrikaans cebuano  \\\n",
       "0                                                 False   \n",
       "1                                                 False   \n",
       "2                                                 False   \n",
       "3                                                 False   \n",
       "4                                                 False   \n",
       "...                                                 ...   \n",
       "9509                                              False   \n",
       "9510                                              False   \n",
       "9511                                              False   \n",
       "9512                                              False   \n",
       "9513                                              False   \n",
       "\n",
       "      speaks_english turkish  speaks_english turkish c  \\\n",
       "0                      False                     False   \n",
       "1                      False                     False   \n",
       "2                      False                     False   \n",
       "3                      False                     False   \n",
       "4                      False                     False   \n",
       "...                      ...                       ...   \n",
       "9509                   False                     False   \n",
       "9510                   False                     False   \n",
       "9511                   False                     False   \n",
       "9512                   False                     False   \n",
       "9513                   False                     False   \n",
       "\n",
       "      speaks_english turkish fluently italian okay  \\\n",
       "0                                            False   \n",
       "1                                            False   \n",
       "2                                            False   \n",
       "3                                            False   \n",
       "4                                            False   \n",
       "...                                            ...   \n",
       "9509                                         False   \n",
       "9510                                         False   \n",
       "9511                                         False   \n",
       "9512                                         False   \n",
       "9513                                         False   \n",
       "\n",
       "      speaks_english urdu french arabic russian poorly  \\\n",
       "0                                                False   \n",
       "1                                                False   \n",
       "2                                                False   \n",
       "3                                                False   \n",
       "4                                                False   \n",
       "...                                                ...   \n",
       "9509                                             False   \n",
       "9510                                             False   \n",
       "9511                                             False   \n",
       "9512                                             False   \n",
       "9513                                             False   \n",
       "\n",
       "      speaks_english vietnamese  speaks_english vietnamese okay  \\\n",
       "0                         False                           False   \n",
       "1                         False                           False   \n",
       "2                         False                           False   \n",
       "3                         False                           False   \n",
       "4                         False                           False   \n",
       "...                         ...                             ...   \n",
       "9509                      False                           False   \n",
       "9510                      False                           False   \n",
       "9511                      False                           False   \n",
       "9512                      False                           False   \n",
       "9513                      False                           False   \n",
       "\n",
       "      speaks_english vietnamese okay spanish okay  \\\n",
       "0                                           False   \n",
       "1                                           False   \n",
       "2                                           False   \n",
       "3                                           False   \n",
       "4                                           False   \n",
       "...                                           ...   \n",
       "9509                                        False   \n",
       "9510                                        False   \n",
       "9511                                        False   \n",
       "9512                                        False   \n",
       "9513                                        False   \n",
       "\n",
       "      speaks_english vietnamese poorly  speaks_english vietnamese spanish  \\\n",
       "0                                False                              False   \n",
       "1                                False                              False   \n",
       "2                                False                              False   \n",
       "3                                False                              False   \n",
       "4                                False                              False   \n",
       "...                                ...                                ...   \n",
       "9509                             False                              False   \n",
       "9510                             False                              False   \n",
       "9511                             False                              False   \n",
       "9512                             False                              False   \n",
       "9513                             False                              False   \n",
       "\n",
       "      speaks_english yiddish poorly  status_married  status_seeing someone  \\\n",
       "0                             False           False                  False   \n",
       "1                             False           False                  False   \n",
       "2                             False           False                  False   \n",
       "3                             False           False                  False   \n",
       "4                             False           False                  False   \n",
       "...                             ...             ...                    ...   \n",
       "9509                          False           False                  False   \n",
       "9510                          False           False                  False   \n",
       "9511                          False           False                  False   \n",
       "9512                          False           False                  False   \n",
       "9513                          False           False                  False   \n",
       "\n",
       "      status_single  \n",
       "0              True  \n",
       "1              True  \n",
       "2             False  \n",
       "3              True  \n",
       "4              True  \n",
       "...             ...  \n",
       "9509           True  \n",
       "9510           True  \n",
       "9511           True  \n",
       "9512           True  \n",
       "9513           True  \n",
       "\n",
       "[9514 rows x 1965 columns]"
      ]
     },
     "execution_count": 79,
     "metadata": {},
     "output_type": "execute_result"
    }
   ],
   "source": [
    "x"
   ]
  },
  {
   "cell_type": "code",
   "execution_count": 80,
   "id": "33bc038c-0f06-4737-ac0a-d06b5ba9ddf9",
   "metadata": {},
   "outputs": [
    {
     "name": "stdout",
     "output_type": "stream",
     "text": [
      "height                               float64\n",
      "income                               float64\n",
      "kid                                  float64\n",
      "age                                  float64\n",
      "body_type_curvy                         bool\n",
      "                                      ...   \n",
      "speaks_english vietnamese spanish       bool\n",
      "speaks_english yiddish poorly           bool\n",
      "status_married                          bool\n",
      "status_seeing someone                   bool\n",
      "status_single                           bool\n",
      "Length: 1965, dtype: object\n",
      "generation    object\n",
      "dtype: object\n"
     ]
    }
   ],
   "source": [
    "print(x.dtypes)\n",
    "print(y.dtypes)"
   ]
  },
  {
   "cell_type": "code",
   "execution_count": 81,
   "id": "12b49bb4-373b-4065-a731-d5d4d341ecf5",
   "metadata": {},
   "outputs": [],
   "source": [
    "y=pd.get_dummies(y,drop_first=True)"
   ]
  },
  {
   "cell_type": "code",
   "execution_count": 82,
   "id": "48cced7b-be65-49a5-ab59-de95cf53169a",
   "metadata": {},
   "outputs": [],
   "source": [
    "x_train,x_test,y_train,y_test=train_test_split(x,y,test_size=.20,random_state=42)"
   ]
  },
  {
   "cell_type": "code",
   "execution_count": 83,
   "id": "635eb44b-d7d9-4b0a-883f-86973f6eecb8",
   "metadata": {},
   "outputs": [],
   "source": [
    "model = Sequential()\n",
    "model.add(Dense(512, activation='relu', input_shape=(x.shape[1],)))\n",
    "model.add(BatchNormalization())\n",
    "model.add(Dropout(0.5))\n",
    "\n",
    "model.add(Dense(256, activation='relu'))\n",
    "model.add(BatchNormalization())\n",
    "model.add(Dropout(0.5))\n",
    "\n",
    "model.add(Dense(128, activation='relu'))\n",
    "model.add(BatchNormalization())\n",
    "model.add(Dropout(0.5))\n",
    "\n",
    "model.add(Dense(64, activation='relu'))\n",
    "model.add(BatchNormalization())\n",
    "model.add(Dropout(0.5))\n",
    "\n",
    "model.add(Dense(32, activation='relu'))\n",
    "model.add(BatchNormalization())\n",
    "model.add(Dropout(0.5))\n",
    "\n",
    "model.add(Dense(3, activation='softmax')) \n",
    "# TR = Softmax, çok sınıflı sınıflandırma için uygun.\n",
    "# EN = Softmax is suitable for multi-class classification.\n",
    "\n",
    "model.compile(loss='categorical_crossentropy', optimizer='adam', metrics=['accuracy'])"
   ]
  },
  {
   "cell_type": "code",
   "execution_count": 84,
   "id": "918237dd",
   "metadata": {
    "scrolled": true
   },
   "outputs": [
    {
     "name": "stdout",
     "output_type": "stream",
     "text": [
      "Epoch 1/50\n",
      "\u001b[1m238/238\u001b[0m \u001b[32m━━━━━━━━━━━━━━━━━━━━\u001b[0m\u001b[37m\u001b[0m \u001b[1m8s\u001b[0m 16ms/step - accuracy: 0.4753 - loss: 1.2668 - val_accuracy: 0.7714 - val_loss: 0.5550\n",
      "Epoch 2/50\n",
      "\u001b[1m238/238\u001b[0m \u001b[32m━━━━━━━━━━━━━━━━━━━━\u001b[0m\u001b[37m\u001b[0m \u001b[1m4s\u001b[0m 15ms/step - accuracy: 0.6968 - loss: 0.6590 - val_accuracy: 0.7704 - val_loss: 0.4288\n",
      "Epoch 3/50\n",
      "\u001b[1m238/238\u001b[0m \u001b[32m━━━━━━━━━━━━━━━━━━━━\u001b[0m\u001b[37m\u001b[0m \u001b[1m4s\u001b[0m 15ms/step - accuracy: 0.7190 - loss: 0.5921 - val_accuracy: 0.6963 - val_loss: 0.5724\n",
      "Epoch 4/50\n",
      "\u001b[1m238/238\u001b[0m \u001b[32m━━━━━━━━━━━━━━━━━━━━\u001b[0m\u001b[37m\u001b[0m \u001b[1m4s\u001b[0m 15ms/step - accuracy: 0.7318 - loss: 0.5494 - val_accuracy: 0.6479 - val_loss: 0.7649\n",
      "Epoch 5/50\n",
      "\u001b[1m238/238\u001b[0m \u001b[32m━━━━━━━━━━━━━━━━━━━━\u001b[0m\u001b[37m\u001b[0m \u001b[1m4s\u001b[0m 15ms/step - accuracy: 0.7223 - loss: 0.5747 - val_accuracy: 0.6159 - val_loss: 0.8576\n",
      "Epoch 6/50\n",
      "\u001b[1m238/238\u001b[0m \u001b[32m━━━━━━━━━━━━━━━━━━━━\u001b[0m\u001b[37m\u001b[0m \u001b[1m4s\u001b[0m 15ms/step - accuracy: 0.7084 - loss: 0.5914 - val_accuracy: 0.5854 - val_loss: 0.8011\n",
      "Epoch 7/50\n",
      "\u001b[1m238/238\u001b[0m \u001b[32m━━━━━━━━━━━━━━━━━━━━\u001b[0m\u001b[37m\u001b[0m \u001b[1m4s\u001b[0m 15ms/step - accuracy: 0.7110 - loss: 0.5936 - val_accuracy: 0.6148 - val_loss: 0.6597\n",
      "Epoch 8/50\n",
      "\u001b[1m238/238\u001b[0m \u001b[32m━━━━━━━━━━━━━━━━━━━━\u001b[0m\u001b[37m\u001b[0m \u001b[1m4s\u001b[0m 15ms/step - accuracy: 0.6937 - loss: 0.6288 - val_accuracy: 0.6374 - val_loss: 0.6630\n",
      "Epoch 9/50\n",
      "\u001b[1m238/238\u001b[0m \u001b[32m━━━━━━━━━━━━━━━━━━━━\u001b[0m\u001b[37m\u001b[0m \u001b[1m3s\u001b[0m 15ms/step - accuracy: 0.6820 - loss: 0.6331 - val_accuracy: 0.6805 - val_loss: 0.6019\n",
      "Epoch 10/50\n",
      "\u001b[1m238/238\u001b[0m \u001b[32m━━━━━━━━━━━━━━━━━━━━\u001b[0m\u001b[37m\u001b[0m \u001b[1m3s\u001b[0m 14ms/step - accuracy: 0.6740 - loss: 0.6505 - val_accuracy: 0.7252 - val_loss: 0.6506\n",
      "Epoch 11/50\n",
      "\u001b[1m238/238\u001b[0m \u001b[32m━━━━━━━━━━━━━━━━━━━━\u001b[0m\u001b[37m\u001b[0m \u001b[1m4s\u001b[0m 15ms/step - accuracy: 0.6804 - loss: 0.6601 - val_accuracy: 0.7304 - val_loss: 0.6332\n",
      "Epoch 12/50\n",
      "\u001b[1m238/238\u001b[0m \u001b[32m━━━━━━━━━━━━━━━━━━━━\u001b[0m\u001b[37m\u001b[0m \u001b[1m4s\u001b[0m 15ms/step - accuracy: 0.6701 - loss: 0.6728 - val_accuracy: 0.6716 - val_loss: 0.6280\n"
     ]
    }
   ],
   "source": [
    "graphic2 = model.fit(x, y, epochs=50, batch_size=32, validation_split=0.2, callbacks=[early_stopping], verbose=1)"
   ]
  },
  {
   "cell_type": "code",
   "execution_count": 85,
   "id": "c3c120cf",
   "metadata": {},
   "outputs": [
    {
     "data": {
      "text/html": [
       "<pre style=\"white-space:pre;overflow-x:auto;line-height:normal;font-family:Menlo,'DejaVu Sans Mono',consolas,'Courier New',monospace\"><span style=\"font-weight: bold\">Model: \"sequential_1\"</span>\n",
       "</pre>\n"
      ],
      "text/plain": [
       "\u001b[1mModel: \"sequential_1\"\u001b[0m\n"
      ]
     },
     "metadata": {},
     "output_type": "display_data"
    },
    {
     "data": {
      "text/html": [
       "<pre style=\"white-space:pre;overflow-x:auto;line-height:normal;font-family:Menlo,'DejaVu Sans Mono',consolas,'Courier New',monospace\">┏━━━━━━━━━━━━━━━━━━━━━━━━━━━━━━━━━━━━━━┳━━━━━━━━━━━━━━━━━━━━━━━━━━━━━┳━━━━━━━━━━━━━━━━━┓\n",
       "┃<span style=\"font-weight: bold\"> Layer (type)                         </span>┃<span style=\"font-weight: bold\"> Output Shape                </span>┃<span style=\"font-weight: bold\">         Param # </span>┃\n",
       "┡━━━━━━━━━━━━━━━━━━━━━━━━━━━━━━━━━━━━━━╇━━━━━━━━━━━━━━━━━━━━━━━━━━━━━╇━━━━━━━━━━━━━━━━━┩\n",
       "│ dense_5 (<span style=\"color: #0087ff; text-decoration-color: #0087ff\">Dense</span>)                      │ (<span style=\"color: #00d7ff; text-decoration-color: #00d7ff\">None</span>, <span style=\"color: #00af00; text-decoration-color: #00af00\">512</span>)                 │       <span style=\"color: #00af00; text-decoration-color: #00af00\">1,006,592</span> │\n",
       "├──────────────────────────────────────┼─────────────────────────────┼─────────────────┤\n",
       "│ batch_normalization                  │ (<span style=\"color: #00d7ff; text-decoration-color: #00d7ff\">None</span>, <span style=\"color: #00af00; text-decoration-color: #00af00\">512</span>)                 │           <span style=\"color: #00af00; text-decoration-color: #00af00\">2,048</span> │\n",
       "│ (<span style=\"color: #0087ff; text-decoration-color: #0087ff\">BatchNormalization</span>)                 │                             │                 │\n",
       "├──────────────────────────────────────┼─────────────────────────────┼─────────────────┤\n",
       "│ dropout_2 (<span style=\"color: #0087ff; text-decoration-color: #0087ff\">Dropout</span>)                  │ (<span style=\"color: #00d7ff; text-decoration-color: #00d7ff\">None</span>, <span style=\"color: #00af00; text-decoration-color: #00af00\">512</span>)                 │               <span style=\"color: #00af00; text-decoration-color: #00af00\">0</span> │\n",
       "├──────────────────────────────────────┼─────────────────────────────┼─────────────────┤\n",
       "│ dense_6 (<span style=\"color: #0087ff; text-decoration-color: #0087ff\">Dense</span>)                      │ (<span style=\"color: #00d7ff; text-decoration-color: #00d7ff\">None</span>, <span style=\"color: #00af00; text-decoration-color: #00af00\">256</span>)                 │         <span style=\"color: #00af00; text-decoration-color: #00af00\">131,328</span> │\n",
       "├──────────────────────────────────────┼─────────────────────────────┼─────────────────┤\n",
       "│ batch_normalization_1                │ (<span style=\"color: #00d7ff; text-decoration-color: #00d7ff\">None</span>, <span style=\"color: #00af00; text-decoration-color: #00af00\">256</span>)                 │           <span style=\"color: #00af00; text-decoration-color: #00af00\">1,024</span> │\n",
       "│ (<span style=\"color: #0087ff; text-decoration-color: #0087ff\">BatchNormalization</span>)                 │                             │                 │\n",
       "├──────────────────────────────────────┼─────────────────────────────┼─────────────────┤\n",
       "│ dropout_3 (<span style=\"color: #0087ff; text-decoration-color: #0087ff\">Dropout</span>)                  │ (<span style=\"color: #00d7ff; text-decoration-color: #00d7ff\">None</span>, <span style=\"color: #00af00; text-decoration-color: #00af00\">256</span>)                 │               <span style=\"color: #00af00; text-decoration-color: #00af00\">0</span> │\n",
       "├──────────────────────────────────────┼─────────────────────────────┼─────────────────┤\n",
       "│ dense_7 (<span style=\"color: #0087ff; text-decoration-color: #0087ff\">Dense</span>)                      │ (<span style=\"color: #00d7ff; text-decoration-color: #00d7ff\">None</span>, <span style=\"color: #00af00; text-decoration-color: #00af00\">128</span>)                 │          <span style=\"color: #00af00; text-decoration-color: #00af00\">32,896</span> │\n",
       "├──────────────────────────────────────┼─────────────────────────────┼─────────────────┤\n",
       "│ batch_normalization_2                │ (<span style=\"color: #00d7ff; text-decoration-color: #00d7ff\">None</span>, <span style=\"color: #00af00; text-decoration-color: #00af00\">128</span>)                 │             <span style=\"color: #00af00; text-decoration-color: #00af00\">512</span> │\n",
       "│ (<span style=\"color: #0087ff; text-decoration-color: #0087ff\">BatchNormalization</span>)                 │                             │                 │\n",
       "├──────────────────────────────────────┼─────────────────────────────┼─────────────────┤\n",
       "│ dropout_4 (<span style=\"color: #0087ff; text-decoration-color: #0087ff\">Dropout</span>)                  │ (<span style=\"color: #00d7ff; text-decoration-color: #00d7ff\">None</span>, <span style=\"color: #00af00; text-decoration-color: #00af00\">128</span>)                 │               <span style=\"color: #00af00; text-decoration-color: #00af00\">0</span> │\n",
       "├──────────────────────────────────────┼─────────────────────────────┼─────────────────┤\n",
       "│ dense_8 (<span style=\"color: #0087ff; text-decoration-color: #0087ff\">Dense</span>)                      │ (<span style=\"color: #00d7ff; text-decoration-color: #00d7ff\">None</span>, <span style=\"color: #00af00; text-decoration-color: #00af00\">64</span>)                  │           <span style=\"color: #00af00; text-decoration-color: #00af00\">8,256</span> │\n",
       "├──────────────────────────────────────┼─────────────────────────────┼─────────────────┤\n",
       "│ batch_normalization_3                │ (<span style=\"color: #00d7ff; text-decoration-color: #00d7ff\">None</span>, <span style=\"color: #00af00; text-decoration-color: #00af00\">64</span>)                  │             <span style=\"color: #00af00; text-decoration-color: #00af00\">256</span> │\n",
       "│ (<span style=\"color: #0087ff; text-decoration-color: #0087ff\">BatchNormalization</span>)                 │                             │                 │\n",
       "├──────────────────────────────────────┼─────────────────────────────┼─────────────────┤\n",
       "│ dropout_5 (<span style=\"color: #0087ff; text-decoration-color: #0087ff\">Dropout</span>)                  │ (<span style=\"color: #00d7ff; text-decoration-color: #00d7ff\">None</span>, <span style=\"color: #00af00; text-decoration-color: #00af00\">64</span>)                  │               <span style=\"color: #00af00; text-decoration-color: #00af00\">0</span> │\n",
       "├──────────────────────────────────────┼─────────────────────────────┼─────────────────┤\n",
       "│ dense_9 (<span style=\"color: #0087ff; text-decoration-color: #0087ff\">Dense</span>)                      │ (<span style=\"color: #00d7ff; text-decoration-color: #00d7ff\">None</span>, <span style=\"color: #00af00; text-decoration-color: #00af00\">32</span>)                  │           <span style=\"color: #00af00; text-decoration-color: #00af00\">2,080</span> │\n",
       "├──────────────────────────────────────┼─────────────────────────────┼─────────────────┤\n",
       "│ batch_normalization_4                │ (<span style=\"color: #00d7ff; text-decoration-color: #00d7ff\">None</span>, <span style=\"color: #00af00; text-decoration-color: #00af00\">32</span>)                  │             <span style=\"color: #00af00; text-decoration-color: #00af00\">128</span> │\n",
       "│ (<span style=\"color: #0087ff; text-decoration-color: #0087ff\">BatchNormalization</span>)                 │                             │                 │\n",
       "├──────────────────────────────────────┼─────────────────────────────┼─────────────────┤\n",
       "│ dropout_6 (<span style=\"color: #0087ff; text-decoration-color: #0087ff\">Dropout</span>)                  │ (<span style=\"color: #00d7ff; text-decoration-color: #00d7ff\">None</span>, <span style=\"color: #00af00; text-decoration-color: #00af00\">32</span>)                  │               <span style=\"color: #00af00; text-decoration-color: #00af00\">0</span> │\n",
       "├──────────────────────────────────────┼─────────────────────────────┼─────────────────┤\n",
       "│ dense_10 (<span style=\"color: #0087ff; text-decoration-color: #0087ff\">Dense</span>)                     │ (<span style=\"color: #00d7ff; text-decoration-color: #00d7ff\">None</span>, <span style=\"color: #00af00; text-decoration-color: #00af00\">3</span>)                   │              <span style=\"color: #00af00; text-decoration-color: #00af00\">99</span> │\n",
       "└──────────────────────────────────────┴─────────────────────────────┴─────────────────┘\n",
       "</pre>\n"
      ],
      "text/plain": [
       "┏━━━━━━━━━━━━━━━━━━━━━━━━━━━━━━━━━━━━━━┳━━━━━━━━━━━━━━━━━━━━━━━━━━━━━┳━━━━━━━━━━━━━━━━━┓\n",
       "┃\u001b[1m \u001b[0m\u001b[1mLayer (type)                        \u001b[0m\u001b[1m \u001b[0m┃\u001b[1m \u001b[0m\u001b[1mOutput Shape               \u001b[0m\u001b[1m \u001b[0m┃\u001b[1m \u001b[0m\u001b[1m        Param #\u001b[0m\u001b[1m \u001b[0m┃\n",
       "┡━━━━━━━━━━━━━━━━━━━━━━━━━━━━━━━━━━━━━━╇━━━━━━━━━━━━━━━━━━━━━━━━━━━━━╇━━━━━━━━━━━━━━━━━┩\n",
       "│ dense_5 (\u001b[38;5;33mDense\u001b[0m)                      │ (\u001b[38;5;45mNone\u001b[0m, \u001b[38;5;34m512\u001b[0m)                 │       \u001b[38;5;34m1,006,592\u001b[0m │\n",
       "├──────────────────────────────────────┼─────────────────────────────┼─────────────────┤\n",
       "│ batch_normalization                  │ (\u001b[38;5;45mNone\u001b[0m, \u001b[38;5;34m512\u001b[0m)                 │           \u001b[38;5;34m2,048\u001b[0m │\n",
       "│ (\u001b[38;5;33mBatchNormalization\u001b[0m)                 │                             │                 │\n",
       "├──────────────────────────────────────┼─────────────────────────────┼─────────────────┤\n",
       "│ dropout_2 (\u001b[38;5;33mDropout\u001b[0m)                  │ (\u001b[38;5;45mNone\u001b[0m, \u001b[38;5;34m512\u001b[0m)                 │               \u001b[38;5;34m0\u001b[0m │\n",
       "├──────────────────────────────────────┼─────────────────────────────┼─────────────────┤\n",
       "│ dense_6 (\u001b[38;5;33mDense\u001b[0m)                      │ (\u001b[38;5;45mNone\u001b[0m, \u001b[38;5;34m256\u001b[0m)                 │         \u001b[38;5;34m131,328\u001b[0m │\n",
       "├──────────────────────────────────────┼─────────────────────────────┼─────────────────┤\n",
       "│ batch_normalization_1                │ (\u001b[38;5;45mNone\u001b[0m, \u001b[38;5;34m256\u001b[0m)                 │           \u001b[38;5;34m1,024\u001b[0m │\n",
       "│ (\u001b[38;5;33mBatchNormalization\u001b[0m)                 │                             │                 │\n",
       "├──────────────────────────────────────┼─────────────────────────────┼─────────────────┤\n",
       "│ dropout_3 (\u001b[38;5;33mDropout\u001b[0m)                  │ (\u001b[38;5;45mNone\u001b[0m, \u001b[38;5;34m256\u001b[0m)                 │               \u001b[38;5;34m0\u001b[0m │\n",
       "├──────────────────────────────────────┼─────────────────────────────┼─────────────────┤\n",
       "│ dense_7 (\u001b[38;5;33mDense\u001b[0m)                      │ (\u001b[38;5;45mNone\u001b[0m, \u001b[38;5;34m128\u001b[0m)                 │          \u001b[38;5;34m32,896\u001b[0m │\n",
       "├──────────────────────────────────────┼─────────────────────────────┼─────────────────┤\n",
       "│ batch_normalization_2                │ (\u001b[38;5;45mNone\u001b[0m, \u001b[38;5;34m128\u001b[0m)                 │             \u001b[38;5;34m512\u001b[0m │\n",
       "│ (\u001b[38;5;33mBatchNormalization\u001b[0m)                 │                             │                 │\n",
       "├──────────────────────────────────────┼─────────────────────────────┼─────────────────┤\n",
       "│ dropout_4 (\u001b[38;5;33mDropout\u001b[0m)                  │ (\u001b[38;5;45mNone\u001b[0m, \u001b[38;5;34m128\u001b[0m)                 │               \u001b[38;5;34m0\u001b[0m │\n",
       "├──────────────────────────────────────┼─────────────────────────────┼─────────────────┤\n",
       "│ dense_8 (\u001b[38;5;33mDense\u001b[0m)                      │ (\u001b[38;5;45mNone\u001b[0m, \u001b[38;5;34m64\u001b[0m)                  │           \u001b[38;5;34m8,256\u001b[0m │\n",
       "├──────────────────────────────────────┼─────────────────────────────┼─────────────────┤\n",
       "│ batch_normalization_3                │ (\u001b[38;5;45mNone\u001b[0m, \u001b[38;5;34m64\u001b[0m)                  │             \u001b[38;5;34m256\u001b[0m │\n",
       "│ (\u001b[38;5;33mBatchNormalization\u001b[0m)                 │                             │                 │\n",
       "├──────────────────────────────────────┼─────────────────────────────┼─────────────────┤\n",
       "│ dropout_5 (\u001b[38;5;33mDropout\u001b[0m)                  │ (\u001b[38;5;45mNone\u001b[0m, \u001b[38;5;34m64\u001b[0m)                  │               \u001b[38;5;34m0\u001b[0m │\n",
       "├──────────────────────────────────────┼─────────────────────────────┼─────────────────┤\n",
       "│ dense_9 (\u001b[38;5;33mDense\u001b[0m)                      │ (\u001b[38;5;45mNone\u001b[0m, \u001b[38;5;34m32\u001b[0m)                  │           \u001b[38;5;34m2,080\u001b[0m │\n",
       "├──────────────────────────────────────┼─────────────────────────────┼─────────────────┤\n",
       "│ batch_normalization_4                │ (\u001b[38;5;45mNone\u001b[0m, \u001b[38;5;34m32\u001b[0m)                  │             \u001b[38;5;34m128\u001b[0m │\n",
       "│ (\u001b[38;5;33mBatchNormalization\u001b[0m)                 │                             │                 │\n",
       "├──────────────────────────────────────┼─────────────────────────────┼─────────────────┤\n",
       "│ dropout_6 (\u001b[38;5;33mDropout\u001b[0m)                  │ (\u001b[38;5;45mNone\u001b[0m, \u001b[38;5;34m32\u001b[0m)                  │               \u001b[38;5;34m0\u001b[0m │\n",
       "├──────────────────────────────────────┼─────────────────────────────┼─────────────────┤\n",
       "│ dense_10 (\u001b[38;5;33mDense\u001b[0m)                     │ (\u001b[38;5;45mNone\u001b[0m, \u001b[38;5;34m3\u001b[0m)                   │              \u001b[38;5;34m99\u001b[0m │\n",
       "└──────────────────────────────────────┴─────────────────────────────┴─────────────────┘\n"
      ]
     },
     "metadata": {},
     "output_type": "display_data"
    },
    {
     "data": {
      "text/html": [
       "<pre style=\"white-space:pre;overflow-x:auto;line-height:normal;font-family:Menlo,'DejaVu Sans Mono',consolas,'Courier New',monospace\"><span style=\"font-weight: bold\"> Total params: </span><span style=\"color: #00af00; text-decoration-color: #00af00\">3,551,691</span> (13.55 MB)\n",
       "</pre>\n"
      ],
      "text/plain": [
       "\u001b[1m Total params: \u001b[0m\u001b[38;5;34m3,551,691\u001b[0m (13.55 MB)\n"
      ]
     },
     "metadata": {},
     "output_type": "display_data"
    },
    {
     "data": {
      "text/html": [
       "<pre style=\"white-space:pre;overflow-x:auto;line-height:normal;font-family:Menlo,'DejaVu Sans Mono',consolas,'Courier New',monospace\"><span style=\"font-weight: bold\"> Trainable params: </span><span style=\"color: #00af00; text-decoration-color: #00af00\">1,183,235</span> (4.51 MB)\n",
       "</pre>\n"
      ],
      "text/plain": [
       "\u001b[1m Trainable params: \u001b[0m\u001b[38;5;34m1,183,235\u001b[0m (4.51 MB)\n"
      ]
     },
     "metadata": {},
     "output_type": "display_data"
    },
    {
     "data": {
      "text/html": [
       "<pre style=\"white-space:pre;overflow-x:auto;line-height:normal;font-family:Menlo,'DejaVu Sans Mono',consolas,'Courier New',monospace\"><span style=\"font-weight: bold\"> Non-trainable params: </span><span style=\"color: #00af00; text-decoration-color: #00af00\">1,984</span> (7.75 KB)\n",
       "</pre>\n"
      ],
      "text/plain": [
       "\u001b[1m Non-trainable params: \u001b[0m\u001b[38;5;34m1,984\u001b[0m (7.75 KB)\n"
      ]
     },
     "metadata": {},
     "output_type": "display_data"
    },
    {
     "data": {
      "text/html": [
       "<pre style=\"white-space:pre;overflow-x:auto;line-height:normal;font-family:Menlo,'DejaVu Sans Mono',consolas,'Courier New',monospace\"><span style=\"font-weight: bold\"> Optimizer params: </span><span style=\"color: #00af00; text-decoration-color: #00af00\">2,366,472</span> (9.03 MB)\n",
       "</pre>\n"
      ],
      "text/plain": [
       "\u001b[1m Optimizer params: \u001b[0m\u001b[38;5;34m2,366,472\u001b[0m (9.03 MB)\n"
      ]
     },
     "metadata": {},
     "output_type": "display_data"
    }
   ],
   "source": [
    "model.summary()"
   ]
  },
  {
   "cell_type": "code",
   "execution_count": 86,
   "id": "87fc2d1b-21b7-4d49-94c7-00a971263c86",
   "metadata": {},
   "outputs": [
    {
     "name": "stdout",
     "output_type": "stream",
     "text": [
      "\u001b[1m60/60\u001b[0m \u001b[32m━━━━━━━━━━━━━━━━━━━━\u001b[0m\u001b[37m\u001b[0m \u001b[1m0s\u001b[0m 2ms/step - accuracy: 0.7779 - loss: 0.4293\n",
      "Test doğruluğu: 0.7693\n"
     ]
    }
   ],
   "source": [
    "test_loss, test_acc = model.evaluate(x_test, y_test)\n",
    "# TR = test_loss değişkeni, test verileri üzerinde hesaplanan kayıp değerini içerir. test_acc değişkeni, test verileri üzerinde hesaplanan doğruluk değerini içerir.\n",
    "# EN = The test_loss variable contains the loss value calculated on the test data. The test_acc variable contains the accuracy value calculated on the test data.\n",
    "\n",
    "print(f\"Test doğruluğu: {test_acc:.4f}\")"
   ]
  },
  {
   "cell_type": "code",
   "execution_count": 87,
   "id": "629adbaa-0dbe-40af-b23c-f0967ada2822",
   "metadata": {},
   "outputs": [
    {
     "name": "stdout",
     "output_type": "stream",
     "text": [
      "\u001b[1m60/60\u001b[0m \u001b[32m━━━━━━━━━━━━━━━━━━━━\u001b[0m\u001b[37m\u001b[0m \u001b[1m0s\u001b[0m 4ms/step\n"
     ]
    }
   ],
   "source": [
    "pred=model.predict(x_test)\n",
    "# TR = modeli x_test ile predict özelliği ile tahmin ettik. predict=tahmin demek. Dahmin edip pred eşitledik. \n",
    "# EN = We predicted the model with x_test and the predict feature. predict=means prediction. We guessed and equalized the pred."
   ]
  },
  {
   "cell_type": "code",
   "execution_count": 88,
   "id": "e66b3ac3-57cc-49e4-b2c3-e048ff43b272",
   "metadata": {},
   "outputs": [
    {
     "data": {
      "text/plain": [
       "array([[0.20554441, 0.55460817, 0.23984739],\n",
       "       [0.03713926, 0.95126075, 0.01160004],\n",
       "       [0.1401812 , 0.577158  , 0.28266078],\n",
       "       ...,\n",
       "       [0.29753053, 0.01142144, 0.691048  ],\n",
       "       [0.0850377 , 0.8794201 , 0.03554216],\n",
       "       [0.2099086 , 0.276236  , 0.5138554 ]], dtype=float32)"
      ]
     },
     "execution_count": 88,
     "metadata": {},
     "output_type": "execute_result"
    }
   ],
   "source": [
    "pred"
   ]
  },
  {
   "cell_type": "code",
   "execution_count": 89,
   "id": "20ca031d-931e-497f-9fda-d8dc9eac358a",
   "metadata": {},
   "outputs": [],
   "source": [
    "pred = np.argmax(pred, axis=1)"
   ]
  },
  {
   "cell_type": "code",
   "execution_count": 90,
   "id": "84d80275-b744-48bd-af78-8834f1f48b94",
   "metadata": {},
   "outputs": [
    {
     "data": {
      "text/plain": [
       "array([1, 1, 1, ..., 2, 1, 2], dtype=int64)"
      ]
     },
     "execution_count": 90,
     "metadata": {},
     "output_type": "execute_result"
    }
   ],
   "source": [
    "pred"
   ]
  },
  {
   "cell_type": "code",
   "execution_count": 91,
   "id": "8853d4a5-34e5-4096-bd6e-adfb0ad05bf9",
   "metadata": {},
   "outputs": [
    {
     "data": {
      "text/html": [
       "<div>\n",
       "<style scoped>\n",
       "    .dataframe tbody tr th:only-of-type {\n",
       "        vertical-align: middle;\n",
       "    }\n",
       "\n",
       "    .dataframe tbody tr th {\n",
       "        vertical-align: top;\n",
       "    }\n",
       "\n",
       "    .dataframe thead th {\n",
       "        text-align: right;\n",
       "    }\n",
       "</style>\n",
       "<table border=\"1\" class=\"dataframe\">\n",
       "  <thead>\n",
       "    <tr style=\"text-align: right;\">\n",
       "      <th></th>\n",
       "      <th>generation_Other</th>\n",
       "      <th>generation_X generation</th>\n",
       "      <th>generation_Y generation</th>\n",
       "    </tr>\n",
       "  </thead>\n",
       "  <tbody>\n",
       "    <tr>\n",
       "      <th>4220</th>\n",
       "      <td>False</td>\n",
       "      <td>True</td>\n",
       "      <td>False</td>\n",
       "    </tr>\n",
       "    <tr>\n",
       "      <th>4694</th>\n",
       "      <td>False</td>\n",
       "      <td>True</td>\n",
       "      <td>False</td>\n",
       "    </tr>\n",
       "    <tr>\n",
       "      <th>6678</th>\n",
       "      <td>False</td>\n",
       "      <td>False</td>\n",
       "      <td>True</td>\n",
       "    </tr>\n",
       "    <tr>\n",
       "      <th>4730</th>\n",
       "      <td>False</td>\n",
       "      <td>False</td>\n",
       "      <td>True</td>\n",
       "    </tr>\n",
       "    <tr>\n",
       "      <th>9289</th>\n",
       "      <td>False</td>\n",
       "      <td>False</td>\n",
       "      <td>True</td>\n",
       "    </tr>\n",
       "    <tr>\n",
       "      <th>...</th>\n",
       "      <td>...</td>\n",
       "      <td>...</td>\n",
       "      <td>...</td>\n",
       "    </tr>\n",
       "    <tr>\n",
       "      <th>4927</th>\n",
       "      <td>False</td>\n",
       "      <td>True</td>\n",
       "      <td>False</td>\n",
       "    </tr>\n",
       "    <tr>\n",
       "      <th>9006</th>\n",
       "      <td>False</td>\n",
       "      <td>True</td>\n",
       "      <td>False</td>\n",
       "    </tr>\n",
       "    <tr>\n",
       "      <th>3651</th>\n",
       "      <td>False</td>\n",
       "      <td>False</td>\n",
       "      <td>False</td>\n",
       "    </tr>\n",
       "    <tr>\n",
       "      <th>7429</th>\n",
       "      <td>False</td>\n",
       "      <td>True</td>\n",
       "      <td>False</td>\n",
       "    </tr>\n",
       "    <tr>\n",
       "      <th>5579</th>\n",
       "      <td>True</td>\n",
       "      <td>False</td>\n",
       "      <td>False</td>\n",
       "    </tr>\n",
       "  </tbody>\n",
       "</table>\n",
       "<p>1903 rows × 3 columns</p>\n",
       "</div>"
      ],
      "text/plain": [
       "      generation_Other  generation_X generation  generation_Y generation\n",
       "4220             False                     True                    False\n",
       "4694             False                     True                    False\n",
       "6678             False                    False                     True\n",
       "4730             False                    False                     True\n",
       "9289             False                    False                     True\n",
       "...                ...                      ...                      ...\n",
       "4927             False                     True                    False\n",
       "9006             False                     True                    False\n",
       "3651             False                    False                    False\n",
       "7429             False                     True                    False\n",
       "5579              True                    False                    False\n",
       "\n",
       "[1903 rows x 3 columns]"
      ]
     },
     "execution_count": 91,
     "metadata": {},
     "output_type": "execute_result"
    }
   ],
   "source": [
    "y_test"
   ]
  },
  {
   "cell_type": "code",
   "execution_count": 92,
   "id": "c44a8518-74a2-4eeb-a334-578529bb61cb",
   "metadata": {},
   "outputs": [],
   "source": [
    "y_test = np.argmax(y_test, axis=1)"
   ]
  },
  {
   "cell_type": "code",
   "execution_count": 93,
   "id": "f2b6ae4b-bd93-43dc-96e2-730e53a8a3d6",
   "metadata": {},
   "outputs": [
    {
     "data": {
      "text/plain": [
       "array([1, 1, 2, ..., 0, 1, 0], dtype=int64)"
      ]
     },
     "execution_count": 93,
     "metadata": {},
     "output_type": "execute_result"
    }
   ],
   "source": [
    "y_test"
   ]
  },
  {
   "cell_type": "code",
   "execution_count": 94,
   "id": "be627d20-6344-4382-b283-08d94c2a97a2",
   "metadata": {},
   "outputs": [
    {
     "data": {
      "text/plain": [
       "0.7693116132422491"
      ]
     },
     "execution_count": 94,
     "metadata": {},
     "output_type": "execute_result"
    }
   ],
   "source": [
    "accuracy_score(y_test, pred)\n",
    "# TR = accuracy_score fonksiyonu ile y_test, pred kullanarak sonucumuzu bulduk.\n",
    "# EN = We found our result using the accuracy_score function and y_test, pred."
   ]
  },
  {
   "cell_type": "code",
   "execution_count": 95,
   "id": "3ef3e66c-f9ab-4a74-ad3f-922ddcec494a",
   "metadata": {},
   "outputs": [
    {
     "data": {
      "text/plain": [
       "array([[   0,   91,  230],\n",
       "       [   0, 1112,   13],\n",
       "       [   0,  105,  352]], dtype=int64)"
      ]
     },
     "execution_count": 95,
     "metadata": {},
     "output_type": "execute_result"
    }
   ],
   "source": [
    "confusion_matrix(y_test, pred)\n",
    "# TR = confusion_matrix fonksiyonu ile y_test, pred kullanarak ne kadarını yanlış tahmin ettiğimizi buluyoruz\n",
    "# EN = Using the confusion_matrix function and y_test, pred, we find out how much we guessed wrong.\n",
    "\n",
    "# TR = 4 sayı değeri veriyor bize. Sol üst ve sağ alt doğru tahmin, sağ üst ve sol alt yanlış tahmin. \n",
    "# EN = It gives us 4 number values. Upper left and lower right are correct guesses, upper right and lower left are incorrect guesses."
   ]
  },
  {
   "cell_type": "code",
   "execution_count": 96,
   "id": "311c1aad-5f56-4d9b-883c-17352b6bf033",
   "metadata": {},
   "outputs": [
    {
     "data": {
      "image/png": "[encoded data removed]",
      "text/plain": [
       "<Figure size 640x480 with 2 Axes>"
      ]
     },
     "metadata": {},
     "output_type": "display_data"
    }
   ],
   "source": [
    "sns.heatmap(confusion_matrix(y_test, pred),annot=True);\n",
    "# TR = Yukarıdakinin görsel versiyonu.\n",
    "# EN = Visual version of the above."
   ]
  },
  {
   "cell_type": "code",
   "execution_count": 97,
   "id": "6e9e1b41-8867-474e-8ddb-7d7ea12cfa87",
   "metadata": {},
   "outputs": [
    {
     "name": "stdout",
     "output_type": "stream",
     "text": [
      "              precision    recall  f1-score   support\n",
      "\n",
      "           0       0.00      0.00      0.00       321\n",
      "           1       0.85      0.99      0.91      1125\n",
      "           2       0.59      0.77      0.67       457\n",
      "\n",
      "    accuracy                           0.77      1903\n",
      "   macro avg       0.48      0.59      0.53      1903\n",
      "weighted avg       0.64      0.77      0.70      1903\n",
      "\n"
     ]
    }
   ],
   "source": [
    "print(classification_report(y_test, pred))\n",
    "# TR = print içinde yazdık yoksa sayıların sıralanması bozuluyor.\n",
    "# EN = We wrote it in print, otherwise the order of the numbers will be disrupted.\n",
    "\n",
    "# TR = classification_report ile y_test, pred kullanarak precision, recall, f1-score ve support ulaştık.\n",
    "# EN = We achieved precision, recall, f1-score and support using classification_report and y_test, pred.\n",
    "\n",
    "# TR = Precision (Kesinlik): Doğru olarak pozitif tahmin edilen örneklerin, toplam pozitif tahmin edilen örnekler içindeki oranını gösterir. Yani, modelin pozitif sınıfı ne kadar doğru tahmin ettiğini ölçer.\n",
    "# EN = Precision (Precision): It shows the ratio of correctly predicted positive samples among the total positive predicted samples. That is, it measures how accurately the model predicts the positive class.\n",
    "\n",
    "# TR = Recall (Duyarlılık): Gerçek pozitif örneklerin, toplam pozitif örnekler içindeki oranını gösterir. Modelin pozitif sınıfı ne kadar iyi bulduğunu ölçer.\n",
    "# EN = Recall (Sensitivity): Shows the ratio of true positive samples in total positive samples. It measures how well the model finds the positive class.\n",
    "\n",
    "# TR = F1-score: Precision ve recall'un harmonik ortalamasıdır. Hem precision hem de recall'u dikkate alarak modelin genel performansını özetler.\n",
    "# EN = F1-score: It is the harmonic mean of precision and recall. It summarizes the overall performance of the model, taking into account both precision and recall.\n",
    "\n",
    "# TR = Support: Her sınıftan kaç örneğin bulunduğunu gösterir. Yani, gerçek etiketlerde her bir sınıfa ait kaç örnek olduğunu ifade eder.\n",
    "# EN = Support: Shows how many examples of each class are available. That is, it expresses how many examples of each class there are in the real labels."
   ]
  },
  {
   "cell_type": "code",
   "execution_count": 98,
   "id": "306c5674",
   "metadata": {},
   "outputs": [
    {
     "data": {
      "image/png": "[encoded data removed]",
      "text/plain": [
       "<Figure size 640x480 with 1 Axes>"
      ]
     },
     "metadata": {},
     "output_type": "display_data"
    }
   ],
   "source": [
    "plt.plot(graphic2.history['accuracy'],label='Accuracy')\n",
    "plt.plot(graphic2.history['val_accuracy'],label='Val_Accuracy')\n",
    "plt.legend();"
   ]
  },
  {
   "cell_type": "code",
   "execution_count": null,
   "id": "70451580-59ee-499b-9e55-83f2935b8083",
   "metadata": {},
   "outputs": [],
   "source": []
  }
 ],
 "metadata": {
  "kaggle": {
   "accelerator": "nvidiaTeslaT4",
   "dataSources": [
    {
     "datasetId": 5466773,
     "sourceId": 9064632,
     "sourceType": "datasetVersion"
    }
   ],
   "dockerImageVersionId": 30747,
   "isGpuEnabled": true,
   "isInternetEnabled": true,
   "language": "python",
   "sourceType": "notebook"
  },
  "kernelspec": {
   "display_name": "Python 3 (ipykernel)",
   "language": "python",
   "name": "python3"
  },
  "language_info": {
   "codemirror_mode": {
    "name": "ipython",
    "version": 3
   },
   "file_extension": ".py",
   "mimetype": "text/x-python",
   "name": "python",
   "nbconvert_exporter": "python",
   "pygments_lexer": "ipython3",
   "version": "3.12.4"
  }
 },
 "nbformat": 4,
 "nbformat_minor": 5
}
